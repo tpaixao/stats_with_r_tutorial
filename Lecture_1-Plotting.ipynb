{
 "cells": [
  {
   "cell_type": "markdown",
   "metadata": {},
   "source": [
    "# Basic plotting in R"
   ]
  },
  {
   "cell_type": "markdown",
   "metadata": {},
   "source": [
    "<div class=\"alert alert-info\">\n",
    "\n",
    "### This is a Jupyter notebook\n",
    "\n",
    "You can learn all about the Jupyter interface [here](https://realpython.com/jupyter-notebook-introduction/)\n",
    "\n",
    "Some basics: \n",
    "Jupyter has two modes: command and edit. When you click a cell, you enter ```edit mode``` and you can edit its contents. To exit ```edit mode```, you press ```ESC```.\n",
    "\n",
    "* Cells can be either code cells or text (or markdown) cells\n",
    "* To run cells, press Shift+enter \n",
    "* To turn a cell into a text cell, press `m` (markdown) in command mode\n",
    "* To create a new cell use `b` (new cell below) or `a` (above) in command mode\n",
    "\n",
    "</div>"
   ]
  },
  {
   "cell_type": "code",
   "execution_count": 8,
   "metadata": {
    "ExecuteTime": {
     "end_time": "2019-09-09T15:56:00.381041Z",
     "start_time": "2019-09-09T15:56:00.354Z"
    }
   },
   "outputs": [],
   "source": [
    "# this just sets the graphs to not be HUGE - you don't have to do it\n",
    "options(repr.plot.width=4, repr.plot.height=4)"
   ]
  },
  {
   "cell_type": "markdown",
   "metadata": {},
   "source": [
    "## Setting working directory"
   ]
  },
  {
   "cell_type": "markdown",
   "metadata": {},
   "source": [
    "First we set working directory (wd) to the place where our datafiles are:"
   ]
  },
  {
   "cell_type": "code",
   "execution_count": 4,
   "metadata": {
    "ExecuteTime": {
     "end_time": "2019-09-09T15:55:52.757333Z",
     "start_time": "2019-09-09T15:55:52.726Z"
    }
   },
   "outputs": [],
   "source": [
    "setwd(\"./datasets/HumanLifeExpectancy\")"
   ]
  },
  {
   "cell_type": "code",
   "execution_count": null,
   "metadata": {},
   "outputs": [],
   "source": [
    "You can check that you are in the correct working directory by listing the files there:"
   ]
  },
  {
   "cell_type": "code",
   "execution_count": 2,
   "metadata": {},
   "outputs": [
    {
     "data": {
      "text/html": [
       "<ol class=list-inline>\n",
       "\t<li>'HumanLifeExpectancy.txt'</li>\n",
       "\t<li>'LifeExpectancyPlot.R'</li>\n",
       "\t<li>'NormalisedLifeExpectancy.txt'</li>\n",
       "\t<li>'NormalisedLifeExpectancy.xlsx'</li>\n",
       "</ol>\n"
      ],
      "text/latex": [
       "\\begin{enumerate*}\n",
       "\\item 'HumanLifeExpectancy.txt'\n",
       "\\item 'LifeExpectancyPlot.R'\n",
       "\\item 'NormalisedLifeExpectancy.txt'\n",
       "\\item 'NormalisedLifeExpectancy.xlsx'\n",
       "\\end{enumerate*}\n"
      ],
      "text/markdown": [
       "1. 'HumanLifeExpectancy.txt'\n",
       "2. 'LifeExpectancyPlot.R'\n",
       "3. 'NormalisedLifeExpectancy.txt'\n",
       "4. 'NormalisedLifeExpectancy.xlsx'\n",
       "\n",
       "\n"
      ],
      "text/plain": [
       "[1] \"HumanLifeExpectancy.txt\"       \"LifeExpectancyPlot.R\"         \n",
       "[3] \"NormalisedLifeExpectancy.txt\"  \"NormalisedLifeExpectancy.xlsx\""
      ]
     },
     "metadata": {},
     "output_type": "display_data"
    }
   ],
   "source": [
    "dir()"
   ]
  },
  {
   "cell_type": "markdown",
   "metadata": {},
   "source": [
    "Alternatively, you can check the directory you are in directly, using the function ```getwd()```"
   ]
  },
  {
   "cell_type": "code",
   "execution_count": 6,
   "metadata": {},
   "outputs": [
    {
     "data": {
      "text/html": [
       "'C:/Users/paixao/Documents/Projects/stats_with_r_tutorial/datasets/HumanLifeExpectancy'"
      ],
      "text/latex": [
       "'C:/Users/paixao/Documents/Projects/stats\\_with\\_r\\_tutorial/datasets/HumanLifeExpectancy'"
      ],
      "text/markdown": [
       "'C:/Users/paixao/Documents/Projects/stats_with_r_tutorial/datasets/HumanLifeExpectancy'"
      ],
      "text/plain": [
       "[1] \"C:/Users/paixao/Documents/Projects/stats_with_r_tutorial/datasets/HumanLifeExpectancy\""
      ]
     },
     "metadata": {},
     "output_type": "display_data"
    }
   ],
   "source": [
    "getwd()"
   ]
  },
  {
   "cell_type": "markdown",
   "metadata": {},
   "source": [
    "## Reading datafiles\n",
    "\n",
    "We then read a datafile using the ```read.table``` command. \n",
    "\n",
    "The option ```header``` specifies if the first line (or row) has the names of the columns.\n",
    "The option ```sep``` specifies which character separates the data values. In this case it is the ```tab``` character which is specified as ```\\t```. Another common option is ```,```\n"
   ]
  },
  {
   "cell_type": "code",
   "execution_count": 5,
   "metadata": {
    "ExecuteTime": {
     "end_time": "2019-09-09T15:58:14.085692Z",
     "start_time": "2019-09-09T15:58:14.052Z"
    }
   },
   "outputs": [],
   "source": [
    "mytable <- read.table(\"HumanLifeExpectancy.txt\", header=TRUE,sep=\"\\t\")"
   ]
  },
  {
   "cell_type": "markdown",
   "metadata": {},
   "source": [
    "<div class=\"alert alert-info\">\n",
    "\n",
    "**Assignments**: In R, you can assign variables using either `<-` or `=`. Up to your personal taste.\n",
    "\n",
    "</div>\n",
    "\n",
    "The command `head()` prints only the top x rows of the table"
   ]
  },
  {
   "cell_type": "code",
   "execution_count": 6,
   "metadata": {
    "ExecuteTime": {
     "end_time": "2019-09-09T15:58:14.736917Z",
     "start_time": "2019-09-09T15:58:14.667Z"
    },
    "scrolled": true
   },
   "outputs": [
    {
     "data": {
      "text/html": [
       "<table>\n",
       "<caption>A data.frame: 5 × 3</caption>\n",
       "<thead>\n",
       "\t<tr><th scope=col>Year</th><th scope=col>Life.Expectancy</th><th scope=col>Country</th></tr>\n",
       "\t<tr><th scope=col>&lt;int&gt;</th><th scope=col>&lt;dbl&gt;</th><th scope=col>&lt;fct&gt;</th></tr>\n",
       "</thead>\n",
       "<tbody>\n",
       "\t<tr><td>1840</td><td>45.71</td><td>Sweden</td></tr>\n",
       "\t<tr><td>1843</td><td>47.90</td><td>Norway</td></tr>\n",
       "\t<tr><td>1848</td><td>48.64</td><td>Norway</td></tr>\n",
       "\t<tr><td>1853</td><td>51.19</td><td>Norway</td></tr>\n",
       "\t<tr><td>1858</td><td>51.73</td><td>Norway</td></tr>\n",
       "</tbody>\n",
       "</table>\n"
      ],
      "text/latex": [
       "A data.frame: 5 × 3\n",
       "\\begin{tabular}{r|lll}\n",
       " Year & Life.Expectancy & Country\\\\\n",
       " <int> & <dbl> & <fct>\\\\\n",
       "\\hline\n",
       "\t 1840 & 45.71 & Sweden\\\\\n",
       "\t 1843 & 47.90 & Norway\\\\\n",
       "\t 1848 & 48.64 & Norway\\\\\n",
       "\t 1853 & 51.19 & Norway\\\\\n",
       "\t 1858 & 51.73 & Norway\\\\\n",
       "\\end{tabular}\n"
      ],
      "text/markdown": [
       "\n",
       "A data.frame: 5 × 3\n",
       "\n",
       "| Year &lt;int&gt; | Life.Expectancy &lt;dbl&gt; | Country &lt;fct&gt; |\n",
       "|---|---|---|\n",
       "| 1840 | 45.71 | Sweden |\n",
       "| 1843 | 47.90 | Norway |\n",
       "| 1848 | 48.64 | Norway |\n",
       "| 1853 | 51.19 | Norway |\n",
       "| 1858 | 51.73 | Norway |\n",
       "\n"
      ],
      "text/plain": [
       "  Year Life.Expectancy Country\n",
       "1 1840 45.71           Sweden \n",
       "2 1843 47.90           Norway \n",
       "3 1848 48.64           Norway \n",
       "4 1853 51.19           Norway \n",
       "5 1858 51.73           Norway "
      ]
     },
     "metadata": {},
     "output_type": "display_data"
    }
   ],
   "source": [
    "head(mytable,5)"
   ]
  },
  {
   "cell_type": "markdown",
   "metadata": {},
   "source": [
    "### Tables\n",
    "\n",
    "In general, a table can be addressed by `table[row,col]`.\n",
    "\n",
    "The file we read has three columns named `Year`, `Life.Expectancy` and `Country`. You can refer to each of the columns by `table$column` or by `table[,'column']`.\n",
    "\n",
    "<div class=\"alert alert-danger\">\n",
    "\n",
    "**Notice** that if your column names have spaces you have to use `table[,\"column_name\"]`\n",
    "\n",
    "</div>"
   ]
  },
  {
   "cell_type": "markdown",
   "metadata": {},
   "source": [
    "You can get all the column names using the function `colnames()`. In the same way, you can get the names of the rows using `rownames()`"
   ]
  },
  {
   "cell_type": "code",
   "execution_count": 14,
   "metadata": {
    "ExecuteTime": {
     "end_time": "2019-09-09T15:27:43.790698Z",
     "start_time": "2019-09-09T15:27:42.878Z"
    }
   },
   "outputs": [
    {
     "data": {
      "text/html": [
       "<ol class=list-inline>\n",
       "\t<li>'Year'</li>\n",
       "\t<li>'Life.Expectancy'</li>\n",
       "\t<li>'Country'</li>\n",
       "</ol>\n"
      ],
      "text/latex": [
       "\\begin{enumerate*}\n",
       "\\item 'Year'\n",
       "\\item 'Life.Expectancy'\n",
       "\\item 'Country'\n",
       "\\end{enumerate*}\n"
      ],
      "text/markdown": [
       "1. 'Year'\n",
       "2. 'Life.Expectancy'\n",
       "3. 'Country'\n",
       "\n",
       "\n"
      ],
      "text/plain": [
       "[1] \"Year\"            \"Life.Expectancy\" \"Country\"        "
      ]
     },
     "metadata": {},
     "output_type": "display_data"
    },
    {
     "data": {
      "text/html": [
       "<ol class=list-inline>\n",
       "\t<li>'1'</li>\n",
       "\t<li>'2'</li>\n",
       "\t<li>'3'</li>\n",
       "\t<li>'4'</li>\n",
       "\t<li>'5'</li>\n",
       "\t<li>'6'</li>\n",
       "\t<li>'7'</li>\n",
       "\t<li>'8'</li>\n",
       "\t<li>'9'</li>\n",
       "\t<li>'10'</li>\n",
       "\t<li>'11'</li>\n",
       "\t<li>'12'</li>\n",
       "\t<li>'13'</li>\n",
       "\t<li>'14'</li>\n",
       "\t<li>'15'</li>\n",
       "\t<li>'16'</li>\n",
       "\t<li>'17'</li>\n",
       "\t<li>'18'</li>\n",
       "\t<li>'19'</li>\n",
       "\t<li>'20'</li>\n",
       "\t<li>'21'</li>\n",
       "\t<li>'22'</li>\n",
       "\t<li>'23'</li>\n",
       "\t<li>'24'</li>\n",
       "\t<li>'25'</li>\n",
       "\t<li>'26'</li>\n",
       "\t<li>'27'</li>\n",
       "\t<li>'28'</li>\n",
       "\t<li>'29'</li>\n",
       "\t<li>'30'</li>\n",
       "\t<li>'31'</li>\n",
       "\t<li>'32'</li>\n",
       "\t<li>'33'</li>\n",
       "\t<li>'34'</li>\n",
       "\t<li>'35'</li>\n",
       "\t<li>'36'</li>\n",
       "\t<li>'37'</li>\n",
       "\t<li>'38'</li>\n",
       "\t<li>'39'</li>\n",
       "\t<li>'40'</li>\n",
       "\t<li>'41'</li>\n",
       "\t<li>'42'</li>\n",
       "\t<li>'43'</li>\n",
       "\t<li>'44'</li>\n",
       "\t<li>'45'</li>\n",
       "\t<li>'46'</li>\n",
       "\t<li>'47'</li>\n",
       "\t<li>'48'</li>\n",
       "\t<li>'49'</li>\n",
       "\t<li>'50'</li>\n",
       "\t<li>'51'</li>\n",
       "\t<li>'52'</li>\n",
       "\t<li>'53'</li>\n",
       "\t<li>'54'</li>\n",
       "\t<li>'55'</li>\n",
       "\t<li>'56'</li>\n",
       "\t<li>'57'</li>\n",
       "\t<li>'58'</li>\n",
       "\t<li>'59'</li>\n",
       "\t<li>'60'</li>\n",
       "\t<li>'61'</li>\n",
       "\t<li>'62'</li>\n",
       "\t<li>'63'</li>\n",
       "\t<li>'64'</li>\n",
       "\t<li>'65'</li>\n",
       "\t<li>'66'</li>\n",
       "\t<li>'67'</li>\n",
       "\t<li>'68'</li>\n",
       "\t<li>'69'</li>\n",
       "\t<li>'70'</li>\n",
       "\t<li>'71'</li>\n",
       "\t<li>'72'</li>\n",
       "\t<li>'73'</li>\n",
       "\t<li>'74'</li>\n",
       "</ol>\n"
      ],
      "text/latex": [
       "\\begin{enumerate*}\n",
       "\\item '1'\n",
       "\\item '2'\n",
       "\\item '3'\n",
       "\\item '4'\n",
       "\\item '5'\n",
       "\\item '6'\n",
       "\\item '7'\n",
       "\\item '8'\n",
       "\\item '9'\n",
       "\\item '10'\n",
       "\\item '11'\n",
       "\\item '12'\n",
       "\\item '13'\n",
       "\\item '14'\n",
       "\\item '15'\n",
       "\\item '16'\n",
       "\\item '17'\n",
       "\\item '18'\n",
       "\\item '19'\n",
       "\\item '20'\n",
       "\\item '21'\n",
       "\\item '22'\n",
       "\\item '23'\n",
       "\\item '24'\n",
       "\\item '25'\n",
       "\\item '26'\n",
       "\\item '27'\n",
       "\\item '28'\n",
       "\\item '29'\n",
       "\\item '30'\n",
       "\\item '31'\n",
       "\\item '32'\n",
       "\\item '33'\n",
       "\\item '34'\n",
       "\\item '35'\n",
       "\\item '36'\n",
       "\\item '37'\n",
       "\\item '38'\n",
       "\\item '39'\n",
       "\\item '40'\n",
       "\\item '41'\n",
       "\\item '42'\n",
       "\\item '43'\n",
       "\\item '44'\n",
       "\\item '45'\n",
       "\\item '46'\n",
       "\\item '47'\n",
       "\\item '48'\n",
       "\\item '49'\n",
       "\\item '50'\n",
       "\\item '51'\n",
       "\\item '52'\n",
       "\\item '53'\n",
       "\\item '54'\n",
       "\\item '55'\n",
       "\\item '56'\n",
       "\\item '57'\n",
       "\\item '58'\n",
       "\\item '59'\n",
       "\\item '60'\n",
       "\\item '61'\n",
       "\\item '62'\n",
       "\\item '63'\n",
       "\\item '64'\n",
       "\\item '65'\n",
       "\\item '66'\n",
       "\\item '67'\n",
       "\\item '68'\n",
       "\\item '69'\n",
       "\\item '70'\n",
       "\\item '71'\n",
       "\\item '72'\n",
       "\\item '73'\n",
       "\\item '74'\n",
       "\\end{enumerate*}\n"
      ],
      "text/markdown": [
       "1. '1'\n",
       "2. '2'\n",
       "3. '3'\n",
       "4. '4'\n",
       "5. '5'\n",
       "6. '6'\n",
       "7. '7'\n",
       "8. '8'\n",
       "9. '9'\n",
       "10. '10'\n",
       "11. '11'\n",
       "12. '12'\n",
       "13. '13'\n",
       "14. '14'\n",
       "15. '15'\n",
       "16. '16'\n",
       "17. '17'\n",
       "18. '18'\n",
       "19. '19'\n",
       "20. '20'\n",
       "21. '21'\n",
       "22. '22'\n",
       "23. '23'\n",
       "24. '24'\n",
       "25. '25'\n",
       "26. '26'\n",
       "27. '27'\n",
       "28. '28'\n",
       "29. '29'\n",
       "30. '30'\n",
       "31. '31'\n",
       "32. '32'\n",
       "33. '33'\n",
       "34. '34'\n",
       "35. '35'\n",
       "36. '36'\n",
       "37. '37'\n",
       "38. '38'\n",
       "39. '39'\n",
       "40. '40'\n",
       "41. '41'\n",
       "42. '42'\n",
       "43. '43'\n",
       "44. '44'\n",
       "45. '45'\n",
       "46. '46'\n",
       "47. '47'\n",
       "48. '48'\n",
       "49. '49'\n",
       "50. '50'\n",
       "51. '51'\n",
       "52. '52'\n",
       "53. '53'\n",
       "54. '54'\n",
       "55. '55'\n",
       "56. '56'\n",
       "57. '57'\n",
       "58. '58'\n",
       "59. '59'\n",
       "60. '60'\n",
       "61. '61'\n",
       "62. '62'\n",
       "63. '63'\n",
       "64. '64'\n",
       "65. '65'\n",
       "66. '66'\n",
       "67. '67'\n",
       "68. '68'\n",
       "69. '69'\n",
       "70. '70'\n",
       "71. '71'\n",
       "72. '72'\n",
       "73. '73'\n",
       "74. '74'\n",
       "\n",
       "\n"
      ],
      "text/plain": [
       " [1] \"1\"  \"2\"  \"3\"  \"4\"  \"5\"  \"6\"  \"7\"  \"8\"  \"9\"  \"10\" \"11\" \"12\" \"13\" \"14\" \"15\"\n",
       "[16] \"16\" \"17\" \"18\" \"19\" \"20\" \"21\" \"22\" \"23\" \"24\" \"25\" \"26\" \"27\" \"28\" \"29\" \"30\"\n",
       "[31] \"31\" \"32\" \"33\" \"34\" \"35\" \"36\" \"37\" \"38\" \"39\" \"40\" \"41\" \"42\" \"43\" \"44\" \"45\"\n",
       "[46] \"46\" \"47\" \"48\" \"49\" \"50\" \"51\" \"52\" \"53\" \"54\" \"55\" \"56\" \"57\" \"58\" \"59\" \"60\"\n",
       "[61] \"61\" \"62\" \"63\" \"64\" \"65\" \"66\" \"67\" \"68\" \"69\" \"70\" \"71\" \"72\" \"73\" \"74\""
      ]
     },
     "metadata": {},
     "output_type": "display_data"
    }
   ],
   "source": [
    "# getting the column names\n",
    "colnames(mytable)\n",
    "# getting the row names\n",
    "rownames(mytable)\n",
    "\n"
   ]
  },
  {
   "cell_type": "markdown",
   "metadata": {},
   "source": [
    "You can rename columns by using `colnames`:"
   ]
  },
  {
   "cell_type": "code",
   "execution_count": 16,
   "metadata": {},
   "outputs": [
    {
     "data": {
      "text/html": [
       "<ol class=list-inline>\n",
       "\t<li>'Year'</li>\n",
       "\t<li>'LifeExpectancy'</li>\n",
       "\t<li>'Country'</li>\n",
       "</ol>\n"
      ],
      "text/latex": [
       "\\begin{enumerate*}\n",
       "\\item 'Year'\n",
       "\\item 'LifeExpectancy'\n",
       "\\item 'Country'\n",
       "\\end{enumerate*}\n"
      ],
      "text/markdown": [
       "1. 'Year'\n",
       "2. 'LifeExpectancy'\n",
       "3. 'Country'\n",
       "\n",
       "\n"
      ],
      "text/plain": [
       "[1] \"Year\"           \"LifeExpectancy\" \"Country\"       "
      ]
     },
     "metadata": {},
     "output_type": "display_data"
    }
   ],
   "source": [
    "colnames(mytable)[2]<-\"LifeExpectancy\"\n",
    "colnames(mytable)"
   ]
  },
  {
   "cell_type": "markdown",
   "metadata": {},
   "source": [
    "So, we have 3 columns: `Year`, `LifeExpectancy`, and `Country` and we have $74$ rows of data. Let's try to see how these variables are correlated. To get a pretty good description of a data table you can simply plot the table. R will plot every column against every other column."
   ]
  },
  {
   "cell_type": "code",
   "execution_count": 18,
   "metadata": {
    "ExecuteTime": {
     "end_time": "2019-09-09T15:31:29.265477Z",
     "start_time": "2019-09-09T15:31:29.009Z"
    },
    "scrolled": false
   },
   "outputs": [
    {
     "data": {
      "image/png": "[encoded data removed]",
      "text/plain": [
       "plot without title"
      ]
     },
     "metadata": {},
     "output_type": "display_data"
    }
   ],
   "source": [
    "plot(mytable)"
   ]
  },
  {
   "cell_type": "markdown",
   "metadata": {},
   "source": [
    "You can also get a lot of information about a table (any R object, really) by using `attributes()`"
   ]
  },
  {
   "cell_type": "code",
   "execution_count": 19,
   "metadata": {},
   "outputs": [
    {
     "data": {
      "text/html": [
       "<dl>\n",
       "\t<dt>$names</dt>\n",
       "\t\t<dd><ol class=list-inline>\n",
       "\t<li>'Year'</li>\n",
       "\t<li>'LifeExpectancy'</li>\n",
       "\t<li>'Country'</li>\n",
       "</ol>\n",
       "</dd>\n",
       "\t<dt>$class</dt>\n",
       "\t\t<dd>'data.frame'</dd>\n",
       "\t<dt>$row.names</dt>\n",
       "\t\t<dd><ol class=list-inline>\n",
       "\t<li>1</li>\n",
       "\t<li>2</li>\n",
       "\t<li>3</li>\n",
       "\t<li>4</li>\n",
       "\t<li>5</li>\n",
       "\t<li>6</li>\n",
       "\t<li>7</li>\n",
       "\t<li>8</li>\n",
       "\t<li>9</li>\n",
       "\t<li>10</li>\n",
       "\t<li>11</li>\n",
       "\t<li>12</li>\n",
       "\t<li>13</li>\n",
       "\t<li>14</li>\n",
       "\t<li>15</li>\n",
       "\t<li>16</li>\n",
       "\t<li>17</li>\n",
       "\t<li>18</li>\n",
       "\t<li>19</li>\n",
       "\t<li>20</li>\n",
       "\t<li>21</li>\n",
       "\t<li>22</li>\n",
       "\t<li>23</li>\n",
       "\t<li>24</li>\n",
       "\t<li>25</li>\n",
       "\t<li>26</li>\n",
       "\t<li>27</li>\n",
       "\t<li>28</li>\n",
       "\t<li>29</li>\n",
       "\t<li>30</li>\n",
       "\t<li>31</li>\n",
       "\t<li>32</li>\n",
       "\t<li>33</li>\n",
       "\t<li>34</li>\n",
       "\t<li>35</li>\n",
       "\t<li>36</li>\n",
       "\t<li>37</li>\n",
       "\t<li>38</li>\n",
       "\t<li>39</li>\n",
       "\t<li>40</li>\n",
       "\t<li>41</li>\n",
       "\t<li>42</li>\n",
       "\t<li>43</li>\n",
       "\t<li>44</li>\n",
       "\t<li>45</li>\n",
       "\t<li>46</li>\n",
       "\t<li>47</li>\n",
       "\t<li>48</li>\n",
       "\t<li>49</li>\n",
       "\t<li>50</li>\n",
       "\t<li>51</li>\n",
       "\t<li>52</li>\n",
       "\t<li>53</li>\n",
       "\t<li>54</li>\n",
       "\t<li>55</li>\n",
       "\t<li>56</li>\n",
       "\t<li>57</li>\n",
       "\t<li>58</li>\n",
       "\t<li>59</li>\n",
       "\t<li>60</li>\n",
       "\t<li>61</li>\n",
       "\t<li>62</li>\n",
       "\t<li>63</li>\n",
       "\t<li>64</li>\n",
       "\t<li>65</li>\n",
       "\t<li>66</li>\n",
       "\t<li>67</li>\n",
       "\t<li>68</li>\n",
       "\t<li>69</li>\n",
       "\t<li>70</li>\n",
       "\t<li>71</li>\n",
       "\t<li>72</li>\n",
       "\t<li>73</li>\n",
       "\t<li>74</li>\n",
       "</ol>\n",
       "</dd>\n",
       "</dl>\n"
      ],
      "text/latex": [
       "\\begin{description}\n",
       "\\item[\\$names] \\begin{enumerate*}\n",
       "\\item 'Year'\n",
       "\\item 'LifeExpectancy'\n",
       "\\item 'Country'\n",
       "\\end{enumerate*}\n",
       "\n",
       "\\item[\\$class] 'data.frame'\n",
       "\\item[\\$row.names] \\begin{enumerate*}\n",
       "\\item 1\n",
       "\\item 2\n",
       "\\item 3\n",
       "\\item 4\n",
       "\\item 5\n",
       "\\item 6\n",
       "\\item 7\n",
       "\\item 8\n",
       "\\item 9\n",
       "\\item 10\n",
       "\\item 11\n",
       "\\item 12\n",
       "\\item 13\n",
       "\\item 14\n",
       "\\item 15\n",
       "\\item 16\n",
       "\\item 17\n",
       "\\item 18\n",
       "\\item 19\n",
       "\\item 20\n",
       "\\item 21\n",
       "\\item 22\n",
       "\\item 23\n",
       "\\item 24\n",
       "\\item 25\n",
       "\\item 26\n",
       "\\item 27\n",
       "\\item 28\n",
       "\\item 29\n",
       "\\item 30\n",
       "\\item 31\n",
       "\\item 32\n",
       "\\item 33\n",
       "\\item 34\n",
       "\\item 35\n",
       "\\item 36\n",
       "\\item 37\n",
       "\\item 38\n",
       "\\item 39\n",
       "\\item 40\n",
       "\\item 41\n",
       "\\item 42\n",
       "\\item 43\n",
       "\\item 44\n",
       "\\item 45\n",
       "\\item 46\n",
       "\\item 47\n",
       "\\item 48\n",
       "\\item 49\n",
       "\\item 50\n",
       "\\item 51\n",
       "\\item 52\n",
       "\\item 53\n",
       "\\item 54\n",
       "\\item 55\n",
       "\\item 56\n",
       "\\item 57\n",
       "\\item 58\n",
       "\\item 59\n",
       "\\item 60\n",
       "\\item 61\n",
       "\\item 62\n",
       "\\item 63\n",
       "\\item 64\n",
       "\\item 65\n",
       "\\item 66\n",
       "\\item 67\n",
       "\\item 68\n",
       "\\item 69\n",
       "\\item 70\n",
       "\\item 71\n",
       "\\item 72\n",
       "\\item 73\n",
       "\\item 74\n",
       "\\end{enumerate*}\n",
       "\n",
       "\\end{description}\n"
      ],
      "text/markdown": [
       "$names\n",
       ":   1. 'Year'\n",
       "2. 'LifeExpectancy'\n",
       "3. 'Country'\n",
       "\n",
       "\n",
       "\n",
       "$class\n",
       ":   'data.frame'\n",
       "$row.names\n",
       ":   1. 1\n",
       "2. 2\n",
       "3. 3\n",
       "4. 4\n",
       "5. 5\n",
       "6. 6\n",
       "7. 7\n",
       "8. 8\n",
       "9. 9\n",
       "10. 10\n",
       "11. 11\n",
       "12. 12\n",
       "13. 13\n",
       "14. 14\n",
       "15. 15\n",
       "16. 16\n",
       "17. 17\n",
       "18. 18\n",
       "19. 19\n",
       "20. 20\n",
       "21. 21\n",
       "22. 22\n",
       "23. 23\n",
       "24. 24\n",
       "25. 25\n",
       "26. 26\n",
       "27. 27\n",
       "28. 28\n",
       "29. 29\n",
       "30. 30\n",
       "31. 31\n",
       "32. 32\n",
       "33. 33\n",
       "34. 34\n",
       "35. 35\n",
       "36. 36\n",
       "37. 37\n",
       "38. 38\n",
       "39. 39\n",
       "40. 40\n",
       "41. 41\n",
       "42. 42\n",
       "43. 43\n",
       "44. 44\n",
       "45. 45\n",
       "46. 46\n",
       "47. 47\n",
       "48. 48\n",
       "49. 49\n",
       "50. 50\n",
       "51. 51\n",
       "52. 52\n",
       "53. 53\n",
       "54. 54\n",
       "55. 55\n",
       "56. 56\n",
       "57. 57\n",
       "58. 58\n",
       "59. 59\n",
       "60. 60\n",
       "61. 61\n",
       "62. 62\n",
       "63. 63\n",
       "64. 64\n",
       "65. 65\n",
       "66. 66\n",
       "67. 67\n",
       "68. 68\n",
       "69. 69\n",
       "70. 70\n",
       "71. 71\n",
       "72. 72\n",
       "73. 73\n",
       "74. 74\n",
       "\n",
       "\n",
       "\n",
       "\n",
       "\n"
      ],
      "text/plain": [
       "$names\n",
       "[1] \"Year\"           \"LifeExpectancy\" \"Country\"       \n",
       "\n",
       "$class\n",
       "[1] \"data.frame\"\n",
       "\n",
       "$row.names\n",
       " [1]  1  2  3  4  5  6  7  8  9 10 11 12 13 14 15 16 17 18 19 20 21 22 23 24 25\n",
       "[26] 26 27 28 29 30 31 32 33 34 35 36 37 38 39 40 41 42 43 44 45 46 47 48 49 50\n",
       "[51] 51 52 53 54 55 56 57 58 59 60 61 62 63 64 65 66 67 68 69 70 71 72 73 74\n"
      ]
     },
     "metadata": {},
     "output_type": "display_data"
    }
   ],
   "source": [
    "attributes(mytable)"
   ]
  },
  {
   "cell_type": "markdown",
   "metadata": {},
   "source": [
    "## Plotting\n",
    "\n",
    "\n",
    "Let's now plot the data in the table in a more intelligible way. Notice that each row has three pieces of information: `Life Expectancy`, `Year`, and `Country`. `LifeExpectancy` and `Year` are numerical values but `Country` is a *categorical* variable. R knows this, and immediately assigns integer numbers to each of the categories.\n",
    "\n",
    "To see this, let's plot `LifeExpectancy` against `Country`."
   ]
  },
  {
   "cell_type": "code",
   "execution_count": 23,
   "metadata": {},
   "outputs": [
    {
     "data": {
      "image/png": "[encoded data removed]",
      "text/plain": [
       "Plot with title \"Life expectancy per Country\""
      ]
     },
     "metadata": {},
     "output_type": "display_data"
    }
   ],
   "source": [
    "plot(mytable$Country, mytable$LifeExpectancy,main=\"Life expectancy per Country\",xlab=\"Country\", ylab=\"Life expectancy (Year)\")"
   ]
  },
  {
   "cell_type": "markdown",
   "metadata": {},
   "source": [
    "As you can see, `plot()` is very smart. It recognizes that in the `xx` axis there is a categorical variable and that for each of its values there are many numerical `yy` values. It then decides that the best kind of plot is a series of [box plots](https://en.wikipedia.org/wiki/Box_plot). You can force R to use different types of plot. More on that later.\n",
    "\n",
    "<div class=\"alert alert-info\">\n",
    "    \n",
    "To know more about any command you can always do `help(command)`. Or google...\n",
    "\n",
    "</div>\n",
    "\n",
    "R did not plot labels for all the countries. Let's fix that. First, the `levels()` function will return the unique categorical values, in the order that R uses them. We will use this for the labels.\n"
   ]
  },
  {
   "cell_type": "code",
   "execution_count": 58,
   "metadata": {},
   "outputs": [
    {
     "data": {
      "image/png": "[encoded data removed]",
      "text/plain": [
       "Plot with title \"Life expectancy per Country\""
      ]
     },
     "metadata": {},
     "output_type": "display_data"
    }
   ],
   "source": [
    "labs = levels(mytable$Country)\n",
    "nlabs= nlevels(mytable$Country)\n",
    "\n",
    "plot(mytable$Country, mytable$LifeExpectancy,xaxt=\"n\",main=\"Life expectancy per Country\",xlab=\"\", ylab=\"Life expectancy (Year)\")\n",
    "\n",
    "axis(side=1, at=1:nlabs, labels=labs,las=2)"
   ]
  },
  {
   "cell_type": "markdown",
   "metadata": {},
   "source": [
    "Obviously, howver and in spite of **R**\\'s smarts, this is **not** the right graph to do with this data. This is because the data that it is using to build the box plots is life expectancies in different years. Clearly not a Good Choice (tm). \n",
    "\n",
    "The more obvious choice is to plot Life Expectancy as a function of the year in which it was measured."
   ]
  },
  {
   "cell_type": "code",
   "execution_count": 60,
   "metadata": {},
   "outputs": [
    {
     "data": {
      "image/png": "[encoded data removed]",
      "text/plain": [
       "Plot with title \"Life expectancy\""
      ]
     },
     "metadata": {},
     "output_type": "display_data"
    }
   ],
   "source": [
    "plot(mytable$Year, mytable$LifeExpectancy,main=\"Life expectancy\",xlab=\"Year\", ylab=\"Life expectancy (Year)\")\n"
   ]
  },
  {
   "cell_type": "markdown",
   "metadata": {},
   "source": [
    "That seems more intelligible! However, it would be good to differentiate between countries. We know there are data for $8$ countries (as `nlevels(mytable)` will tell you). So, let's pick 8 colors and use them to color data points from the different countries:"
   ]
  },
  {
   "cell_type": "code",
   "execution_count": 86,
   "metadata": {},
   "outputs": [
    {
     "data": {
      "image/png": "[encoded data removed]",
      "text/plain": [
       "Plot with title \"Life expectancy\""
      ]
     },
     "metadata": {},
     "output_type": "display_data"
    }
   ],
   "source": [
    "color = rainbow(8) # this chooses 8 colors from the rainbow\n",
    "\n",
    "# color[mytable$Country]\n",
    "\n",
    "plot(mytable$Year, mytable$LifeExpectancy,main=\"Life expectancy\",xlab=\"Year\", ylab=\"Life expectancy (Year)\",pch=16,col=color[mytable$Country])\n",
    "\n",
    "legend(1850,85,legend=levels(mytable$Country),col=color,pch=16,box.lty=0,y.intersp = 2,x.intersp=2,cex=.8)"
   ]
  },
  {
   "cell_type": "markdown",
   "metadata": {},
   "source": [
    "This one was a bit though. Let's break it down:\n",
    "\n",
    "```\n",
    "plot(mytable$Year, mytable$LifeExpectancy,main=\"Life expectancy\",xlab=\"Year\", ylab=\"Life expectancy (Year)\",pch=16,col=color[mytable$Country])\n",
    "```\n",
    "\n",
    "the parameters that we used were:\n",
    "\n",
    "* `main`: sets the title of the plot\n",
    "* `xlab` and `ylab` set the labels for the x and y axes\n",
    "* `pch` (**p**rint **ch**aracter) sets the character that is used for each point. Numerical values are different symbols. Experiment with them.\n",
    "* `col` (**col**ors) sets the color for each individual point. It should be a vector of the same size as the data, with the color of each datapoint\n",
    "\n",
    "the `color` variable is a vector of 8 colors. `mytable$Country` has the countries, but **R** will interpret them also as numerical values from 1 to 8 (the levels). So, color[mytable$Country] will be a vector of the size of `mytable$Country` (the number of rows in the table) with a color at each entry corresponding to the color of the country."
   ]
  },
  {
   "cell_type": "markdown",
   "metadata": {},
   "source": []
  },
  {
   "cell_type": "code",
   "execution_count": null,
   "metadata": {},
   "outputs": [],
   "source": [
    "\n",
    "\n",
    "plot(mytable$Year, mytable$Life.Expectancy,t=\"b\",main=\"Life expectancy\",xlab=\"Year\", ylab=\"Life expectancy (Year)\")\n",
    "\n",
    "plot(mytable$Year, mytable$Life.Expectancy,t=\"p\",main=\"Life expectancy\",xlab=\"Year\", ylab=\"Life expectancy (Year)\", cex=3,pch=16,col=color[mytable$Country],cex.lab=1.5, cex.axis=1.5,cex.main=2)\n",
    "\n",
    "lines(mytable$Year, mytable$Life.Expectancy,lwd=2,lty=2)\n",
    "\n",
    "\n",
    "plot(mytable$Year, mytable$Life.Expectancy,t=\"b\",main=\"Life expectancy\",xlab=\"Year\", ylab=\"Life expectancy (Year)\")\n",
    "\n",
    "\n",
    "mytable$Normalised.Life.Expectancy<-mytable$Life.Expectancy\n",
    "\n",
    "mi<-min(mytable$Life.Expectancy)\n",
    "ma<-max(mytable$Life.Expectancy)\n",
    "range<-ma-mi\n",
    "\n",
    "range<-max(mytable$Life.Expectancy)-min(mytable$Life.Expectancy)\n",
    "\n",
    "mytable$Normalised.Life.Expectancy<-(mytable$Life.Expectancy-mi)/range\n",
    "\n",
    "\n",
    "plot(mytable$Year, mytable$Normalised.Life.Expectancy,t=\"b\",main=\"Life expectancy\",xlab=\"Year\", ylab=\"Life expectancy (Year)\")\n"
   ]
  },
  {
   "cell_type": "markdown",
   "metadata": {},
   "source": []
  },
  {
   "cell_type": "code",
   "execution_count": 20,
   "metadata": {
    "ExecuteTime": {
     "end_time": "2019-09-09T15:39:50.215224Z",
     "start_time": "2019-09-09T15:39:49.922Z"
    }
   },
   "outputs": [
    {
     "data": {
      "text/html": [
       "'C:/Users/t.paixao/Documents/IGC/datasets/HumanLifeExpectancy'"
      ],
      "text/latex": [
       "'C:/Users/t.paixao/Documents/IGC/datasets/HumanLifeExpectancy'"
      ],
      "text/markdown": [
       "'C:/Users/t.paixao/Documents/IGC/datasets/HumanLifeExpectancy'"
      ],
      "text/plain": [
       "[1] \"C:/Users/t.paixao/Documents/IGC/datasets/HumanLifeExpectancy\""
      ]
     },
     "metadata": {},
     "output_type": "display_data"
    },
    {
     "data": {
      "text/html": [
       "<ol class=list-inline>\n",
       "\t<li>'Year'</li>\n",
       "\t<li>'Life.Expectancy'</li>\n",
       "\t<li>'Country'</li>\n",
       "</ol>\n"
      ],
      "text/latex": [
       "\\begin{enumerate*}\n",
       "\\item 'Year'\n",
       "\\item 'Life.Expectancy'\n",
       "\\item 'Country'\n",
       "\\end{enumerate*}\n"
      ],
      "text/markdown": [
       "1. 'Year'\n",
       "2. 'Life.Expectancy'\n",
       "3. 'Country'\n",
       "\n",
       "\n"
      ],
      "text/plain": [
       "[1] \"Year\"            \"Life.Expectancy\" \"Country\"        "
      ]
     },
     "metadata": {},
     "output_type": "display_data"
    },
    {
     "ename": "ERROR",
     "evalue": "Error in `[.data.frame`(mytable, , c(1, 4, 3)): undefined columns selected\n",
     "output_type": "error",
     "traceback": [
      "Error in `[.data.frame`(mytable, , c(1, 4, 3)): undefined columns selected\nTraceback:\n",
      "1. write.table(mytable[, c(1, 4, 3)], \"NormalisedLifeExpectancy_mine.txt\", \n .     sep = \"\\t\", row.names = FALSE)",
      "2. is.data.frame(x)",
      "3. mytable[, c(1, 4, 3)]",
      "4. `[.data.frame`(mytable, , c(1, 4, 3))",
      "5. stop(\"undefined columns selected\")"
     ]
    }
   ],
   "source": [
    "# writing to files\n",
    "\n",
    "getwd()\n",
    "\n",
    "help(write.table)\n",
    "colnames(mytable)\n",
    "\n",
    "write.table(mytable[,c(1,4,3)],\"NormalisedLifeExpectancy_mine.txt\",sep=\"\\t\",row.names=FALSE)\n",
    "\n",
    "\n",
    "\n"
   ]
  },
  {
   "cell_type": "markdown",
   "metadata": {
    "ExecuteTime": {
     "end_time": "2019-09-09T15:42:32.746021Z",
     "start_time": "2019-09-09T15:41:26.120Z"
    }
   },
   "source": [
    "install.packages(\"xlsx\", repos='http://cran.us.r-project.org')"
   ]
  },
  {
   "cell_type": "code",
   "execution_count": 2,
   "metadata": {
    "ExecuteTime": {
     "end_time": "2019-09-09T15:55:38.937775Z",
     "start_time": "2019-09-09T15:55:37.976Z"
    }
   },
   "outputs": [
    {
     "name": "stderr",
     "output_type": "stream",
     "text": [
      "Loading required package: xlsx\n"
     ]
    }
   ],
   "source": [
    "# Using Excel files\n",
    "require(xlsx)"
   ]
  },
  {
   "cell_type": "code",
   "execution_count": 9,
   "metadata": {
    "ExecuteTime": {
     "end_time": "2019-09-09T15:57:26.350575Z",
     "start_time": "2019-09-09T15:57:25.471Z"
    }
   },
   "outputs": [
    {
     "data": {
      "text/html": [
       "<table>\n",
       "<thead><tr><th scope=col>Year</th><th scope=col>Life.Expectancy</th><th scope=col>Country</th><th scope=col>Normalised.Life.Expectancy</th></tr></thead>\n",
       "<tbody>\n",
       "\t<tr><td>1840       </td><td>45.71      </td><td>Sweden     </td><td>0.00000000 </td></tr>\n",
       "\t<tr><td>1843       </td><td>47.90      </td><td>Norway     </td><td>0.05628373 </td></tr>\n",
       "\t<tr><td>1848       </td><td>48.64      </td><td>Norway     </td><td>0.07530198 </td></tr>\n",
       "\t<tr><td>1853       </td><td>51.19      </td><td>Norway     </td><td>0.14083783 </td></tr>\n",
       "\t<tr><td>1858       </td><td>51.73      </td><td>Norway     </td><td>0.15471601 </td></tr>\n",
       "\t<tr><td>1863       </td><td>49.70      </td><td>Australia  </td><td>0.10254433 </td></tr>\n",
       "\t<tr><td>1868       </td><td>50.65      </td><td>Norway     </td><td>0.12695965 </td></tr>\n",
       "\t<tr><td>1873       </td><td>50.45      </td><td>Norway     </td><td>0.12181958 </td></tr>\n",
       "\t<tr><td>1876       </td><td>54.22      </td><td>New Zealand</td><td>0.21870984 </td></tr>\n",
       "\t<tr><td>1886       </td><td>57.26      </td><td>New Zealand</td><td>0.29683886 </td></tr>\n",
       "\t<tr><td>1893       </td><td>58.09      </td><td>New Zealand</td><td>0.31817014 </td></tr>\n",
       "\t<tr><td>1898       </td><td>59.95      </td><td>New Zealand</td><td>0.36597276 </td></tr>\n",
       "\t<tr><td>1903       </td><td>60.55      </td><td>New Zealand</td><td>0.38139296 </td></tr>\n",
       "\t<tr><td>1908       </td><td>61.76      </td><td>New Zealand</td><td>0.41249036 </td></tr>\n",
       "\t<tr><td>1913       </td><td>63.48      </td><td>New Zealand</td><td>0.45669494 </td></tr>\n",
       "\t<tr><td>1922       </td><td>65.43      </td><td>New Zealand</td><td>0.50681059 </td></tr>\n",
       "\t<tr><td>1926       </td><td>66.57      </td><td>New Zealand</td><td>0.53610897 </td></tr>\n",
       "\t<tr><td>1931       </td><td>67.88      </td><td>New Zealand</td><td>0.56977641 </td></tr>\n",
       "\t<tr><td>1936       </td><td>68.45      </td><td>New Zealand</td><td>0.58442560 </td></tr>\n",
       "\t<tr><td>1938       </td><td>68.94      </td><td>Norway     </td><td>0.59701876 </td></tr>\n",
       "\t<tr><td>1946       </td><td>71.28      </td><td>Norway     </td><td>0.65715754 </td></tr>\n",
       "\t<tr><td>1948       </td><td>72.80      </td><td>Norway     </td><td>0.69622205 </td></tr>\n",
       "\t<tr><td>1949       </td><td>73.03      </td><td>Norway     </td><td>0.70213313 </td></tr>\n",
       "\t<tr><td>1950       </td><td>73.21      </td><td>Norway     </td><td>0.70675919 </td></tr>\n",
       "\t<tr><td>1951       </td><td>75.00      </td><td>Iceland    </td><td>0.75276279 </td></tr>\n",
       "\t<tr><td>1952       </td><td>75.00      </td><td>Iceland    </td><td>0.75276279 </td></tr>\n",
       "\t<tr><td>1953       </td><td>75.02      </td><td>Iceland    </td><td>0.75327679 </td></tr>\n",
       "\t<tr><td>1954       </td><td>75.05      </td><td>Iceland    </td><td>0.75404780 </td></tr>\n",
       "\t<tr><td>1955       </td><td>75.28      </td><td>Norway     </td><td>0.75995888 </td></tr>\n",
       "\t<tr><td>1956       </td><td>75.47      </td><td>Norway     </td><td>0.76484194 </td></tr>\n",
       "\t<tr><td>...</td><td>...</td><td>...</td><td>...</td></tr>\n",
       "\t<tr><td>1971       </td><td>77.40      </td><td>Sweden     </td><td>0.8144436  </td></tr>\n",
       "\t<tr><td>1972       </td><td>77.54      </td><td>Sweden     </td><td>0.8180416  </td></tr>\n",
       "\t<tr><td>1973       </td><td>77.72      </td><td>Sweden     </td><td>0.8226677  </td></tr>\n",
       "\t<tr><td>1974       </td><td>78.26      </td><td>Iceland    </td><td>0.8365459  </td></tr>\n",
       "\t<tr><td>1975       </td><td>78.97      </td><td>Iceland    </td><td>0.8547931  </td></tr>\n",
       "\t<tr><td>1976       </td><td>80.15      </td><td>Iceland    </td><td>0.8851195  </td></tr>\n",
       "\t<tr><td>1977       </td><td>79.81      </td><td>Iceland    </td><td>0.8763814  </td></tr>\n",
       "\t<tr><td>1978       </td><td>80.02      </td><td>Iceland    </td><td>0.8817785  </td></tr>\n",
       "\t<tr><td>1979       </td><td>79.73      </td><td>Iceland    </td><td>0.8743254  </td></tr>\n",
       "\t<tr><td>1980       </td><td>80.55      </td><td>Iceland    </td><td>0.8953996  </td></tr>\n",
       "\t<tr><td>1981       </td><td>79.91      </td><td>Iceland    </td><td>0.8789514  </td></tr>\n",
       "\t<tr><td>1982       </td><td>79.78      </td><td>Iceland    </td><td>0.8756104  </td></tr>\n",
       "\t<tr><td>1983       </td><td>80.64      </td><td>Iceland    </td><td>0.8977127  </td></tr>\n",
       "\t<tr><td>1984       </td><td>80.57      </td><td>Iceland    </td><td>0.8959136  </td></tr>\n",
       "\t<tr><td>1985       </td><td>80.50      </td><td>Switzerland</td><td>0.8941146  </td></tr>\n",
       "\t<tr><td>1986       </td><td>80.90      </td><td>Japan      </td><td>0.9043948  </td></tr>\n",
       "\t<tr><td>1987       </td><td>81.40      </td><td>Japan      </td><td>0.9172449  </td></tr>\n",
       "\t<tr><td>1988       </td><td>81.30      </td><td>Japan      </td><td>0.9146749  </td></tr>\n",
       "\t<tr><td>1989       </td><td>81.70      </td><td>Japan      </td><td>0.9249550  </td></tr>\n",
       "\t<tr><td>1990       </td><td>81.80      </td><td>Japan      </td><td>0.9275251  </td></tr>\n",
       "\t<tr><td>1991       </td><td>82.11      </td><td>Japan      </td><td>0.9354922  </td></tr>\n",
       "\t<tr><td>1992       </td><td>82.22      </td><td>Japan      </td><td>0.9383192  </td></tr>\n",
       "\t<tr><td>1993       </td><td>82.51      </td><td>Japan      </td><td>0.9457723  </td></tr>\n",
       "\t<tr><td>1994       </td><td>82.98      </td><td>Japan      </td><td>0.9578515  </td></tr>\n",
       "\t<tr><td>1995       </td><td>83.26      </td><td>Japan      </td><td>0.9650475  </td></tr>\n",
       "\t<tr><td>1996       </td><td>83.60      </td><td>Japan      </td><td>0.9737857  </td></tr>\n",
       "\t<tr><td>1997       </td><td>83.80      </td><td>Japan      </td><td>0.9789257  </td></tr>\n",
       "\t<tr><td>1998       </td><td>84.00      </td><td>Japan      </td><td>0.9840658  </td></tr>\n",
       "\t<tr><td>1999       </td><td>83.90      </td><td>Japan      </td><td>0.9814958  </td></tr>\n",
       "\t<tr><td>2000       </td><td>84.62      </td><td>Japan      </td><td>1.0000000  </td></tr>\n",
       "</tbody>\n",
       "</table>\n"
      ],
      "text/latex": [
       "\\begin{tabular}{r|llll}\n",
       " Year & Life.Expectancy & Country & Normalised.Life.Expectancy\\\\\n",
       "\\hline\n",
       "\t 1840        & 45.71       & Sweden      & 0.00000000 \\\\\n",
       "\t 1843        & 47.90       & Norway      & 0.05628373 \\\\\n",
       "\t 1848        & 48.64       & Norway      & 0.07530198 \\\\\n",
       "\t 1853        & 51.19       & Norway      & 0.14083783 \\\\\n",
       "\t 1858        & 51.73       & Norway      & 0.15471601 \\\\\n",
       "\t 1863        & 49.70       & Australia   & 0.10254433 \\\\\n",
       "\t 1868        & 50.65       & Norway      & 0.12695965 \\\\\n",
       "\t 1873        & 50.45       & Norway      & 0.12181958 \\\\\n",
       "\t 1876        & 54.22       & New Zealand & 0.21870984 \\\\\n",
       "\t 1886        & 57.26       & New Zealand & 0.29683886 \\\\\n",
       "\t 1893        & 58.09       & New Zealand & 0.31817014 \\\\\n",
       "\t 1898        & 59.95       & New Zealand & 0.36597276 \\\\\n",
       "\t 1903        & 60.55       & New Zealand & 0.38139296 \\\\\n",
       "\t 1908        & 61.76       & New Zealand & 0.41249036 \\\\\n",
       "\t 1913        & 63.48       & New Zealand & 0.45669494 \\\\\n",
       "\t 1922        & 65.43       & New Zealand & 0.50681059 \\\\\n",
       "\t 1926        & 66.57       & New Zealand & 0.53610897 \\\\\n",
       "\t 1931        & 67.88       & New Zealand & 0.56977641 \\\\\n",
       "\t 1936        & 68.45       & New Zealand & 0.58442560 \\\\\n",
       "\t 1938        & 68.94       & Norway      & 0.59701876 \\\\\n",
       "\t 1946        & 71.28       & Norway      & 0.65715754 \\\\\n",
       "\t 1948        & 72.80       & Norway      & 0.69622205 \\\\\n",
       "\t 1949        & 73.03       & Norway      & 0.70213313 \\\\\n",
       "\t 1950        & 73.21       & Norway      & 0.70675919 \\\\\n",
       "\t 1951        & 75.00       & Iceland     & 0.75276279 \\\\\n",
       "\t 1952        & 75.00       & Iceland     & 0.75276279 \\\\\n",
       "\t 1953        & 75.02       & Iceland     & 0.75327679 \\\\\n",
       "\t 1954        & 75.05       & Iceland     & 0.75404780 \\\\\n",
       "\t 1955        & 75.28       & Norway      & 0.75995888 \\\\\n",
       "\t 1956        & 75.47       & Norway      & 0.76484194 \\\\\n",
       "\t ... & ... & ... & ...\\\\\n",
       "\t 1971        & 77.40       & Sweden      & 0.8144436  \\\\\n",
       "\t 1972        & 77.54       & Sweden      & 0.8180416  \\\\\n",
       "\t 1973        & 77.72       & Sweden      & 0.8226677  \\\\\n",
       "\t 1974        & 78.26       & Iceland     & 0.8365459  \\\\\n",
       "\t 1975        & 78.97       & Iceland     & 0.8547931  \\\\\n",
       "\t 1976        & 80.15       & Iceland     & 0.8851195  \\\\\n",
       "\t 1977        & 79.81       & Iceland     & 0.8763814  \\\\\n",
       "\t 1978        & 80.02       & Iceland     & 0.8817785  \\\\\n",
       "\t 1979        & 79.73       & Iceland     & 0.8743254  \\\\\n",
       "\t 1980        & 80.55       & Iceland     & 0.8953996  \\\\\n",
       "\t 1981        & 79.91       & Iceland     & 0.8789514  \\\\\n",
       "\t 1982        & 79.78       & Iceland     & 0.8756104  \\\\\n",
       "\t 1983        & 80.64       & Iceland     & 0.8977127  \\\\\n",
       "\t 1984        & 80.57       & Iceland     & 0.8959136  \\\\\n",
       "\t 1985        & 80.50       & Switzerland & 0.8941146  \\\\\n",
       "\t 1986        & 80.90       & Japan       & 0.9043948  \\\\\n",
       "\t 1987        & 81.40       & Japan       & 0.9172449  \\\\\n",
       "\t 1988        & 81.30       & Japan       & 0.9146749  \\\\\n",
       "\t 1989        & 81.70       & Japan       & 0.9249550  \\\\\n",
       "\t 1990        & 81.80       & Japan       & 0.9275251  \\\\\n",
       "\t 1991        & 82.11       & Japan       & 0.9354922  \\\\\n",
       "\t 1992        & 82.22       & Japan       & 0.9383192  \\\\\n",
       "\t 1993        & 82.51       & Japan       & 0.9457723  \\\\\n",
       "\t 1994        & 82.98       & Japan       & 0.9578515  \\\\\n",
       "\t 1995        & 83.26       & Japan       & 0.9650475  \\\\\n",
       "\t 1996        & 83.60       & Japan       & 0.9737857  \\\\\n",
       "\t 1997        & 83.80       & Japan       & 0.9789257  \\\\\n",
       "\t 1998        & 84.00       & Japan       & 0.9840658  \\\\\n",
       "\t 1999        & 83.90       & Japan       & 0.9814958  \\\\\n",
       "\t 2000        & 84.62       & Japan       & 1.0000000  \\\\\n",
       "\\end{tabular}\n"
      ],
      "text/markdown": [
       "\n",
       "| Year | Life.Expectancy | Country | Normalised.Life.Expectancy |\n",
       "|---|---|---|---|\n",
       "| 1840        | 45.71       | Sweden      | 0.00000000  |\n",
       "| 1843        | 47.90       | Norway      | 0.05628373  |\n",
       "| 1848        | 48.64       | Norway      | 0.07530198  |\n",
       "| 1853        | 51.19       | Norway      | 0.14083783  |\n",
       "| 1858        | 51.73       | Norway      | 0.15471601  |\n",
       "| 1863        | 49.70       | Australia   | 0.10254433  |\n",
       "| 1868        | 50.65       | Norway      | 0.12695965  |\n",
       "| 1873        | 50.45       | Norway      | 0.12181958  |\n",
       "| 1876        | 54.22       | New Zealand | 0.21870984  |\n",
       "| 1886        | 57.26       | New Zealand | 0.29683886  |\n",
       "| 1893        | 58.09       | New Zealand | 0.31817014  |\n",
       "| 1898        | 59.95       | New Zealand | 0.36597276  |\n",
       "| 1903        | 60.55       | New Zealand | 0.38139296  |\n",
       "| 1908        | 61.76       | New Zealand | 0.41249036  |\n",
       "| 1913        | 63.48       | New Zealand | 0.45669494  |\n",
       "| 1922        | 65.43       | New Zealand | 0.50681059  |\n",
       "| 1926        | 66.57       | New Zealand | 0.53610897  |\n",
       "| 1931        | 67.88       | New Zealand | 0.56977641  |\n",
       "| 1936        | 68.45       | New Zealand | 0.58442560  |\n",
       "| 1938        | 68.94       | Norway      | 0.59701876  |\n",
       "| 1946        | 71.28       | Norway      | 0.65715754  |\n",
       "| 1948        | 72.80       | Norway      | 0.69622205  |\n",
       "| 1949        | 73.03       | Norway      | 0.70213313  |\n",
       "| 1950        | 73.21       | Norway      | 0.70675919  |\n",
       "| 1951        | 75.00       | Iceland     | 0.75276279  |\n",
       "| 1952        | 75.00       | Iceland     | 0.75276279  |\n",
       "| 1953        | 75.02       | Iceland     | 0.75327679  |\n",
       "| 1954        | 75.05       | Iceland     | 0.75404780  |\n",
       "| 1955        | 75.28       | Norway      | 0.75995888  |\n",
       "| 1956        | 75.47       | Norway      | 0.76484194  |\n",
       "| ... | ... | ... | ... |\n",
       "| 1971        | 77.40       | Sweden      | 0.8144436   |\n",
       "| 1972        | 77.54       | Sweden      | 0.8180416   |\n",
       "| 1973        | 77.72       | Sweden      | 0.8226677   |\n",
       "| 1974        | 78.26       | Iceland     | 0.8365459   |\n",
       "| 1975        | 78.97       | Iceland     | 0.8547931   |\n",
       "| 1976        | 80.15       | Iceland     | 0.8851195   |\n",
       "| 1977        | 79.81       | Iceland     | 0.8763814   |\n",
       "| 1978        | 80.02       | Iceland     | 0.8817785   |\n",
       "| 1979        | 79.73       | Iceland     | 0.8743254   |\n",
       "| 1980        | 80.55       | Iceland     | 0.8953996   |\n",
       "| 1981        | 79.91       | Iceland     | 0.8789514   |\n",
       "| 1982        | 79.78       | Iceland     | 0.8756104   |\n",
       "| 1983        | 80.64       | Iceland     | 0.8977127   |\n",
       "| 1984        | 80.57       | Iceland     | 0.8959136   |\n",
       "| 1985        | 80.50       | Switzerland | 0.8941146   |\n",
       "| 1986        | 80.90       | Japan       | 0.9043948   |\n",
       "| 1987        | 81.40       | Japan       | 0.9172449   |\n",
       "| 1988        | 81.30       | Japan       | 0.9146749   |\n",
       "| 1989        | 81.70       | Japan       | 0.9249550   |\n",
       "| 1990        | 81.80       | Japan       | 0.9275251   |\n",
       "| 1991        | 82.11       | Japan       | 0.9354922   |\n",
       "| 1992        | 82.22       | Japan       | 0.9383192   |\n",
       "| 1993        | 82.51       | Japan       | 0.9457723   |\n",
       "| 1994        | 82.98       | Japan       | 0.9578515   |\n",
       "| 1995        | 83.26       | Japan       | 0.9650475   |\n",
       "| 1996        | 83.60       | Japan       | 0.9737857   |\n",
       "| 1997        | 83.80       | Japan       | 0.9789257   |\n",
       "| 1998        | 84.00       | Japan       | 0.9840658   |\n",
       "| 1999        | 83.90       | Japan       | 0.9814958   |\n",
       "| 2000        | 84.62       | Japan       | 1.0000000   |\n",
       "\n"
      ],
      "text/plain": [
       "    Year Life.Expectancy Country     Normalised.Life.Expectancy\n",
       "1   1840 45.71           Sweden      0.00000000                \n",
       "2   1843 47.90           Norway      0.05628373                \n",
       "3   1848 48.64           Norway      0.07530198                \n",
       "4   1853 51.19           Norway      0.14083783                \n",
       "5   1858 51.73           Norway      0.15471601                \n",
       "6   1863 49.70           Australia   0.10254433                \n",
       "7   1868 50.65           Norway      0.12695965                \n",
       "8   1873 50.45           Norway      0.12181958                \n",
       "9   1876 54.22           New Zealand 0.21870984                \n",
       "10  1886 57.26           New Zealand 0.29683886                \n",
       "11  1893 58.09           New Zealand 0.31817014                \n",
       "12  1898 59.95           New Zealand 0.36597276                \n",
       "13  1903 60.55           New Zealand 0.38139296                \n",
       "14  1908 61.76           New Zealand 0.41249036                \n",
       "15  1913 63.48           New Zealand 0.45669494                \n",
       "16  1922 65.43           New Zealand 0.50681059                \n",
       "17  1926 66.57           New Zealand 0.53610897                \n",
       "18  1931 67.88           New Zealand 0.56977641                \n",
       "19  1936 68.45           New Zealand 0.58442560                \n",
       "20  1938 68.94           Norway      0.59701876                \n",
       "21  1946 71.28           Norway      0.65715754                \n",
       "22  1948 72.80           Norway      0.69622205                \n",
       "23  1949 73.03           Norway      0.70213313                \n",
       "24  1950 73.21           Norway      0.70675919                \n",
       "25  1951 75.00           Iceland     0.75276279                \n",
       "26  1952 75.00           Iceland     0.75276279                \n",
       "27  1953 75.02           Iceland     0.75327679                \n",
       "28  1954 75.05           Iceland     0.75404780                \n",
       "29  1955 75.28           Norway      0.75995888                \n",
       "30  1956 75.47           Norway      0.76484194                \n",
       "... ...  ...             ...         ...                       \n",
       "45  1971 77.40           Sweden      0.8144436                 \n",
       "46  1972 77.54           Sweden      0.8180416                 \n",
       "47  1973 77.72           Sweden      0.8226677                 \n",
       "48  1974 78.26           Iceland     0.8365459                 \n",
       "49  1975 78.97           Iceland     0.8547931                 \n",
       "50  1976 80.15           Iceland     0.8851195                 \n",
       "51  1977 79.81           Iceland     0.8763814                 \n",
       "52  1978 80.02           Iceland     0.8817785                 \n",
       "53  1979 79.73           Iceland     0.8743254                 \n",
       "54  1980 80.55           Iceland     0.8953996                 \n",
       "55  1981 79.91           Iceland     0.8789514                 \n",
       "56  1982 79.78           Iceland     0.8756104                 \n",
       "57  1983 80.64           Iceland     0.8977127                 \n",
       "58  1984 80.57           Iceland     0.8959136                 \n",
       "59  1985 80.50           Switzerland 0.8941146                 \n",
       "60  1986 80.90           Japan       0.9043948                 \n",
       "61  1987 81.40           Japan       0.9172449                 \n",
       "62  1988 81.30           Japan       0.9146749                 \n",
       "63  1989 81.70           Japan       0.9249550                 \n",
       "64  1990 81.80           Japan       0.9275251                 \n",
       "65  1991 82.11           Japan       0.9354922                 \n",
       "66  1992 82.22           Japan       0.9383192                 \n",
       "67  1993 82.51           Japan       0.9457723                 \n",
       "68  1994 82.98           Japan       0.9578515                 \n",
       "69  1995 83.26           Japan       0.9650475                 \n",
       "70  1996 83.60           Japan       0.9737857                 \n",
       "71  1997 83.80           Japan       0.9789257                 \n",
       "72  1998 84.00           Japan       0.9840658                 \n",
       "73  1999 83.90           Japan       0.9814958                 \n",
       "74  2000 84.62           Japan       1.0000000                 "
      ]
     },
     "metadata": {},
     "output_type": "display_data"
    }
   ],
   "source": [
    "#Using Excel files\n",
    "\n",
    "read.xlsx(\"NormalisedLifeExpectancy.xlsx\",sheetName = \"Sheet 1\")\n",
    "#write.xlsx(mytable,\"NormalisedLifeExpectancy.xlsx\")"
   ]
  },
  {
   "cell_type": "code",
   "execution_count": 8,
   "metadata": {
    "ExecuteTime": {
     "end_time": "2019-09-09T15:56:42.371175Z",
     "start_time": "2019-09-09T15:56:42.338Z"
    }
   },
   "outputs": [
    {
     "data": {
      "text/html": [
       "<ol class=list-inline>\n",
       "\t<li>'__MACOSX'</li>\n",
       "\t<li>'HumanLifeExpectancy.txt'</li>\n",
       "\t<li>'LifeExpectancyPlot.R'</li>\n",
       "\t<li>'NormalisedLifeExpectancy.txt'</li>\n",
       "\t<li>'NormalisedLifeExpectancy.xlsx'</li>\n",
       "</ol>\n"
      ],
      "text/latex": [
       "\\begin{enumerate*}\n",
       "\\item '\\_\\_MACOSX'\n",
       "\\item 'HumanLifeExpectancy.txt'\n",
       "\\item 'LifeExpectancyPlot.R'\n",
       "\\item 'NormalisedLifeExpectancy.txt'\n",
       "\\item 'NormalisedLifeExpectancy.xlsx'\n",
       "\\end{enumerate*}\n"
      ],
      "text/markdown": [
       "1. '__MACOSX'\n",
       "2. 'HumanLifeExpectancy.txt'\n",
       "3. 'LifeExpectancyPlot.R'\n",
       "4. 'NormalisedLifeExpectancy.txt'\n",
       "5. 'NormalisedLifeExpectancy.xlsx'\n",
       "\n",
       "\n"
      ],
      "text/plain": [
       "[1] \"__MACOSX\"                      \"HumanLifeExpectancy.txt\"      \n",
       "[3] \"LifeExpectancyPlot.R\"          \"NormalisedLifeExpectancy.txt\" \n",
       "[5] \"NormalisedLifeExpectancy.xlsx\""
      ]
     },
     "metadata": {},
     "output_type": "display_data"
    }
   ],
   "source": [
    "dir()"
   ]
  },
  {
   "cell_type": "markdown",
   "metadata": {},
   "source": [
    "# basics of R programming"
   ]
  },
  {
   "cell_type": "code",
   "execution_count": 50,
   "metadata": {
    "ExecuteTime": {
     "end_time": "2019-09-09T21:35:05.103825Z",
     "start_time": "2019-09-09T21:35:05.059Z"
    }
   },
   "outputs": [],
   "source": [
    "x<-1:6\n",
    "assign(\"x\",1:6)\n",
    "x<-seq(from = 1,to = 6)"
   ]
  },
  {
   "cell_type": "code",
   "execution_count": 51,
   "metadata": {
    "ExecuteTime": {
     "end_time": "2019-09-09T21:35:06.981270Z",
     "start_time": "2019-09-09T21:35:06.945Z"
    }
   },
   "outputs": [
    {
     "data": {
      "text/html": [
       "<ol class=list-inline>\n",
       "\t<li>5</li>\n",
       "\t<li>6</li>\n",
       "</ol>\n"
      ],
      "text/latex": [
       "\\begin{enumerate*}\n",
       "\\item 5\n",
       "\\item 6\n",
       "\\end{enumerate*}\n"
      ],
      "text/markdown": [
       "1. 5\n",
       "2. 6\n",
       "\n",
       "\n"
      ],
      "text/plain": [
       "[1] 5 6"
      ]
     },
     "metadata": {},
     "output_type": "display_data"
    }
   ],
   "source": [
    "x[x>=5]"
   ]
  },
  {
   "cell_type": "code",
   "execution_count": 19,
   "metadata": {
    "ExecuteTime": {
     "end_time": "2019-09-09T16:31:48.472952Z",
     "start_time": "2019-09-09T16:31:48.437Z"
    }
   },
   "outputs": [
    {
     "data": {
      "text/html": [
       "<ol class=list-inline>\n",
       "\t<li>TRUE</li>\n",
       "\t<li>TRUE</li>\n",
       "\t<li>TRUE</li>\n",
       "\t<li>TRUE</li>\n",
       "\t<li>FALSE</li>\n",
       "\t<li>TRUE</li>\n",
       "</ol>\n"
      ],
      "text/latex": [
       "\\begin{enumerate*}\n",
       "\\item TRUE\n",
       "\\item TRUE\n",
       "\\item TRUE\n",
       "\\item TRUE\n",
       "\\item FALSE\n",
       "\\item TRUE\n",
       "\\end{enumerate*}\n"
      ],
      "text/markdown": [
       "1. TRUE\n",
       "2. TRUE\n",
       "3. TRUE\n",
       "4. TRUE\n",
       "5. FALSE\n",
       "6. TRUE\n",
       "\n",
       "\n"
      ],
      "text/plain": [
       "[1]  TRUE  TRUE  TRUE  TRUE FALSE  TRUE"
      ]
     },
     "metadata": {},
     "output_type": "display_data"
    }
   ],
   "source": [
    "x!=5"
   ]
  },
  {
   "cell_type": "code",
   "execution_count": 20,
   "metadata": {
    "ExecuteTime": {
     "end_time": "2019-09-09T16:34:24.846069Z",
     "start_time": "2019-09-09T16:34:24.801Z"
    }
   },
   "outputs": [
    {
     "data": {
      "text/html": [
       "<ol class=list-inline>\n",
       "\t<li>1</li>\n",
       "\t<li>2</li>\n",
       "\t<li>3</li>\n",
       "\t<li>4</li>\n",
       "\t<li>5</li>\n",
       "\t<li>6</li>\n",
       "</ol>\n"
      ],
      "text/latex": [
       "\\begin{enumerate*}\n",
       "\\item 1\n",
       "\\item 2\n",
       "\\item 3\n",
       "\\item 4\n",
       "\\item 5\n",
       "\\item 6\n",
       "\\end{enumerate*}\n"
      ],
      "text/markdown": [
       "1. 1\n",
       "2. 2\n",
       "3. 3\n",
       "4. 4\n",
       "5. 5\n",
       "6. 6\n",
       "\n",
       "\n"
      ],
      "text/plain": [
       "[1] 1 2 3 4 5 6"
      ]
     },
     "metadata": {},
     "output_type": "display_data"
    }
   ],
   "source": [
    "x"
   ]
  },
  {
   "cell_type": "code",
   "execution_count": 21,
   "metadata": {
    "ExecuteTime": {
     "end_time": "2019-09-09T16:34:28.381317Z",
     "start_time": "2019-09-09T16:34:28.342Z"
    }
   },
   "outputs": [
    {
     "data": {
      "text/html": [
       "<ol class=list-inline>\n",
       "\t<li>1</li>\n",
       "\t<li>3</li>\n",
       "\t<li>4</li>\n",
       "\t<li>5</li>\n",
       "\t<li>6</li>\n",
       "</ol>\n"
      ],
      "text/latex": [
       "\\begin{enumerate*}\n",
       "\\item 1\n",
       "\\item 3\n",
       "\\item 4\n",
       "\\item 5\n",
       "\\item 6\n",
       "\\end{enumerate*}\n"
      ],
      "text/markdown": [
       "1. 1\n",
       "2. 3\n",
       "3. 4\n",
       "4. 5\n",
       "5. 6\n",
       "\n",
       "\n"
      ],
      "text/plain": [
       "[1] 1 3 4 5 6"
      ]
     },
     "metadata": {},
     "output_type": "display_data"
    }
   ],
   "source": [
    "x[-2]"
   ]
  },
  {
   "cell_type": "code",
   "execution_count": 22,
   "metadata": {
    "ExecuteTime": {
     "end_time": "2019-09-09T16:37:50.736306Z",
     "start_time": "2019-09-09T16:37:50.684Z"
    }
   },
   "outputs": [
    {
     "data": {
      "text/html": [
       "<ol class=list-inline>\n",
       "\t<li>7</li>\n",
       "\t<li>7</li>\n",
       "\t<li>7</li>\n",
       "\t<li>7</li>\n",
       "\t<li>7</li>\n",
       "\t<li>7</li>\n",
       "</ol>\n"
      ],
      "text/latex": [
       "\\begin{enumerate*}\n",
       "\\item 7\n",
       "\\item 7\n",
       "\\item 7\n",
       "\\item 7\n",
       "\\item 7\n",
       "\\item 7\n",
       "\\end{enumerate*}\n"
      ],
      "text/markdown": [
       "1. 7\n",
       "2. 7\n",
       "3. 7\n",
       "4. 7\n",
       "5. 7\n",
       "6. 7\n",
       "\n",
       "\n"
      ],
      "text/plain": [
       "[1] 7 7 7 7 7 7"
      ]
     },
     "metadata": {},
     "output_type": "display_data"
    }
   ],
   "source": [
    "a=6:1\n",
    "b=1:6\n",
    "\n",
    "a+b"
   ]
  },
  {
   "cell_type": "code",
   "execution_count": 30,
   "metadata": {
    "ExecuteTime": {
     "end_time": "2019-09-09T16:44:31.538689Z",
     "start_time": "2019-09-09T16:44:31.451Z"
    }
   },
   "outputs": [
    {
     "data": {
      "text/html": [
       "3.5"
      ],
      "text/latex": [
       "3.5"
      ],
      "text/markdown": [
       "3.5"
      ],
      "text/plain": [
       "[1] 3.5"
      ]
     },
     "metadata": {},
     "output_type": "display_data"
    },
    {
     "data": {
      "text/html": [
       "<dl>\n",
       "\t<dt>$names</dt>\n",
       "\t\t<dd><ol class=list-inline>\n",
       "\t<li>'Min.'</li>\n",
       "\t<li>'1st Qu.'</li>\n",
       "\t<li>'Median'</li>\n",
       "\t<li>'Mean'</li>\n",
       "\t<li>'3rd Qu.'</li>\n",
       "\t<li>'Max.'</li>\n",
       "</ol>\n",
       "</dd>\n",
       "\t<dt>$class</dt>\n",
       "\t\t<dd><ol class=list-inline>\n",
       "\t<li>'summaryDefault'</li>\n",
       "\t<li>'table'</li>\n",
       "</ol>\n",
       "</dd>\n",
       "</dl>\n"
      ],
      "text/latex": [
       "\\begin{description}\n",
       "\\item[\\$names] \\begin{enumerate*}\n",
       "\\item 'Min.'\n",
       "\\item '1st Qu.'\n",
       "\\item 'Median'\n",
       "\\item 'Mean'\n",
       "\\item '3rd Qu.'\n",
       "\\item 'Max.'\n",
       "\\end{enumerate*}\n",
       "\n",
       "\\item[\\$class] \\begin{enumerate*}\n",
       "\\item 'summaryDefault'\n",
       "\\item 'table'\n",
       "\\end{enumerate*}\n",
       "\n",
       "\\end{description}\n"
      ],
      "text/markdown": [
       "$names\n",
       ":   1. 'Min.'\n",
       "2. '1st Qu.'\n",
       "3. 'Median'\n",
       "4. 'Mean'\n",
       "5. '3rd Qu.'\n",
       "6. 'Max.'\n",
       "\n",
       "\n",
       "\n",
       "$class\n",
       ":   1. 'summaryDefault'\n",
       "2. 'table'\n",
       "\n",
       "\n",
       "\n",
       "\n",
       "\n"
      ],
      "text/plain": [
       "$names\n",
       "[1] \"Min.\"    \"1st Qu.\" \"Median\"  \"Mean\"    \"3rd Qu.\" \"Max.\"   \n",
       "\n",
       "$class\n",
       "[1] \"summaryDefault\" \"table\"         \n"
      ]
     },
     "metadata": {},
     "output_type": "display_data"
    }
   ],
   "source": [
    "x = c(1,5,4,2,6,3)\n",
    "\n",
    "sumario = summary(x)\n",
    "mean(x)\n",
    "# no mode\n",
    "\n",
    "attributes(sumario)"
   ]
  },
  {
   "cell_type": "markdown",
   "metadata": {},
   "source": [
    "## matrices"
   ]
  },
  {
   "cell_type": "code",
   "execution_count": 26,
   "metadata": {
    "ExecuteTime": {
     "end_time": "2019-09-09T16:41:55.422531Z",
     "start_time": "2019-09-09T16:41:55.366Z"
    }
   },
   "outputs": [
    {
     "data": {
      "text/html": [
       "<table>\n",
       "<tbody>\n",
       "\t<tr><td>1 </td><td>5 </td><td> 9</td><td>13</td><td>17</td></tr>\n",
       "\t<tr><td>2 </td><td>6 </td><td>10</td><td>14</td><td>18</td></tr>\n",
       "\t<tr><td>3 </td><td>7 </td><td>11</td><td>15</td><td>19</td></tr>\n",
       "\t<tr><td>4 </td><td>8 </td><td>12</td><td>16</td><td>20</td></tr>\n",
       "</tbody>\n",
       "</table>\n"
      ],
      "text/latex": [
       "\\begin{tabular}{lllll}\n",
       "\t 1  & 5  &  9 & 13 & 17\\\\\n",
       "\t 2  & 6  & 10 & 14 & 18\\\\\n",
       "\t 3  & 7  & 11 & 15 & 19\\\\\n",
       "\t 4  & 8  & 12 & 16 & 20\\\\\n",
       "\\end{tabular}\n"
      ],
      "text/markdown": [
       "\n",
       "| 1  | 5  |  9 | 13 | 17 |\n",
       "| 2  | 6  | 10 | 14 | 18 |\n",
       "| 3  | 7  | 11 | 15 | 19 |\n",
       "| 4  | 8  | 12 | 16 | 20 |\n",
       "\n"
      ],
      "text/plain": [
       "     [,1] [,2] [,3] [,4] [,5]\n",
       "[1,] 1    5     9   13   17  \n",
       "[2,] 2    6    10   14   18  \n",
       "[3,] 3    7    11   15   19  \n",
       "[4,] 4    8    12   16   20  "
      ]
     },
     "metadata": {},
     "output_type": "display_data"
    }
   ],
   "source": [
    "M = matrix(1:20,4,5)\n",
    "M"
   ]
  },
  {
   "cell_type": "code",
   "execution_count": null,
   "metadata": {},
   "outputs": [],
   "source": [
    "## setting columns and rows"
   ]
  },
  {
   "cell_type": "code",
   "execution_count": 35,
   "metadata": {
    "ExecuteTime": {
     "end_time": "2019-09-09T16:50:38.327988Z",
     "start_time": "2019-09-09T16:50:38.283Z"
    }
   },
   "outputs": [
    {
     "data": {
      "text/html": [
       "<table>\n",
       "<tbody>\n",
       "\t<tr><td>1 </td><td>2 </td><td> 3</td><td> 4</td><td> 5</td></tr>\n",
       "\t<tr><td>2 </td><td>6 </td><td>10</td><td>14</td><td>18</td></tr>\n",
       "\t<tr><td>3 </td><td>7 </td><td>11</td><td>15</td><td>19</td></tr>\n",
       "\t<tr><td>4 </td><td>8 </td><td>12</td><td>16</td><td>20</td></tr>\n",
       "</tbody>\n",
       "</table>\n"
      ],
      "text/latex": [
       "\\begin{tabular}{lllll}\n",
       "\t 1  & 2  &  3 &  4 &  5\\\\\n",
       "\t 2  & 6  & 10 & 14 & 18\\\\\n",
       "\t 3  & 7  & 11 & 15 & 19\\\\\n",
       "\t 4  & 8  & 12 & 16 & 20\\\\\n",
       "\\end{tabular}\n"
      ],
      "text/markdown": [
       "\n",
       "| 1  | 2  |  3 |  4 |  5 |\n",
       "| 2  | 6  | 10 | 14 | 18 |\n",
       "| 3  | 7  | 11 | 15 | 19 |\n",
       "| 4  | 8  | 12 | 16 | 20 |\n",
       "\n"
      ],
      "text/plain": [
       "     [,1] [,2] [,3] [,4] [,5]\n",
       "[1,] 1    2     3    4    5  \n",
       "[2,] 2    6    10   14   18  \n",
       "[3,] 3    7    11   15   19  \n",
       "[4,] 4    8    12   16   20  "
      ]
     },
     "metadata": {},
     "output_type": "display_data"
    }
   ],
   "source": [
    "M[1,] = c(1:5)\n",
    "M"
   ]
  },
  {
   "cell_type": "code",
   "execution_count": 37,
   "metadata": {
    "ExecuteTime": {
     "end_time": "2019-09-09T16:51:10.128040Z",
     "start_time": "2019-09-09T16:51:10.079Z"
    }
   },
   "outputs": [
    {
     "data": {
      "text/plain": [
       "       V1             V2             V3              V4              V5       \n",
       " Min.   :1.00   Min.   :2.00   Min.   : 3.00   Min.   : 4.00   Min.   : 5.00  \n",
       " 1st Qu.:1.75   1st Qu.:5.00   1st Qu.: 8.25   1st Qu.:11.50   1st Qu.:14.75  \n",
       " Median :2.50   Median :6.50   Median :10.50   Median :14.50   Median :18.50  \n",
       " Mean   :2.50   Mean   :5.75   Mean   : 9.00   Mean   :12.25   Mean   :15.50  \n",
       " 3rd Qu.:3.25   3rd Qu.:7.25   3rd Qu.:11.25   3rd Qu.:15.25   3rd Qu.:19.25  \n",
       " Max.   :4.00   Max.   :8.00   Max.   :12.00   Max.   :16.00   Max.   :20.00  "
      ]
     },
     "metadata": {},
     "output_type": "display_data"
    },
    {
     "data": {
      "text/plain": [
       "       V1          V2           V3           V4    \n",
       " Min.   :1   Min.   : 2   Min.   : 3   Min.   : 4  \n",
       " 1st Qu.:2   1st Qu.: 6   1st Qu.: 7   1st Qu.: 8  \n",
       " Median :3   Median :10   Median :11   Median :12  \n",
       " Mean   :3   Mean   :10   Mean   :11   Mean   :12  \n",
       " 3rd Qu.:4   3rd Qu.:14   3rd Qu.:15   3rd Qu.:16  \n",
       " Max.   :5   Max.   :18   Max.   :19   Max.   :20  "
      ]
     },
     "metadata": {},
     "output_type": "display_data"
    }
   ],
   "source": [
    "summary(M)\n",
    "summary(t(M))"
   ]
  },
  {
   "cell_type": "code",
   "execution_count": null,
   "metadata": {},
   "outputs": [],
   "source": [
    "## setting column and row names"
   ]
  },
  {
   "cell_type": "code",
   "execution_count": 40,
   "metadata": {
    "ExecuteTime": {
     "end_time": "2019-09-09T16:55:10.543642Z",
     "start_time": "2019-09-09T16:55:10.499Z"
    }
   },
   "outputs": [],
   "source": [
    "colnames(M) = c(\"Col1\",\"Col2\",\"Col3\",\"Col4\",\"Col5\")"
   ]
  },
  {
   "cell_type": "code",
   "execution_count": 41,
   "metadata": {
    "ExecuteTime": {
     "end_time": "2019-09-09T16:55:13.012964Z",
     "start_time": "2019-09-09T16:55:12.973Z"
    }
   },
   "outputs": [
    {
     "data": {
      "text/html": [
       "<table>\n",
       "<thead><tr><th scope=col>Col1</th><th scope=col>Col2</th><th scope=col>Col3</th><th scope=col>Col4</th><th scope=col>Col5</th></tr></thead>\n",
       "<tbody>\n",
       "\t<tr><td>1 </td><td>2 </td><td> 3</td><td> 4</td><td> 5</td></tr>\n",
       "\t<tr><td>2 </td><td>6 </td><td>10</td><td>14</td><td>18</td></tr>\n",
       "\t<tr><td>3 </td><td>7 </td><td>11</td><td>15</td><td>19</td></tr>\n",
       "\t<tr><td>4 </td><td>8 </td><td>12</td><td>16</td><td>20</td></tr>\n",
       "</tbody>\n",
       "</table>\n"
      ],
      "text/latex": [
       "\\begin{tabular}{lllll}\n",
       " Col1 & Col2 & Col3 & Col4 & Col5\\\\\n",
       "\\hline\n",
       "\t 1  & 2  &  3 &  4 &  5\\\\\n",
       "\t 2  & 6  & 10 & 14 & 18\\\\\n",
       "\t 3  & 7  & 11 & 15 & 19\\\\\n",
       "\t 4  & 8  & 12 & 16 & 20\\\\\n",
       "\\end{tabular}\n"
      ],
      "text/markdown": [
       "\n",
       "| Col1 | Col2 | Col3 | Col4 | Col5 |\n",
       "|---|---|---|---|---|\n",
       "| 1  | 2  |  3 |  4 |  5 |\n",
       "| 2  | 6  | 10 | 14 | 18 |\n",
       "| 3  | 7  | 11 | 15 | 19 |\n",
       "| 4  | 8  | 12 | 16 | 20 |\n",
       "\n"
      ],
      "text/plain": [
       "     Col1 Col2 Col3 Col4 Col5\n",
       "[1,] 1    2     3    4    5  \n",
       "[2,] 2    6    10   14   18  \n",
       "[3,] 3    7    11   15   19  \n",
       "[4,] 4    8    12   16   20  "
      ]
     },
     "metadata": {},
     "output_type": "display_data"
    }
   ],
   "source": [
    "M"
   ]
  },
  {
   "cell_type": "code",
   "execution_count": 43,
   "metadata": {
    "ExecuteTime": {
     "end_time": "2019-09-09T16:55:56.234572Z",
     "start_time": "2019-09-09T16:55:56.190Z"
    }
   },
   "outputs": [
    {
     "data": {
      "text/html": [
       "<table>\n",
       "<thead><tr><th scope=col>Col1</th><th scope=col>Col2</th><th scope=col>Col3</th><th scope=col>Col4</th><th scope=col>Col5</th></tr></thead>\n",
       "<tbody>\n",
       "\t<tr><td>1 </td><td>2 </td><td> 3</td><td> 4</td><td> 5</td></tr>\n",
       "\t<tr><td>2 </td><td>6 </td><td>10</td><td>14</td><td>18</td></tr>\n",
       "\t<tr><td>3 </td><td>7 </td><td>11</td><td>15</td><td>19</td></tr>\n",
       "\t<tr><td>4 </td><td>8 </td><td>12</td><td>16</td><td>20</td></tr>\n",
       "\t<tr><td>1 </td><td>2 </td><td> 3</td><td> 4</td><td> 5</td></tr>\n",
       "\t<tr><td>1 </td><td>2 </td><td> 3</td><td> 4</td><td> 5</td></tr>\n",
       "</tbody>\n",
       "</table>\n"
      ],
      "text/latex": [
       "\\begin{tabular}{lllll}\n",
       " Col1 & Col2 & Col3 & Col4 & Col5\\\\\n",
       "\\hline\n",
       "\t 1  & 2  &  3 &  4 &  5\\\\\n",
       "\t 2  & 6  & 10 & 14 & 18\\\\\n",
       "\t 3  & 7  & 11 & 15 & 19\\\\\n",
       "\t 4  & 8  & 12 & 16 & 20\\\\\n",
       "\t 1  & 2  &  3 &  4 &  5\\\\\n",
       "\t 1  & 2  &  3 &  4 &  5\\\\\n",
       "\\end{tabular}\n"
      ],
      "text/markdown": [
       "\n",
       "| Col1 | Col2 | Col3 | Col4 | Col5 |\n",
       "|---|---|---|---|---|\n",
       "| 1  | 2  |  3 |  4 |  5 |\n",
       "| 2  | 6  | 10 | 14 | 18 |\n",
       "| 3  | 7  | 11 | 15 | 19 |\n",
       "| 4  | 8  | 12 | 16 | 20 |\n",
       "| 1  | 2  |  3 |  4 |  5 |\n",
       "| 1  | 2  |  3 |  4 |  5 |\n",
       "\n"
      ],
      "text/plain": [
       "     Col1 Col2 Col3 Col4 Col5\n",
       "[1,] 1    2     3    4    5  \n",
       "[2,] 2    6    10   14   18  \n",
       "[3,] 3    7    11   15   19  \n",
       "[4,] 4    8    12   16   20  \n",
       "[5,] 1    2     3    4    5  \n",
       "[6,] 1    2     3    4    5  "
      ]
     },
     "metadata": {},
     "output_type": "display_data"
    }
   ],
   "source": [
    "M = rbind(M,c(1:5))\n",
    "M"
   ]
  },
  {
   "cell_type": "code",
   "execution_count": 45,
   "metadata": {
    "ExecuteTime": {
     "end_time": "2019-09-09T16:56:24.110736Z",
     "start_time": "2019-09-09T16:56:24.068Z"
    }
   },
   "outputs": [
    {
     "data": {
      "text/html": [
       "<table>\n",
       "<thead><tr><th></th><th scope=col>Col1</th><th scope=col>Col2</th><th scope=col>Col3</th><th scope=col>Col4</th><th scope=col>Col5</th></tr></thead>\n",
       "<tbody>\n",
       "\t<tr><th scope=row>[6,]</th><td>1</td><td>2</td><td>3</td><td>4</td><td>5</td></tr>\n",
       "</tbody>\n",
       "</table>\n"
      ],
      "text/latex": [
       "\\begin{tabular}{r|lllll}\n",
       "  & Col1 & Col2 & Col3 & Col4 & Col5\\\\\n",
       "\\hline\n",
       "\t{[}6,{]} & 1 & 2 & 3 & 4 & 5\\\\\n",
       "\\end{tabular}\n"
      ],
      "text/markdown": [
       "\n",
       "| <!--/--> | Col1 | Col2 | Col3 | Col4 | Col5 |\n",
       "|---|---|---|---|---|---|\n",
       "| [6,] | 1 | 2 | 3 | 4 | 5 |\n",
       "\n"
      ],
      "text/plain": [
       "     Col1 Col2 Col3 Col4 Col5\n",
       "[6,] 1    2    3    4    5   "
      ]
     },
     "metadata": {},
     "output_type": "display_data"
    }
   ],
   "source": [
    "tail(M,1)"
   ]
  },
  {
   "cell_type": "code",
   "execution_count": 48,
   "metadata": {
    "ExecuteTime": {
     "end_time": "2019-09-09T16:57:02.705314Z",
     "start_time": "2019-09-09T16:57:02.668Z"
    }
   },
   "outputs": [
    {
     "data": {
      "text/html": [
       "6"
      ],
      "text/latex": [
       "6"
      ],
      "text/markdown": [
       "6"
      ],
      "text/plain": [
       "[1] 6"
      ]
     },
     "metadata": {},
     "output_type": "display_data"
    }
   ],
   "source": [
    "nrow(M)\n",
    "ncol"
   ]
  },
  {
   "cell_type": "markdown",
   "metadata": {},
   "source": [
    "## lists"
   ]
  },
  {
   "cell_type": "code",
   "execution_count": null,
   "metadata": {},
   "outputs": [],
   "source": []
  }
 ],
 "metadata": {
  "anaconda-cloud": {},
  "kernelspec": {
   "display_name": "R",
   "language": "R",
   "name": "ir"
  },
  "language_info": {
   "codemirror_mode": "r",
   "file_extension": ".r",
   "mimetype": "text/x-r-source",
   "name": "R",
   "pygments_lexer": "r",
   "version": "3.6.1"
  },
  "toc": {
   "base_numbering": 1,
   "nav_menu": {},
   "number_sections": false,
   "sideBar": true,
   "skip_h1_title": false,
   "title_cell": "Table of Contents",
   "title_sidebar": "Contents",
   "toc_cell": false,
   "toc_position": {
    "height": "calc(100% - 180px)",
    "left": "10px",
    "top": "150px",
    "width": "165px"
   },
   "toc_section_display": true,
   "toc_window_display": true
  }
 },
 "nbformat": 4,
 "nbformat_minor": 2
}

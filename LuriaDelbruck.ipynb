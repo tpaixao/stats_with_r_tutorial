{
 "cells": [
  {
   "cell_type": "markdown",
   "metadata": {
    "nbpresent": {
     "id": "5fe9caba-6d9e-4e71-9393-42bf63e197cb"
    },
    "slideshow": {
     "slide_type": "slide"
    }
   },
   "source": [
    "# Luria - Delbruck Experiment"
   ]
  },
  {
   "cell_type": "code",
   "execution_count": 1,
   "metadata": {
    "ExecuteTime": {
     "end_time": "2019-09-12T09:11:02.934909Z",
     "start_time": "2019-09-12T11:11:02.202384+02:00"
    }
   },
   "outputs": [],
   "source": [
    "from sympy import *"
   ]
  },
  {
   "cell_type": "markdown",
   "metadata": {
    "slideshow": {
     "slide_type": "slide"
    }
   },
   "source": [
    "## analytical derivations\n",
    "\n",
    "here we derive the basic expressions.\n",
    "\n",
    "Probability of events (mutational hypothesis):\n",
    "\n",
    "* $ (1-\\mu)^3$\n",
    "* $ \\mu\\,(1-\\mu)^2$\n",
    "* $ \\mu\\,(1-\\mu)^2$\n",
    "* $ \\mu^2\\,(1-\\mu)$\n",
    "* $ \\mu $\n",
    "\n",
    "Probability of events (adaptive hypothesis):\n",
    "\n",
    "* $ (1-\\mu)^2$\n",
    "* $ \\mu\\,(1-\\mu)$\n",
    "* $ \\mu\\,(1-\\mu)$\n",
    "* $ \\mu^2$\n",
    "* \n",
    "\n"
   ]
  },
  {
   "cell_type": "code",
   "execution_count": 2,
   "metadata": {
    "ExecuteTime": {
     "end_time": "2019-09-12T09:11:06.569709Z",
     "start_time": "2019-09-12T11:11:06.566704+02:00"
    },
    "nbpresent": {
     "id": "74d52f54-6a27-440f-b575-f01e620e83f6"
    },
    "slideshow": {
     "slide_type": "fragment"
    }
   },
   "outputs": [],
   "source": [
    "u = symbols(\"u\")"
   ]
  },
  {
   "cell_type": "markdown",
   "metadata": {},
   "source": [
    "### mutational hypothesis"
   ]
  },
  {
   "cell_type": "code",
   "execution_count": 126,
   "metadata": {
    "ExecuteTime": {
     "end_time": "2019-09-09T14:00:52.609301Z",
     "start_time": "2019-09-09T16:00:52.577298+02:00"
    }
   },
   "outputs": [
    {
     "data": {
      "text/plain": [
       "1"
      ]
     },
     "execution_count": 126,
     "metadata": {},
     "output_type": "execute_result"
    }
   ],
   "source": [
    "simplify((1-u)**3 + 2*u*(1-u)**2 + (1-u)*u**2 + u)"
   ]
  },
  {
   "cell_type": "code",
   "execution_count": 7,
   "metadata": {
    "ExecuteTime": {
     "end_time": "2019-09-12T09:12:13.400661Z",
     "start_time": "2019-09-12T11:12:13.305292+02:00"
    }
   },
   "outputs": [],
   "source": [
    "mean = simplify(0*(1-u)**3 + 1*2*u*(1-u)**2 + 2*(1-u)*u**2 + 2*u)\n",
    "en2 = simplify(0*(1-u)**3 + 1*2*u*(1-u)**2 + 2**2*(1-u)*u**2 + 2**2*u)\n",
    "var = simplify(en2-mean**2)"
   ]
  },
  {
   "cell_type": "code",
   "execution_count": 8,
   "metadata": {
    "ExecuteTime": {
     "end_time": "2019-09-12T09:12:13.918572Z",
     "start_time": "2019-09-12T11:12:13.910533+02:00"
    }
   },
   "outputs": [
    {
     "data": {
      "text/plain": [
       "(2*u*(-u + 2), 2*u*(-u**2 - 2*u*(u - 2)**2 + 3))"
      ]
     },
     "execution_count": 8,
     "metadata": {},
     "output_type": "execute_result"
    }
   ],
   "source": [
    "mean,var"
   ]
  },
  {
   "cell_type": "code",
   "execution_count": 12,
   "metadata": {
    "ExecuteTime": {
     "end_time": "2019-09-12T09:13:00.847006Z",
     "start_time": "2019-09-12T11:13:00.815044+02:00"
    }
   },
   "outputs": [
    {
     "data": {
      "text/plain": [
       "(u**2 + 2*u*(u - 2)**2 - 3)/(u - 2)"
      ]
     },
     "execution_count": 12,
     "metadata": {},
     "output_type": "execute_result"
    }
   ],
   "source": [
    "fano = simplify(var/mean)\n",
    "fano"
   ]
  },
  {
   "cell_type": "markdown",
   "metadata": {},
   "source": [
    "$\\frac{3-\\mu^2 - 2\\mu(\\mu-2)^2}{2-\\mu}$"
   ]
  },
  {
   "cell_type": "markdown",
   "metadata": {},
   "source": [
    "### Adaptive hypothesis"
   ]
  },
  {
   "cell_type": "code",
   "execution_count": 13,
   "metadata": {
    "ExecuteTime": {
     "end_time": "2019-09-12T09:15:00.024887Z",
     "start_time": "2019-09-12T11:14:59.951484+02:00"
    }
   },
   "outputs": [],
   "source": [
    "mean_adap = simplify(0*(1-u)**3 + 1*2*u*(1-u)**2 + 2*(1-u)*u**2)\n",
    "en2_adap = simplify(0*(1-u)**3 + 1*2*u*(1-u)**2 + 2**2*(1-u)*u**2 )\n",
    "var_adap = simplify(en2_adap-mean_adap**2)"
   ]
  },
  {
   "cell_type": "code",
   "execution_count": 14,
   "metadata": {
    "ExecuteTime": {
     "end_time": "2019-09-12T09:15:00.339496Z",
     "start_time": "2019-09-12T11:15:00.295417+02:00"
    }
   },
   "outputs": [
    {
     "data": {
      "text/plain": [
       "1"
      ]
     },
     "execution_count": 14,
     "metadata": {},
     "output_type": "execute_result"
    }
   ],
   "source": [
    "mean_adap = simplify(0*(1-u)**2 + 1*2*u*(1-u) + 2*u**2)\n",
    "en2_adap = simplify(0*(1-u)**2 + (1**2)*2*u*(1-u) + 2**2*u**2 )\n",
    "var_adap = simplify(en2_adap-mean_adap**2)\n",
    "\n",
    "simplify((1-u)**2 + 2*u*(1-u) + u**2)"
   ]
  },
  {
   "cell_type": "code",
   "execution_count": 15,
   "metadata": {
    "ExecuteTime": {
     "end_time": "2019-09-12T09:15:08.789923Z",
     "start_time": "2019-09-12T11:15:08.784923+02:00"
    }
   },
   "outputs": [
    {
     "data": {
      "text/plain": [
       "(2*u, 2*u*(-u + 1))"
      ]
     },
     "execution_count": 15,
     "metadata": {},
     "output_type": "execute_result"
    }
   ],
   "source": [
    "mean_adap,var_adap"
   ]
  },
  {
   "cell_type": "code",
   "execution_count": 16,
   "metadata": {
    "ExecuteTime": {
     "end_time": "2019-09-12T09:15:12.989474Z",
     "start_time": "2019-09-12T11:15:12.978434+02:00"
    }
   },
   "outputs": [
    {
     "data": {
      "text/plain": [
       "-u + 1"
      ]
     },
     "execution_count": 16,
     "metadata": {},
     "output_type": "execute_result"
    }
   ],
   "source": [
    "fano_adap = simplify(var_adap/mean_adap)\n",
    "fano_adap"
   ]
  },
  {
   "cell_type": "code",
   "execution_count": 17,
   "metadata": {
    "ExecuteTime": {
     "end_time": "2019-09-12T09:15:18.693738Z",
     "start_time": "2019-09-12T11:15:17.098701+02:00"
    }
   },
   "outputs": [
    {
     "data": {
      "text/plain": [
       "[<matplotlib.lines.Line2D at 0x1b90bc6ce10>]"
      ]
     },
     "execution_count": 17,
     "metadata": {},
     "output_type": "execute_result"
    },
    {
     "data": {
      "image/png": "[encoded data removed]",
      "text/plain": [
       "<Figure size 432x288 with 1 Axes>"
      ]
     },
     "metadata": {},
     "output_type": "display_data"
    }
   ],
   "source": [
    "import numpy as np\n",
    "import matplotlib.pyplot as plt\n",
    "%matplotlib inline\n",
    "\n",
    "xx = np.arange(0,.1,.01)\n",
    "yy = [fano.subs(u,x) for x in xx]\n",
    "plt.plot(xx,yy)"
   ]
  },
  {
   "cell_type": "code",
   "execution_count": 38,
   "metadata": {
    "ExecuteTime": {
     "end_time": "2019-09-07T21:47:12.172178Z",
     "start_time": "2019-09-07T23:47:11.874113+02:00"
    }
   },
   "outputs": [
    {
     "data": {
      "text/plain": [
       "3/2"
      ]
     },
     "execution_count": 38,
     "metadata": {},
     "output_type": "execute_result"
    }
   ],
   "source": [
    "limit(fano,u,0)"
   ]
  },
  {
   "cell_type": "markdown",
   "metadata": {},
   "source": [
    "# simulated data for the adaptive hypothesis"
   ]
  },
  {
   "cell_type": "code",
   "execution_count": 88,
   "metadata": {
    "ExecuteTime": {
     "end_time": "2019-09-09T11:20:56.455950Z",
     "start_time": "2019-09-09T13:20:56.443953+02:00"
    }
   },
   "outputs": [],
   "source": [
    "import math\n",
    "import numpy as np\n",
    "import pandas as pd\n",
    "import matplotlib\n",
    "import matplotlib.pyplot as plt\n",
    "import scipy.stats as stats\n",
    "%matplotlib inline\n",
    "\n",
    "matplotlib.style.use('ggplot')"
   ]
  },
  {
   "cell_type": "code",
   "execution_count": 84,
   "metadata": {
    "ExecuteTime": {
     "end_time": "2019-09-09T11:20:05.690425Z",
     "start_time": "2019-09-09T13:20:02.503472+02:00"
    }
   },
   "outputs": [],
   "source": [
    "\n",
    "dist = []\n",
    "\n",
    "for n_size in [10,20,50,100,500,1000]:\n",
    "    means = []\n",
    "    vars = []\n",
    "    for n in range(5000):\n",
    "        poisson = np.random.poisson(size=n_size)\n",
    "        mean = np.mean(poisson)\n",
    "        var = np.var(poisson)\n",
    "#         means.append(mean)\n",
    "#         vars.append(var)\n",
    "        dist.append({'n':n_size,'mean':mean,'var':var})\n",
    "    \n"
   ]
  },
  {
   "cell_type": "code",
   "execution_count": 85,
   "metadata": {
    "ExecuteTime": {
     "end_time": "2019-09-09T11:20:05.744551Z",
     "start_time": "2019-09-09T13:20:05.692421+02:00"
    }
   },
   "outputs": [],
   "source": [
    "dists = pd.DataFrame(dist)"
   ]
  },
  {
   "cell_type": "code",
   "execution_count": 78,
   "metadata": {
    "ExecuteTime": {
     "end_time": "2019-09-09T11:17:45.074115Z",
     "start_time": "2019-09-09T13:17:44.762072+02:00"
    },
    "collapsed": true
   },
   "outputs": [
    {
     "data": {
      "text/plain": [
       "[<matplotlib.lines.Line2D at 0x1869a294630>]"
      ]
     },
     "execution_count": 78,
     "metadata": {},
     "output_type": "execute_result"
    },
    {
     "data": {
      "image/png": "[encoded data removed]",
      "text/plain": [
       "<Figure size 432x288 with 1 Axes>"
      ]
     },
     "metadata": {},
     "output_type": "display_data"
    }
   ],
   "source": [
    "data = dists[dists['n']==100]\n",
    "\n",
    "plt.plot(data['mean'],data['var'],ls='',marker='.')\n",
    "plt.plot([0,2],[0,2])"
   ]
  },
  {
   "cell_type": "code",
   "execution_count": 124,
   "metadata": {
    "ExecuteTime": {
     "end_time": "2019-09-09T13:38:28.994643Z",
     "start_time": "2019-09-09T15:38:26.711591+02:00"
    }
   },
   "outputs": [
    {
     "data": {
      "image/png": "[encoded data removed]",
      "text/plain": [
       "<Figure size 864x864 with 6 Axes>"
      ]
     },
     "metadata": {},
     "output_type": "display_data"
    }
   ],
   "source": [
    "plt.subplots(figsize=(12,12))\n",
    "for idx,n in enumerate([10,20,50,100,500,1000]):\n",
    "    \n",
    "    plt.subplot(2,3,idx+1)\n",
    "    data = dists[dists['n']==n]\n",
    "    plt.title('n='+str(n))\n",
    "\n",
    "    ratios = data['var']/(data['mean'])\n",
    "    plt.xlabel(r\"$\\frac{\\sigma^2}{\\mu} $\")\n",
    "    plt.hist(ratios,bins=50)\n",
    "    plt.xlim(0,2)"
   ]
  },
  {
   "cell_type": "code",
   "execution_count": 113,
   "metadata": {
    "ExecuteTime": {
     "end_time": "2019-09-09T11:44:00.837953Z",
     "start_time": "2019-09-09T13:44:00.822915+02:00"
    }
   },
   "outputs": [],
   "source": [
    "data = dists[dists['n']==10]\n",
    "ratios = sorted(data['var']/(data['mean']))\n",
    "\n",
    "cdf = np.cumsum(sorted(ratios)).tolist()\n",
    "cdf = np.array(cdf)/np.array(cdf)[-1]"
   ]
  },
  {
   "cell_type": "code",
   "execution_count": 121,
   "metadata": {
    "ExecuteTime": {
     "end_time": "2019-09-09T13:21:21.603417Z",
     "start_time": "2019-09-09T15:21:21.333419+02:00"
    }
   },
   "outputs": [
    {
     "name": "stdout",
     "output_type": "stream",
     "text": [
      "[0.74444444 1.29406487]\n"
     ]
    },
    {
     "data": {
      "text/plain": [
       "Text(0.5, 0, '$\\\\frac{\\\\sigma}{\\\\mu} $')"
      ]
     },
     "execution_count": 121,
     "metadata": {},
     "output_type": "execute_result"
    },
    {
     "data": {
      "image/png": "[encoded data removed]",
      "text/plain": [
       "<Figure size 432x288 with 1 Axes>"
      ]
     },
     "metadata": {},
     "output_type": "display_data"
    }
   ],
   "source": [
    "data = dists[dists['n']==100]\n",
    "ratios = sorted(data['var']/(data['mean']))\n",
    "\n",
    "cdf = np.cumsum(sorted(ratios)).tolist()#/(np.cumsum(ratios))\n",
    "cdf = np.array(cdf)/np.array(cdf)[-1]\n",
    "\n",
    "plt.plot(ratios,cdf)\n",
    "cutoffs = np.percentile(ratios,[2.5,97.5])\n",
    "plt.axvline(cutoffs[0],c='k')\n",
    "plt.axvline(cutoffs[1],c='k');\n",
    "print(cutoffs)\n",
    "plt.xlabel(r\"$\\frac{\\sigma}{\\mu} $\")\n"
   ]
  },
  {
   "cell_type": "markdown",
   "metadata": {},
   "source": [
    "\n",
    "How would you calculate the minimum number of replicates to detect a ratio deviation of at least $r$?\n",
    "\n"
   ]
  },
  {
   "cell_type": "code",
   "execution_count": null,
   "metadata": {},
   "outputs": [],
   "source": []
  }
 ],
 "metadata": {
  "anaconda-cloud": {},
  "celltoolbar": "Slideshow",
  "kernelspec": {
   "display_name": "Python [conda root]",
   "language": "python",
   "name": "conda-root-py"
  },
  "language_info": {
   "codemirror_mode": {
    "name": "ipython",
    "version": 3
   },
   "file_extension": ".py",
   "mimetype": "text/x-python",
   "name": "python",
   "nbconvert_exporter": "python",
   "pygments_lexer": "ipython3",
   "version": "3.5.6"
  },
  "nbpresent": {
   "slides": {
    "6f1f918e-24f1-4f1d-9354-f042f108ed18": {
     "id": "6f1f918e-24f1-4f1d-9354-f042f108ed18",
     "prev": null,
     "regions": {
      "17beb833-761e-4ff3-a7fa-6367ed66d899": {
       "attrs": {
        "height": 0.8,
        "width": 0.8,
        "x": 0.1,
        "y": 0.1
       },
       "content": {
        "cell": "5fe9caba-6d9e-4e71-9393-42bf63e197cb",
        "part": "whole"
       },
       "id": "17beb833-761e-4ff3-a7fa-6367ed66d899"
      }
     }
    },
    "ff70beda-339f-435c-a23c-a0b9380e90dc": {
     "id": "ff70beda-339f-435c-a23c-a0b9380e90dc",
     "prev": "6f1f918e-24f1-4f1d-9354-f042f108ed18",
     "regions": {
      "f6f9c11d-3c5c-40c4-a501-cf582112360b": {
       "attrs": {
        "height": 0.8,
        "width": 0.8,
        "x": 0.1,
        "y": 0.1
       },
       "content": {
        "cell": "74d52f54-6a27-440f-b575-f01e620e83f6",
        "part": "whole"
       },
       "id": "f6f9c11d-3c5c-40c4-a501-cf582112360b"
      }
     }
    }
   },
   "themes": {
    "default": "ef869ac5-8ae3-4ddb-bd64-979dcd394368",
    "theme": {
     "ef869ac5-8ae3-4ddb-bd64-979dcd394368": {
      "id": "ef869ac5-8ae3-4ddb-bd64-979dcd394368",
      "palette": {
       "19cc588f-0593-49c9-9f4b-e4d7cc113b1c": {
        "id": "19cc588f-0593-49c9-9f4b-e4d7cc113b1c",
        "rgb": [
         252,
         252,
         252
        ]
       },
       "31af15d2-7e15-44c5-ab5e-e04b16a89eff": {
        "id": "31af15d2-7e15-44c5-ab5e-e04b16a89eff",
        "rgb": [
         68,
         68,
         68
        ]
       },
       "50f92c45-a630-455b-aec3-788680ec7410": {
        "id": "50f92c45-a630-455b-aec3-788680ec7410",
        "rgb": [
         155,
         177,
         192
        ]
       },
       "c5cc3653-2ee1-402a-aba2-7caae1da4f6c": {
        "id": "c5cc3653-2ee1-402a-aba2-7caae1da4f6c",
        "rgb": [
         43,
         126,
         184
        ]
       },
       "efa7f048-9acb-414c-8b04-a26811511a21": {
        "id": "efa7f048-9acb-414c-8b04-a26811511a21",
        "rgb": [
         25.118061674008803,
         73.60176211453744,
         107.4819383259912
        ]
       }
      },
      "rules": {
       "blockquote": {
        "color": "50f92c45-a630-455b-aec3-788680ec7410"
       },
       "code": {
        "font-family": "Anonymous Pro"
       },
       "h1": {
        "color": "c5cc3653-2ee1-402a-aba2-7caae1da4f6c",
        "font-family": "Lato",
        "font-size": 8
       },
       "h2": {
        "color": "c5cc3653-2ee1-402a-aba2-7caae1da4f6c",
        "font-family": "Lato",
        "font-size": 6
       },
       "h3": {
        "color": "50f92c45-a630-455b-aec3-788680ec7410",
        "font-family": "Lato",
        "font-size": 5.5
       },
       "h4": {
        "color": "c5cc3653-2ee1-402a-aba2-7caae1da4f6c",
        "font-family": "Lato",
        "font-size": 5
       },
       "h5": {
        "font-family": "Lato"
       },
       "h6": {
        "font-family": "Lato"
       },
       "h7": {
        "font-family": "Lato"
       },
       "pre": {
        "font-family": "Anonymous Pro",
        "font-size": 4
       }
      },
      "text-base": {
       "font-family": "Merriweather",
       "font-size": 4
      }
     }
    }
   }
  },
  "toc": {
   "base_numbering": 1,
   "nav_menu": {},
   "number_sections": false,
   "sideBar": true,
   "skip_h1_title": false,
   "title_cell": "Table of Contents",
   "title_sidebar": "Contents",
   "toc_cell": false,
   "toc_position": {
    "height": "calc(100% - 180px)",
    "left": "10px",
    "top": "150px",
    "width": "204.633px"
   },
   "toc_section_display": true,
   "toc_window_display": true
  }
 },
 "nbformat": 4,
 "nbformat_minor": 2
}

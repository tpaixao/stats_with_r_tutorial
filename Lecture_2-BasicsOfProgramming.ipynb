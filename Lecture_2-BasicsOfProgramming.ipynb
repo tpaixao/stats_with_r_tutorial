{
 "cells": [
  {
   "cell_type": "markdown",
   "metadata": {},
   "source": [
    "# Lecture 2"
   ]
  },
  {
   "cell_type": "markdown",
   "metadata": {},
   "source": [
    "## basics of R programming"
   ]
  },
  {
   "cell_type": "code",
   "execution_count": 6,
   "metadata": {
    "ExecuteTime": {
     "end_time": "2019-09-10T13:39:55.030756Z",
     "start_time": "2019-09-10T13:39:54.992Z"
    }
   },
   "outputs": [
    {
     "data": {
      "text/html": [
       "<ol class=list-inline>\n",
       "\t<li>0.351563165352568</li>\n",
       "\t<li>-1.36695923786609</li>\n",
       "\t<li>1.07700760088052</li>\n",
       "\t<li>-1.87646844094129</li>\n",
       "\t<li>0.805882451729258</li>\n",
       "\t<li>-0.134861696594116</li>\n",
       "\t<li>-1.40795851523036</li>\n",
       "\t<li>0.230823328221218</li>\n",
       "\t<li>0.0317791870670739</li>\n",
       "\t<li>-0.485007499649843</li>\n",
       "\t<li>0.233812621558867</li>\n",
       "\t<li>-1.07251047730469</li>\n",
       "\t<li>-0.796873418668051</li>\n",
       "\t<li>0.704050761174607</li>\n",
       "\t<li>0.0920306834513875</li>\n",
       "</ol>\n"
      ],
      "text/latex": [
       "\\begin{enumerate*}\n",
       "\\item 0.351563165352568\n",
       "\\item -1.36695923786609\n",
       "\\item 1.07700760088052\n",
       "\\item -1.87646844094129\n",
       "\\item 0.805882451729258\n",
       "\\item -0.134861696594116\n",
       "\\item -1.40795851523036\n",
       "\\item 0.230823328221218\n",
       "\\item 0.0317791870670739\n",
       "\\item -0.485007499649843\n",
       "\\item 0.233812621558867\n",
       "\\item -1.07251047730469\n",
       "\\item -0.796873418668051\n",
       "\\item 0.704050761174607\n",
       "\\item 0.0920306834513875\n",
       "\\end{enumerate*}\n"
      ],
      "text/markdown": [
       "1. 0.351563165352568\n",
       "2. -1.36695923786609\n",
       "3. 1.07700760088052\n",
       "4. -1.87646844094129\n",
       "5. 0.805882451729258\n",
       "6. -0.134861696594116\n",
       "7. -1.40795851523036\n",
       "8. 0.230823328221218\n",
       "9. 0.0317791870670739\n",
       "10. -0.485007499649843\n",
       "11. 0.233812621558867\n",
       "12. -1.07251047730469\n",
       "13. -0.796873418668051\n",
       "14. 0.704050761174607\n",
       "15. 0.0920306834513875\n",
       "\n",
       "\n"
      ],
      "text/plain": [
       " [1]  0.35156317 -1.36695924  1.07700760 -1.87646844  0.80588245 -0.13486170\n",
       " [7] -1.40795852  0.23082333  0.03177919 -0.48500750  0.23381262 -1.07251048\n",
       "[13] -0.79687342  0.70405076  0.09203068"
      ]
     },
     "metadata": {},
     "output_type": "display_data"
    }
   ],
   "source": [
    "x<-rnorm(15)\n",
    "x"
   ]
  },
  {
   "cell_type": "code",
   "execution_count": 12,
   "metadata": {
    "ExecuteTime": {
     "end_time": "2019-09-10T13:40:54.761191Z",
     "start_time": "2019-09-10T13:40:54.715Z"
    }
   },
   "outputs": [
    {
     "data": {
      "text/html": [
       "<ol class=list-inline>\n",
       "\t<li>0.351563165352568</li>\n",
       "\t<li>1.07700760088052</li>\n",
       "\t<li>0.805882451729258</li>\n",
       "\t<li>0.230823328221218</li>\n",
       "\t<li>0.0317791870670739</li>\n",
       "\t<li>0.233812621558867</li>\n",
       "\t<li>0.704050761174607</li>\n",
       "\t<li>0.0920306834513875</li>\n",
       "</ol>\n"
      ],
      "text/latex": [
       "\\begin{enumerate*}\n",
       "\\item 0.351563165352568\n",
       "\\item 1.07700760088052\n",
       "\\item 0.805882451729258\n",
       "\\item 0.230823328221218\n",
       "\\item 0.0317791870670739\n",
       "\\item 0.233812621558867\n",
       "\\item 0.704050761174607\n",
       "\\item 0.0920306834513875\n",
       "\\end{enumerate*}\n"
      ],
      "text/markdown": [
       "1. 0.351563165352568\n",
       "2. 1.07700760088052\n",
       "3. 0.805882451729258\n",
       "4. 0.230823328221218\n",
       "5. 0.0317791870670739\n",
       "6. 0.233812621558867\n",
       "7. 0.704050761174607\n",
       "8. 0.0920306834513875\n",
       "\n",
       "\n"
      ],
      "text/plain": [
       "[1] 0.35156317 1.07700760 0.80588245 0.23082333 0.03177919 0.23381262 0.70405076\n",
       "[8] 0.09203068"
      ]
     },
     "metadata": {},
     "output_type": "display_data"
    },
    {
     "data": {
      "text/html": [
       "<ol class=list-inline>\n",
       "\t<li>-1.36695923786609</li>\n",
       "\t<li>-1.87646844094129</li>\n",
       "\t<li>-0.134861696594116</li>\n",
       "\t<li>-1.40795851523036</li>\n",
       "\t<li>-0.485007499649843</li>\n",
       "\t<li>-1.07251047730469</li>\n",
       "\t<li>-0.796873418668051</li>\n",
       "</ol>\n"
      ],
      "text/latex": [
       "\\begin{enumerate*}\n",
       "\\item -1.36695923786609\n",
       "\\item -1.87646844094129\n",
       "\\item -0.134861696594116\n",
       "\\item -1.40795851523036\n",
       "\\item -0.485007499649843\n",
       "\\item -1.07251047730469\n",
       "\\item -0.796873418668051\n",
       "\\end{enumerate*}\n"
      ],
      "text/markdown": [
       "1. -1.36695923786609\n",
       "2. -1.87646844094129\n",
       "3. -0.134861696594116\n",
       "4. -1.40795851523036\n",
       "5. -0.485007499649843\n",
       "6. -1.07251047730469\n",
       "7. -0.796873418668051\n",
       "\n",
       "\n"
      ],
      "text/plain": [
       "[1] -1.3669592 -1.8764684 -0.1348617 -1.4079585 -0.4850075 -1.0725105 -0.7968734"
      ]
     },
     "metadata": {},
     "output_type": "display_data"
    }
   ],
   "source": [
    "# split values into positive and negative\n",
    "posv<-vector()\n",
    "negv<-vector()\n",
    "\n",
    "for(i in 1:length(x)){\n",
    "    if (x[i]>0) posv<-c(posv,x[i])\n",
    "    if (x[i]<=0) negv<-c(negv,x[i])\n",
    "}\n",
    "posv\n",
    "negv"
   ]
  },
  {
   "cell_type": "code",
   "execution_count": 15,
   "metadata": {
    "ExecuteTime": {
     "end_time": "2019-09-10T13:47:45.982962Z",
     "start_time": "2019-09-10T13:47:45.938Z"
    }
   },
   "outputs": [
    {
     "data": {
      "text/html": [
       "<ol class=list-inline>\n",
       "\t<li>0.351563165352568</li>\n",
       "\t<li>1.07700760088052</li>\n",
       "\t<li>0.805882451729258</li>\n",
       "\t<li>0.230823328221218</li>\n",
       "\t<li>0.0317791870670739</li>\n",
       "\t<li>0.233812621558867</li>\n",
       "\t<li>0.704050761174607</li>\n",
       "\t<li>0.0920306834513875</li>\n",
       "</ol>\n"
      ],
      "text/latex": [
       "\\begin{enumerate*}\n",
       "\\item 0.351563165352568\n",
       "\\item 1.07700760088052\n",
       "\\item 0.805882451729258\n",
       "\\item 0.230823328221218\n",
       "\\item 0.0317791870670739\n",
       "\\item 0.233812621558867\n",
       "\\item 0.704050761174607\n",
       "\\item 0.0920306834513875\n",
       "\\end{enumerate*}\n"
      ],
      "text/markdown": [
       "1. 0.351563165352568\n",
       "2. 1.07700760088052\n",
       "3. 0.805882451729258\n",
       "4. 0.230823328221218\n",
       "5. 0.0317791870670739\n",
       "6. 0.233812621558867\n",
       "7. 0.704050761174607\n",
       "8. 0.0920306834513875\n",
       "\n",
       "\n"
      ],
      "text/plain": [
       "[1] 0.35156317 1.07700760 0.80588245 0.23082333 0.03177919 0.23381262 0.70405076\n",
       "[8] 0.09203068"
      ]
     },
     "metadata": {},
     "output_type": "display_data"
    },
    {
     "data": {
      "text/html": [
       "<ol class=list-inline>\n",
       "\t<li>-1.36695923786609</li>\n",
       "\t<li>-1.87646844094129</li>\n",
       "\t<li>-0.134861696594116</li>\n",
       "\t<li>-1.40795851523036</li>\n",
       "\t<li>-0.485007499649843</li>\n",
       "\t<li>-1.07251047730469</li>\n",
       "\t<li>-0.796873418668051</li>\n",
       "</ol>\n"
      ],
      "text/latex": [
       "\\begin{enumerate*}\n",
       "\\item -1.36695923786609\n",
       "\\item -1.87646844094129\n",
       "\\item -0.134861696594116\n",
       "\\item -1.40795851523036\n",
       "\\item -0.485007499649843\n",
       "\\item -1.07251047730469\n",
       "\\item -0.796873418668051\n",
       "\\end{enumerate*}\n"
      ],
      "text/markdown": [
       "1. -1.36695923786609\n",
       "2. -1.87646844094129\n",
       "3. -0.134861696594116\n",
       "4. -1.40795851523036\n",
       "5. -0.485007499649843\n",
       "6. -1.07251047730469\n",
       "7. -0.796873418668051\n",
       "\n",
       "\n"
      ],
      "text/plain": [
       "[1] -1.3669592 -1.8764684 -0.1348617 -1.4079585 -0.4850075 -1.0725105 -0.7968734"
      ]
     },
     "metadata": {},
     "output_type": "display_data"
    }
   ],
   "source": [
    "# change the code to use if else\n",
    "posv<-vector()\n",
    "negv<-vector()\n",
    "\n",
    "for(i in 1:length(x)){\n",
    "    if (x[i]>0) {\n",
    "        posv<-c(posv,x[i])\n",
    "    }else{\n",
    "        negv<-c(negv,x[i])\n",
    "    }\n",
    "}\n",
    "posv\n",
    "negv"
   ]
  },
  {
   "cell_type": "code",
   "execution_count": 18,
   "metadata": {
    "ExecuteTime": {
     "end_time": "2019-09-10T14:12:50.667418Z",
     "start_time": "2019-09-10T14:12:50.635Z"
    }
   },
   "outputs": [
    {
     "data": {
      "text/html": [
       "<ol class=list-inline>\n",
       "\t<li>0.351563165352568</li>\n",
       "\t<li>1.07700760088052</li>\n",
       "\t<li>0.805882451729258</li>\n",
       "\t<li>0.230823328221218</li>\n",
       "\t<li>0.0317791870670739</li>\n",
       "\t<li>0.233812621558867</li>\n",
       "\t<li>0.704050761174607</li>\n",
       "\t<li>0.0920306834513875</li>\n",
       "</ol>\n"
      ],
      "text/latex": [
       "\\begin{enumerate*}\n",
       "\\item 0.351563165352568\n",
       "\\item 1.07700760088052\n",
       "\\item 0.805882451729258\n",
       "\\item 0.230823328221218\n",
       "\\item 0.0317791870670739\n",
       "\\item 0.233812621558867\n",
       "\\item 0.704050761174607\n",
       "\\item 0.0920306834513875\n",
       "\\end{enumerate*}\n"
      ],
      "text/markdown": [
       "1. 0.351563165352568\n",
       "2. 1.07700760088052\n",
       "3. 0.805882451729258\n",
       "4. 0.230823328221218\n",
       "5. 0.0317791870670739\n",
       "6. 0.233812621558867\n",
       "7. 0.704050761174607\n",
       "8. 0.0920306834513875\n",
       "\n",
       "\n"
      ],
      "text/plain": [
       "[1] 0.35156317 1.07700760 0.80588245 0.23082333 0.03177919 0.23381262 0.70405076\n",
       "[8] 0.09203068"
      ]
     },
     "metadata": {},
     "output_type": "display_data"
    },
    {
     "data": {
      "text/html": [
       "<ol class=list-inline>\n",
       "\t<li>0.351563165352568</li>\n",
       "\t<li>1.07700760088052</li>\n",
       "\t<li>0.805882451729258</li>\n",
       "\t<li>0.230823328221218</li>\n",
       "\t<li>0.0317791870670739</li>\n",
       "\t<li>0.233812621558867</li>\n",
       "\t<li>0.704050761174607</li>\n",
       "\t<li>0.0920306834513875</li>\n",
       "</ol>\n"
      ],
      "text/latex": [
       "\\begin{enumerate*}\n",
       "\\item 0.351563165352568\n",
       "\\item 1.07700760088052\n",
       "\\item 0.805882451729258\n",
       "\\item 0.230823328221218\n",
       "\\item 0.0317791870670739\n",
       "\\item 0.233812621558867\n",
       "\\item 0.704050761174607\n",
       "\\item 0.0920306834513875\n",
       "\\end{enumerate*}\n"
      ],
      "text/markdown": [
       "1. 0.351563165352568\n",
       "2. 1.07700760088052\n",
       "3. 0.805882451729258\n",
       "4. 0.230823328221218\n",
       "5. 0.0317791870670739\n",
       "6. 0.233812621558867\n",
       "7. 0.704050761174607\n",
       "8. 0.0920306834513875\n",
       "\n",
       "\n"
      ],
      "text/plain": [
       "[1] 0.35156317 1.07700760 0.80588245 0.23082333 0.03177919 0.23381262 0.70405076\n",
       "[8] 0.09203068"
      ]
     },
     "metadata": {},
     "output_type": "display_data"
    }
   ],
   "source": [
    "x[which(x>0)]\n",
    "x[x>0]"
   ]
  },
  {
   "cell_type": "code",
   "execution_count": 24,
   "metadata": {
    "ExecuteTime": {
     "end_time": "2019-09-10T14:43:50.485929Z",
     "start_time": "2019-09-10T14:43:50.420Z"
    }
   },
   "outputs": [
    {
     "data": {
      "text/html": [
       "-0.231769020408806"
      ],
      "text/latex": [
       "-0.231769020408806"
      ],
      "text/markdown": [
       "-0.231769020408806"
      ],
      "text/plain": [
       "[1] -0.231769"
      ]
     },
     "metadata": {},
     "output_type": "display_data"
    },
    {
     "data": {
      "text/html": [
       "0.36632379618859"
      ],
      "text/latex": [
       "0.36632379618859"
      ],
      "text/markdown": [
       "0.36632379618859"
      ],
      "text/plain": [
       "[1] 0.3663238"
      ]
     },
     "metadata": {},
     "output_type": "display_data"
    },
    {
     "data": {
      "text/html": [
       "0.36632379618859"
      ],
      "text/latex": [
       "0.36632379618859"
      ],
      "text/markdown": [
       "0.36632379618859"
      ],
      "text/plain": [
       "[1] 0.3663238"
      ]
     },
     "metadata": {},
     "output_type": "display_data"
    },
    {
     "data": {
      "text/html": [
       "0.36632379618859"
      ],
      "text/latex": [
       "0.36632379618859"
      ],
      "text/markdown": [
       "0.36632379618859"
      ],
      "text/plain": [
       "[1] 0.3663238"
      ]
     },
     "metadata": {},
     "output_type": "display_data"
    }
   ],
   "source": [
    "# calculate the variance of a list of numbers\n",
    "# $ V = \\frac{1}{n-1}\\sum (x_i - \\frac{1}{n}\\sumx_i)^2$\n",
    "x = rnorm(10)\n",
    "n = length(x)\n",
    "m = 0\n",
    "for (i in 1:n){\n",
    "    m = m+x[i]\n",
    "}\n",
    "m = m/n\n",
    "m\n",
    "ss=0\n",
    "for (i in 1:n){\n",
    "    s = (x[i]-m)^2\n",
    "    ss = ss + s\n",
    "}\n",
    "ss/(n-1)\n",
    "#or simply:\n",
    "sum((x-mean(x))^2)/(n-1)\n",
    "var(x)"
   ]
  },
  {
   "cell_type": "markdown",
   "metadata": {},
   "source": [
    "# ELISA analysis"
   ]
  },
  {
   "cell_type": "code",
   "execution_count": 26,
   "metadata": {
    "ExecuteTime": {
     "end_time": "2019-09-10T14:58:25.265416Z",
     "start_time": "2019-09-10T14:58:25.236Z"
    }
   },
   "outputs": [
    {
     "data": {
      "text/html": [
       "'C:/Users/t.paixao/Documents/IGC'"
      ],
      "text/latex": [
       "'C:/Users/t.paixao/Documents/IGC'"
      ],
      "text/markdown": [
       "'C:/Users/t.paixao/Documents/IGC'"
      ],
      "text/plain": [
       "[1] \"C:/Users/t.paixao/Documents/IGC\""
      ]
     },
     "metadata": {},
     "output_type": "display_data"
    }
   ],
   "source": [
    "getwd()\n",
    "setwd('./datasets/ELISAdata/')"
   ]
  },
  {
   "cell_type": "code",
   "execution_count": 27,
   "metadata": {
    "ExecuteTime": {
     "end_time": "2019-09-10T14:58:55.245038Z",
     "start_time": "2019-09-10T14:58:53.573Z"
    }
   },
   "outputs": [
    {
     "name": "stderr",
     "output_type": "stream",
     "text": [
      "Loading required package: xlsx\n"
     ]
    }
   ],
   "source": [
    "require(xlsx)"
   ]
  },
  {
   "cell_type": "code",
   "execution_count": 35,
   "metadata": {
    "ExecuteTime": {
     "end_time": "2019-09-10T15:03:09.942232Z",
     "start_time": "2019-09-10T15:03:09.834Z"
    }
   },
   "outputs": [
    {
     "data": {
      "image/png": "[encoded data removed]",
      "text/plain": [
       "plot without title"
      ]
     },
     "metadata": {},
     "output_type": "display_data"
    }
   ],
   "source": [
    "data = read.xlsx('201903/elisa_20190316.xlsx',1)\n",
    "plot(log(data[,\"Dilution\"]),data[,\"Signal\"])"
   ]
  },
  {
   "cell_type": "code",
   "execution_count": 63,
   "metadata": {
    "ExecuteTime": {
     "end_time": "2019-09-10T15:27:27.423374Z",
     "start_time": "2019-09-10T15:27:27.192Z"
    }
   },
   "outputs": [],
   "source": [
    "help(remove)"
   ]
  },
  {
   "cell_type": "code",
   "execution_count": 122,
   "metadata": {
    "ExecuteTime": {
     "end_time": "2019-09-10T16:03:58.262016Z",
     "start_time": "2019-09-10T16:03:58.006Z"
    }
   },
   "outputs": [
    {
     "name": "stdout",
     "output_type": "stream",
     "text": [
      "[1] \"201903\"\n",
      "[1] \"201904\"\n",
      "[1] \"201905\"\n",
      "[1] \"201906\"\n"
     ]
    }
   ],
   "source": [
    "dfs = vector()\n",
    "\n",
    "folders = dir()\n",
    "\n",
    "for (folder in folders){\n",
    "    print(folder)\n",
    "    files = dir(folder)\n",
    "    for (file in files){\n",
    "        df = read.xlsx(paste(folder,file,sep='/'),1)\n",
    "        df[,\"date\"]=substr(file,7,14)\n",
    "        dfs = rbind(dfs,df)\n",
    "    }\n",
    "}"
   ]
  },
  {
   "cell_type": "code",
   "execution_count": 123,
   "metadata": {
    "ExecuteTime": {
     "end_time": "2019-09-10T16:03:59.373521Z",
     "start_time": "2019-09-10T16:03:59.278Z"
    }
   },
   "outputs": [
    {
     "data": {
      "image/png": "[encoded data removed]",
      "text/plain": [
       "plot without title"
      ]
     },
     "metadata": {},
     "output_type": "display_data"
    }
   ],
   "source": [
    "plot(log(dfs[,\"Dilution\"]),dfs[,\"Signal\"])"
   ]
  },
  {
   "cell_type": "code",
   "execution_count": 124,
   "metadata": {
    "ExecuteTime": {
     "end_time": "2019-09-10T16:04:02.654720Z",
     "start_time": "2019-09-10T16:04:02.628Z"
    }
   },
   "outputs": [],
   "source": [
    "mod <- nls(Signal ~ k2*Dilution/(k1+Dilution),start=list(k1=.5,k2=10),data = dfs)"
   ]
  },
  {
   "cell_type": "code",
   "execution_count": 125,
   "metadata": {
    "ExecuteTime": {
     "end_time": "2019-09-10T16:04:03.257967Z",
     "start_time": "2019-09-10T16:04:03.183Z"
    }
   },
   "outputs": [
    {
     "data": {
      "image/png": "[encoded data removed]",
      "text/plain": [
       "plot without title"
      ]
     },
     "metadata": {},
     "output_type": "display_data"
    }
   ],
   "source": [
    "xx = exp(seq(log(1e-12), log(1), length.out = 100))\n",
    "myx = data.frame(Dilution = c(xx))\n",
    "\n",
    "preds = predict(mod,myx)\n",
    "\n",
    "plot(log(dfs[,\"Dilution\"]),dfs[,\"Signal\"])\n",
    "lines(log(xx),preds)"
   ]
  },
  {
   "cell_type": "code",
   "execution_count": 120,
   "metadata": {
    "ExecuteTime": {
     "end_time": "2019-09-10T16:01:54.292073Z",
     "start_time": "2019-09-10T16:01:54.261Z"
    }
   },
   "outputs": [
    {
     "ename": "ERROR",
     "evalue": "Error in lseq(): konnte Funktion \"lseq\" nicht finden\n",
     "output_type": "error",
     "traceback": [
      "Error in lseq(): konnte Funktion \"lseq\" nicht finden\nTraceback:\n"
     ]
    }
   ],
   "source": [
    "lseq()"
   ]
  },
  {
   "cell_type": "code",
   "execution_count": 98,
   "metadata": {
    "ExecuteTime": {
     "end_time": "2019-09-10T15:51:47.963888Z",
     "start_time": "2019-09-10T15:51:47.926Z"
    }
   },
   "outputs": [
    {
     "data": {
      "text/html": [
       "80"
      ],
      "text/latex": [
       "80"
      ],
      "text/markdown": [
       "80"
      ],
      "text/plain": [
       "[1] 80"
      ]
     },
     "metadata": {},
     "output_type": "display_data"
    },
    {
     "data": {
      "text/html": [
       "1001"
      ],
      "text/latex": [
       "1001"
      ],
      "text/markdown": [
       "1001"
      ],
      "text/plain": [
       "[1] 1001"
      ]
     },
     "metadata": {},
     "output_type": "display_data"
    }
   ],
   "source": [
    "length(preds)\n",
    "length(xx)"
   ]
  },
  {
   "cell_type": "code",
   "execution_count": 103,
   "metadata": {
    "ExecuteTime": {
     "end_time": "2019-09-10T15:54:54.172061Z",
     "start_time": "2019-09-10T15:54:54.124Z"
    }
   },
   "outputs": [],
   "source": []
  },
  {
   "cell_type": "code",
   "execution_count": null,
   "metadata": {},
   "outputs": [],
   "source": []
  }
 ],
 "metadata": {
  "anaconda-cloud": {},
  "kernelspec": {
   "display_name": "R",
   "language": "R",
   "name": "ir"
  },
  "language_info": {
   "codemirror_mode": "r",
   "file_extension": ".r",
   "mimetype": "text/x-r-source",
   "name": "R",
   "pygments_lexer": "r",
   "version": "3.6.1"
  },
  "toc": {
   "base_numbering": 1,
   "nav_menu": {},
   "number_sections": false,
   "sideBar": true,
   "skip_h1_title": false,
   "title_cell": "Table of Contents",
   "title_sidebar": "Contents",
   "toc_cell": false,
   "toc_position": {
    "height": "calc(100% - 180px)",
    "left": "10px",
    "top": "150px",
    "width": "176.233px"
   },
   "toc_section_display": true,
   "toc_window_display": true
  }
 },
 "nbformat": 4,
 "nbformat_minor": 2
}

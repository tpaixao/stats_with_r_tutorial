{
 "cells": [
  {
   "cell_type": "markdown",
   "metadata": {},
   "source": [
    "<div class=\"alert alert-info\">\n",
    "\n",
    "### This is a Jupyter notebook\n",
    "\n",
    "You can learn all about the Jupyter interface [here](https://realpython.com/jupyter-notebook-introduction/)\n",
    "\n",
    "Some basics: \n",
    "Jupyter has two modes: command and edit. When you click a cell, you enter ```edit mode``` and you can edit its contents. To exit ```edit mode```, you press ```ESC```.\n",
    "\n",
    "* Cells can be either code cells or text (or markdown) cells\n",
    "* To run cells, press Shift+enter \n",
    "* To turn a cell into a text cell, press `m` (markdown) in command mode\n",
    "* To create a new cell use `b` (new cell below) or `a` (above) in command mode\n",
    "\n",
    "</div>"
   ]
  },
  {
   "cell_type": "code",
   "execution_count": 40,
   "metadata": {
    "ExecuteTime": {
     "end_time": "2019-10-09T16:26:12.478792Z",
     "start_time": "2019-10-09T16:26:12.420Z"
    }
   },
   "outputs": [],
   "source": [
    "options(repr.plot.width=4, repr.plot.height=4)"
   ]
  },
  {
   "cell_type": "markdown",
   "metadata": {
    "ExecuteTime": {
     "end_time": "2019-10-08T18:43:39.104216Z",
     "start_time": "2019-10-08T18:43:39.050Z"
    }
   },
   "source": [
    "# Nested ANOVA"
   ]
  },
  {
   "cell_type": "markdown",
   "metadata": {},
   "source": [
    "## reading the data"
   ]
  },
  {
   "cell_type": "code",
   "execution_count": 41,
   "metadata": {
    "ExecuteTime": {
     "end_time": "2019-10-09T16:26:15.351876Z",
     "start_time": "2019-10-09T16:26:15.289Z"
    }
   },
   "outputs": [],
   "source": [
    "path = '../datasets/data_chris/'\n",
    "treatments = dir(path)"
   ]
  },
  {
   "cell_type": "code",
   "execution_count": 42,
   "metadata": {
    "ExecuteTime": {
     "end_time": "2019-10-09T16:26:15.883905Z",
     "start_time": "2019-10-09T16:26:15.724Z"
    }
   },
   "outputs": [],
   "source": [
    "dfs = data.frame()\n",
    "j=0\n",
    "for(treatment in treatments){\n",
    "#     print(treatment)\n",
    "    animals = dir(paste(path,'/',treatment,sep=''))\n",
    "    i=0\n",
    "    for(animal in animals){\n",
    "        df = read.table(paste(path,'/',treatment,'/',animal,sep=''),skip=1)\n",
    "        df[,\"animal\"] = paste(treatment,'_',i,sep='')\n",
    "        df[,\"treatment\"] = treatment\n",
    "        df[,\"volume\"] = df[,'V1']\n",
    "#         df[,'cell']=j\n",
    "        dfs = rbind(dfs,df)\n",
    "        i=i+1\n",
    "        j=j+1\n",
    "    }\n",
    "}\n",
    "\n"
   ]
  },
  {
   "cell_type": "code",
   "execution_count": 43,
   "metadata": {
    "ExecuteTime": {
     "end_time": "2019-10-09T16:26:16.995935Z",
     "start_time": "2019-10-09T16:26:16.916Z"
    }
   },
   "outputs": [],
   "source": [
    "data = subset(dfs,select = c(\"volume\",\"animal\",\"treatment\"))\n",
    "data$animal = as.factor(data$animal)\n",
    "data$treatment = as.factor(data$treatment)\n",
    "# data$cell = as.factor(data$cell)"
   ]
  },
  {
   "cell_type": "code",
   "execution_count": 44,
   "metadata": {
    "ExecuteTime": {
     "end_time": "2019-10-09T16:26:20.680002Z",
     "start_time": "2019-10-09T16:26:20.587Z"
    }
   },
   "outputs": [],
   "source": [
    "library(nlme)"
   ]
  },
  {
   "cell_type": "markdown",
   "metadata": {},
   "source": [
    "# Nested Analysis of Variance"
   ]
  },
  {
   "cell_type": "code",
   "execution_count": 49,
   "metadata": {
    "ExecuteTime": {
     "end_time": "2019-10-09T16:26:55.945696Z",
     "start_time": "2019-10-09T16:26:55.899Z"
    }
   },
   "outputs": [],
   "source": [
    "data.aov = aov(volume ~ treatment + animal ,data=data)"
   ]
  },
  {
   "cell_type": "code",
   "execution_count": 50,
   "metadata": {
    "ExecuteTime": {
     "end_time": "2019-10-09T16:26:56.544728Z",
     "start_time": "2019-10-09T16:26:56.464Z"
    }
   },
   "outputs": [
    {
     "data": {
      "text/plain": [
       "             Df Sum Sq Mean Sq F value Pr(>F)    \n",
       "treatment     2   2244  1122.2  80.130 <2e-16 ***\n",
       "animal        9    335    37.2   2.657  0.007 ** \n",
       "Residuals   145   2031    14.0                   \n",
       "---\n",
       "Signif. codes:  0 '***' 0.001 '**' 0.01 '*' 0.05 '.' 0.1 ' ' 1"
      ]
     },
     "metadata": {},
     "output_type": "display_data"
    }
   ],
   "source": [
    "summary(data.aov)"
   ]
  },
  {
   "cell_type": "code",
   "execution_count": 69,
   "metadata": {
    "ExecuteTime": {
     "end_time": "2019-10-09T16:36:22.788168Z",
     "start_time": "2019-10-09T16:36:22.655Z"
    },
    "scrolled": false
   },
   "outputs": [
    {
     "data": {
      "image/png": "[encoded data removed]",
      "text/plain": [
       "plot without title"
      ]
     },
     "metadata": {},
     "output_type": "display_data"
    }
   ],
   "source": [
    "boxplot(volume ~ treatment,data=data)"
   ]
  },
  {
   "cell_type": "code",
   "execution_count": 52,
   "metadata": {
    "ExecuteTime": {
     "end_time": "2019-10-09T16:27:01.561848Z",
     "start_time": "2019-10-09T16:27:01.453Z"
    }
   },
   "outputs": [
    {
     "data": {
      "image/png": "[encoded data removed]",
      "text/plain": [
       "plot without title"
      ]
     },
     "metadata": {},
     "output_type": "display_data"
    }
   ],
   "source": [
    "boxplot(volume ~ animal,data=data)"
   ]
  },
  {
   "cell_type": "code",
   "execution_count": 53,
   "metadata": {
    "ExecuteTime": {
     "end_time": "2019-10-09T16:27:02.612881Z",
     "start_time": "2019-10-09T16:27:02.558Z"
    }
   },
   "outputs": [],
   "source": [
    "control.aov = aov(volume ~ animal,data=data[data[,\"treatment\"]==\"control\",])\n",
    "icrf.aov = aov(volume ~ animal,data=data[data[,\"treatment\"]==\"icrf\",])\n",
    "lds.aov = aov(volume ~ animal,data=data[data[,\"treatment\"]==\"LDS\",])"
   ]
  },
  {
   "cell_type": "code",
   "execution_count": 54,
   "metadata": {
    "ExecuteTime": {
     "end_time": "2019-10-09T16:27:04.184914Z",
     "start_time": "2019-10-09T16:27:04.060Z"
    }
   },
   "outputs": [
    {
     "data": {
      "text/plain": [
       "            Df Sum Sq Mean Sq F value   Pr(>F)    \n",
       "animal       2  111.1   55.54   8.681 0.000785 ***\n",
       "Residuals   38  243.1    6.40                     \n",
       "---\n",
       "Signif. codes:  0 '***' 0.001 '**' 0.01 '*' 0.05 '.' 0.1 ' ' 1"
      ]
     },
     "metadata": {},
     "output_type": "display_data"
    },
    {
     "data": {
      "text/plain": [
       "            Df Sum Sq Mean Sq F value Pr(>F)\n",
       "animal       3   23.1   7.696   0.595  0.621\n",
       "Residuals   51  659.4  12.929               "
      ]
     },
     "metadata": {},
     "output_type": "display_data"
    },
    {
     "data": {
      "text/plain": [
       "            Df Sum Sq Mean Sq F value Pr(>F)  \n",
       "animal       4  200.8   50.20   2.491 0.0533 .\n",
       "Residuals   56 1128.2   20.15                 \n",
       "---\n",
       "Signif. codes:  0 '***' 0.001 '**' 0.01 '*' 0.05 '.' 0.1 ' ' 1"
      ]
     },
     "metadata": {},
     "output_type": "display_data"
    }
   ],
   "source": [
    "summary(control.aov)\n",
    "summary(icrf.aov)\n",
    "summary(lds.aov)"
   ]
  },
  {
   "cell_type": "code",
   "execution_count": 56,
   "metadata": {
    "ExecuteTime": {
     "end_time": "2019-10-09T16:27:24.915101Z",
     "start_time": "2019-10-09T16:27:24.846Z"
    },
    "scrolled": true
   },
   "outputs": [
    {
     "data": {
      "text/plain": [
       "             Df Sum Sq Mean Sq F value Pr(>F)    \n",
       "treatment     2   2244  1122.2  80.130 <2e-16 ***\n",
       "animal        9    335    37.2   2.657  0.007 ** \n",
       "Residuals   145   2031    14.0                   \n",
       "---\n",
       "Signif. codes:  0 '***' 0.001 '**' 0.01 '*' 0.05 '.' 0.1 ' ' 1"
      ]
     },
     "metadata": {},
     "output_type": "display_data"
    }
   ],
   "source": [
    "summary(data.aov)"
   ]
  },
  {
   "cell_type": "code",
   "execution_count": 59,
   "metadata": {
    "ExecuteTime": {
     "end_time": "2019-10-09T16:27:57.777844Z",
     "start_time": "2019-10-09T16:27:57.498Z"
    },
    "scrolled": false
   },
   "outputs": [
    {
     "data": {
      "image/png": "[encoded data removed]",
      "text/plain": [
       "Plot with title \"\""
      ]
     },
     "metadata": {},
     "output_type": "display_data"
    }
   ],
   "source": [
    "options(repr.plot.width=8, repr.plot.height=8)\n",
    "layout(matrix(c(1,2,3,4),2,2))\n",
    "plot(data.aov)"
   ]
  },
  {
   "cell_type": "code",
   "execution_count": 60,
   "metadata": {
    "ExecuteTime": {
     "end_time": "2019-10-09T16:28:02.907979Z",
     "start_time": "2019-10-09T16:28:02.756Z"
    }
   },
   "outputs": [
    {
     "data": {
      "text/plain": [
       "  Tukey multiple comparisons of means\n",
       "    95% family-wise confidence level\n",
       "\n",
       "Fit: aov(formula = volume ~ treatment + animal, data = data)\n",
       "\n",
       "$treatment\n",
       "                 diff      lwr       upr     p adj\n",
       "icrf-control 2.886482 1.057985  4.714979 0.0007738\n",
       "LDS-control  9.065028 7.275350 10.854707 0.0000000\n",
       "LDS-icrf     6.178546 4.530708  7.826385 0.0000000\n",
       "\n",
       "$animal\n",
       "                           diff        lwr       upr     p adj\n",
       "control_1-control_0 -0.16986364 -5.0395110  4.699784 1.0000000\n",
       "control_2-control_0 -3.56879221 -8.5781449  1.440561 0.4352432\n",
       "icrf_0-control_0    -0.88184568 -5.5922637  3.828572 0.9999738\n",
       "icrf_1-control_0    -0.53027425 -6.5414975  5.480949 1.0000000\n",
       "icrf_2-control_0    -2.39038414 -7.4838051  2.703037 0.9206015\n",
       "icrf_3-control_0    -1.19547068 -6.0651181  3.674177 0.9996193\n",
       "LDS_0-control_0     -3.54428091 -9.1324478  2.043886 0.6185837\n",
       "LDS_1-control_0     -3.23959203 -8.6719111  2.192727 0.7052331\n",
       "LDS_2-control_0     -1.61582953 -6.4854769  3.253818 0.9941659\n",
       "LDS_3-control_0     -0.82514203 -6.0149217  4.364638 0.9999951\n",
       "LDS_4-control_0      1.54789369 -3.4614590  6.557246 0.9968450\n",
       "control_2-control_1 -3.39892857 -7.9488991  1.151042 0.3598619\n",
       "icrf_0-control_1    -0.71198204 -4.9305903  3.506626 0.9999909\n",
       "icrf_1-control_1    -0.36041061 -5.9945408  5.273720 1.0000000\n",
       "icrf_2-control_1    -2.22052050 -6.8628857  2.421845 0.9104029\n",
       "icrf_3-control_1    -1.02560704 -5.4212962  3.370082 0.9997666\n",
       "LDS_0-control_1     -3.37441728 -8.5547866  1.805952 0.5780974\n",
       "LDS_1-control_1     -3.06972839 -8.0815851  1.942128 0.6690113\n",
       "LDS_2-control_1     -1.44596589 -5.8416551  2.949723 0.9945802\n",
       "LDS_3-control_1     -0.65527839 -5.4031653  4.092609 0.9999989\n",
       "LDS_4-control_1      1.71775733 -2.8322132  6.267728 0.9832756\n",
       "icrf_0-control_2     2.68694653 -1.6921863  7.066079 0.6665311\n",
       "icrf_1-control_2     3.03851796 -2.7167901  8.793826 0.8395303\n",
       "icrf_2-control_2     1.17840807 -3.6102977  5.967114 0.9996105\n",
       "icrf_3-control_2     2.37332153 -2.1766490  6.923292 0.8499482\n",
       "LDS_0-control_2      0.02451129 -5.2873975  5.336420 1.0000000\n",
       "LDS_1-control_2      0.32920018 -4.8185039  5.476904 1.0000000\n",
       "LDS_2-control_2      1.95296268 -2.5970079  6.502933 0.9565091\n",
       "LDS_3-control_2      2.74365018 -2.1474212  7.634722 0.7793250\n",
       "LDS_4-control_2      5.11668590  0.4174965  9.815875 0.0202693\n",
       "icrf_1-icrf_0        0.35157143 -5.1455182  5.848661 1.0000000\n",
       "icrf_2-icrf_0       -1.50853846 -5.9835945  2.966518 0.9933342\n",
       "icrf_3-icrf_0       -0.31362500 -4.5322333  3.904983 1.0000000\n",
       "LDS_0-icrf_0        -2.66243524 -7.6934191  2.368549 0.8374181\n",
       "LDS_1-icrf_0        -2.35774635 -7.2150378  2.499545 0.9018057\n",
       "LDS_2-icrf_0        -0.73398385 -4.9525921  3.484624 0.9999876\n",
       "LDS_3-icrf_0         0.05670365 -4.5277268  4.641134 1.0000000\n",
       "LDS_4-icrf_0         2.42973937 -1.9493935  6.808872 0.7911772\n",
       "icrf_2-icrf_1       -1.86010989 -7.6887370  3.968517 0.9958209\n",
       "icrf_3-icrf_1       -0.66519643 -6.2993266  4.968934 0.9999998\n",
       "LDS_0-icrf_1        -3.01400667 -9.2795925  3.251579 0.9071574\n",
       "LDS_1-icrf_1        -2.70931778 -8.8363111  3.417676 0.9465167\n",
       "LDS_2-icrf_1        -1.08555528 -6.7196854  4.548575 0.9999649\n",
       "LDS_3-icrf_1        -0.29486778 -6.2078847  5.618149 1.0000000\n",
       "LDS_4-icrf_1         2.07816794 -3.6771402  7.833476 0.9882595\n",
       "icrf_3-icrf_2        1.19491346 -3.4474517  5.837279 0.9994035\n",
       "LDS_0-icrf_2        -1.15389678 -6.5451580  4.237364 0.9998997\n",
       "LDS_1-icrf_2        -0.84920789 -6.0787566  4.380341 0.9999939\n",
       "LDS_2-icrf_2         0.77455461 -3.8678106  5.416920 0.9999919\n",
       "LDS_3-icrf_2         1.56524211 -3.4118958  6.542380 0.9963203\n",
       "LDS_4-icrf_2         3.93827783 -0.8504280  8.726984 0.2215480\n",
       "LDS_0-icrf_3        -2.34881024 -7.5291796  2.831559 0.9366505\n",
       "LDS_1-icrf_3        -2.04412135 -7.0559781  2.967735 0.9699076\n",
       "LDS_2-icrf_3        -0.42035885 -4.8160480  3.975330 1.0000000\n",
       "LDS_3-icrf_3         0.37032865 -4.3775583  5.118216 1.0000000\n",
       "LDS_4-icrf_3         2.74336437 -1.8066062  7.293335 0.6906013\n",
       "LDS_1-LDS_0          0.30468889 -5.4078282  6.017206 1.0000000\n",
       "LDS_2-LDS_0          1.92845139 -3.2519180  7.108821 0.9850258\n",
       "LDS_3-LDS_0          2.71913889 -2.7632487  8.201526 0.8880316\n",
       "LDS_4-LDS_0          5.09217460 -0.2197342 10.404083 0.0735923\n",
       "LDS_2-LDS_1          1.62376250 -3.3880943  6.635619 0.9952410\n",
       "LDS_3-LDS_1          2.41445000 -2.9089939  7.737894 0.9365158\n",
       "LDS_4-LDS_1          4.78748571 -0.3602183  9.935190 0.0948584\n",
       "LDS_3-LDS_2          0.79068750 -3.9571994  5.538574 0.9999921\n",
       "LDS_4-LDS_2          3.16372321 -1.3862473  7.713694 0.4744308\n",
       "LDS_4-LDS_3          2.37303571 -2.5180357  7.264107 0.9020883\n"
      ]
     },
     "metadata": {},
     "output_type": "display_data"
    }
   ],
   "source": [
    "TukeyHSD(data.aov)"
   ]
  },
  {
   "cell_type": "code",
   "execution_count": 87,
   "metadata": {
    "ExecuteTime": {
     "end_time": "2019-10-08T21:49:07.222444Z",
     "start_time": "2019-10-08T21:49:07.146Z"
    },
    "scrolled": true
   },
   "outputs": [
    {
     "data": {
      "text/html": [
       "<ol class=list-inline>\n",
       "\t<li>control_0</li>\n",
       "\t<li>control_1</li>\n",
       "\t<li>control_2</li>\n",
       "\t<li>icrf_0</li>\n",
       "\t<li>icrf_1</li>\n",
       "\t<li>icrf_2</li>\n",
       "\t<li>icrf_3</li>\n",
       "\t<li>LDS_0</li>\n",
       "\t<li>LDS_1</li>\n",
       "\t<li>LDS_2</li>\n",
       "\t<li>LDS_3</li>\n",
       "\t<li>LDS_4</li>\n",
       "</ol>\n",
       "\n",
       "<details>\n",
       "\t<summary style=display:list-item;cursor:pointer>\n",
       "\t\t<strong>Levels</strong>:\n",
       "\t</summary>\n",
       "\t<ol class=list-inline>\n",
       "\t\t<li>'control_0'</li>\n",
       "\t\t<li>'control_1'</li>\n",
       "\t\t<li>'control_2'</li>\n",
       "\t\t<li>'icrf_0'</li>\n",
       "\t\t<li>'icrf_1'</li>\n",
       "\t\t<li>'icrf_2'</li>\n",
       "\t\t<li>'icrf_3'</li>\n",
       "\t\t<li>'LDS_0'</li>\n",
       "\t\t<li>'LDS_1'</li>\n",
       "\t\t<li>'LDS_2'</li>\n",
       "\t\t<li>'LDS_3'</li>\n",
       "\t\t<li>'LDS_4'</li>\n",
       "\t</ol>\n",
       "</details>"
      ],
      "text/latex": [
       "\\begin{enumerate*}\n",
       "\\item control\\_0\n",
       "\\item control\\_1\n",
       "\\item control\\_2\n",
       "\\item icrf\\_0\n",
       "\\item icrf\\_1\n",
       "\\item icrf\\_2\n",
       "\\item icrf\\_3\n",
       "\\item LDS\\_0\n",
       "\\item LDS\\_1\n",
       "\\item LDS\\_2\n",
       "\\item LDS\\_3\n",
       "\\item LDS\\_4\n",
       "\\end{enumerate*}\n",
       "\n",
       "\\emph{Levels}: \\begin{enumerate*}\n",
       "\\item 'control\\_0'\n",
       "\\item 'control\\_1'\n",
       "\\item 'control\\_2'\n",
       "\\item 'icrf\\_0'\n",
       "\\item 'icrf\\_1'\n",
       "\\item 'icrf\\_2'\n",
       "\\item 'icrf\\_3'\n",
       "\\item 'LDS\\_0'\n",
       "\\item 'LDS\\_1'\n",
       "\\item 'LDS\\_2'\n",
       "\\item 'LDS\\_3'\n",
       "\\item 'LDS\\_4'\n",
       "\\end{enumerate*}\n"
      ],
      "text/markdown": [
       "1. control_0\n",
       "2. control_1\n",
       "3. control_2\n",
       "4. icrf_0\n",
       "5. icrf_1\n",
       "6. icrf_2\n",
       "7. icrf_3\n",
       "8. LDS_0\n",
       "9. LDS_1\n",
       "10. LDS_2\n",
       "11. LDS_3\n",
       "12. LDS_4\n",
       "\n",
       "\n",
       "\n",
       "**Levels**: 1. 'control_0'\n",
       "2. 'control_1'\n",
       "3. 'control_2'\n",
       "4. 'icrf_0'\n",
       "5. 'icrf_1'\n",
       "6. 'icrf_2'\n",
       "7. 'icrf_3'\n",
       "8. 'LDS_0'\n",
       "9. 'LDS_1'\n",
       "10. 'LDS_2'\n",
       "11. 'LDS_3'\n",
       "12. 'LDS_4'\n",
       "\n",
       "\n"
      ],
      "text/plain": [
       " [1] control_0 control_1 control_2 icrf_0    icrf_1    icrf_2    icrf_3   \n",
       " [8] LDS_0     LDS_1     LDS_2     LDS_3     LDS_4    \n",
       "12 Levels: control_0 control_1 control_2 icrf_0 icrf_1 icrf_2 icrf_3 ... LDS_4"
      ]
     },
     "metadata": {},
     "output_type": "display_data"
    }
   ],
   "source": [
    "unique(data$animal)"
   ]
  },
  {
   "cell_type": "markdown",
   "metadata": {},
   "source": [
    "### testing"
   ]
  },
  {
   "cell_type": "code",
   "execution_count": 21,
   "metadata": {
    "ExecuteTime": {
     "end_time": "2019-10-08T21:03:11.503689Z",
     "start_time": "2019-10-08T21:03:11.393Z"
    }
   },
   "outputs": [
    {
     "data": {
      "text/html": [
       "<table>\n",
       "<caption>A data.frame: 6 × 4</caption>\n",
       "<thead>\n",
       "\t<tr><th scope=col>y</th><th scope=col>A</th><th scope=col>Sites</th><th scope=col>Quads</th></tr>\n",
       "\t<tr><th scope=col>&lt;dbl&gt;</th><th scope=col>&lt;fct&gt;</th><th scope=col>&lt;fct&gt;</th><th scope=col>&lt;int&gt;</th></tr>\n",
       "</thead>\n",
       "<tbody>\n",
       "\t<tr><td>32.25789</td><td>a1</td><td>S1</td><td>1</td></tr>\n",
       "\t<tr><td>32.40160</td><td>a1</td><td>S1</td><td>2</td></tr>\n",
       "\t<tr><td>37.20174</td><td>a1</td><td>S1</td><td>3</td></tr>\n",
       "\t<tr><td>36.58866</td><td>a1</td><td>S1</td><td>4</td></tr>\n",
       "\t<tr><td>35.45206</td><td>a1</td><td>S1</td><td>5</td></tr>\n",
       "\t<tr><td>37.07744</td><td>a1</td><td>S1</td><td>6</td></tr>\n",
       "</tbody>\n",
       "</table>\n"
      ],
      "text/latex": [
       "A data.frame: 6 × 4\n",
       "\\begin{tabular}{r|llll}\n",
       " y & A & Sites & Quads\\\\\n",
       " <dbl> & <fct> & <fct> & <int>\\\\\n",
       "\\hline\n",
       "\t 32.25789 & a1 & S1 & 1\\\\\n",
       "\t 32.40160 & a1 & S1 & 2\\\\\n",
       "\t 37.20174 & a1 & S1 & 3\\\\\n",
       "\t 36.58866 & a1 & S1 & 4\\\\\n",
       "\t 35.45206 & a1 & S1 & 5\\\\\n",
       "\t 37.07744 & a1 & S1 & 6\\\\\n",
       "\\end{tabular}\n"
      ],
      "text/markdown": [
       "\n",
       "A data.frame: 6 × 4\n",
       "\n",
       "| y &lt;dbl&gt; | A &lt;fct&gt; | Sites &lt;fct&gt; | Quads &lt;int&gt; |\n",
       "|---|---|---|---|\n",
       "| 32.25789 | a1 | S1 | 1 |\n",
       "| 32.40160 | a1 | S1 | 2 |\n",
       "| 37.20174 | a1 | S1 | 3 |\n",
       "| 36.58866 | a1 | S1 | 4 |\n",
       "| 35.45206 | a1 | S1 | 5 |\n",
       "| 37.07744 | a1 | S1 | 6 |\n",
       "\n"
      ],
      "text/plain": [
       "  y        A  Sites Quads\n",
       "1 32.25789 a1 S1    1    \n",
       "2 32.40160 a1 S1    2    \n",
       "3 37.20174 a1 S1    3    \n",
       "4 36.58866 a1 S1    4    \n",
       "5 35.45206 a1 S1    5    \n",
       "6 37.07744 a1 S1    6    "
      ]
     },
     "metadata": {},
     "output_type": "display_data"
    }
   ],
   "source": [
    "set.seed(1)\n",
    "nTreat <- 3\n",
    "nSites <- 15\n",
    "nSitesPerTreat <- nSites/nTreat\n",
    "nQuads <- 10\n",
    "site.sigma <- 12\n",
    "sigma <- 5\n",
    "n <- nSites * nQuads\n",
    "sites <- gl(n = nSites, k = nQuads, lab = paste0(\"S\", 1:nSites))\n",
    "A <- gl(nTreat, nSitesPerTreat * nQuads, n, labels = c(\"a1\", \"a2\", \"a3\"))\n",
    "a.means <- c(40, 70, 80)\n",
    "## the site means (treatment effects) are drawn from normal distributions with means of 40, 70 and 80\n",
    "## and standard deviations of 12\n",
    "A.effects <- rnorm(nSites, rep(a.means, each = nSitesPerTreat), site.sigma)\n",
    "Xmat <- model.matrix(~sites - 1)\n",
    "lin.pred <- Xmat %*% c(A.effects)\n",
    "## the quadrat observations (within sites) are drawn from normal distributions with means according to\n",
    "## the site means and standard deviations of 5\n",
    "y <- rnorm(n, lin.pred, sigma)\n",
    "data.nest <- data.frame(y = y, A = A, Sites = sites, Quads = 1:length(y))\n",
    "head(data.nest)  #print out the first six rows of the data set"
   ]
  },
  {
   "cell_type": "code",
   "execution_count": 22,
   "metadata": {
    "ExecuteTime": {
     "end_time": "2019-10-08T21:03:37.210418Z",
     "start_time": "2019-10-08T21:03:34.814Z"
    }
   },
   "outputs": [
    {
     "data": {
      "image/png": "[encoded data removed]",
      "text/plain": [
       "plot without title"
      ]
     },
     "metadata": {},
     "output_type": "display_data"
    }
   ],
   "source": [
    "library(ggplot2)\n",
    "ggplot(data.nest, aes(y = y, x = 1)) + geom_boxplot() + facet_grid(. ~ Sites)"
   ]
  },
  {
   "cell_type": "code",
   "execution_count": 31,
   "metadata": {
    "ExecuteTime": {
     "end_time": "2019-10-08T21:13:20.195344Z",
     "start_time": "2019-10-08T21:13:20.107Z"
    }
   },
   "outputs": [],
   "source": [
    "data.lme = lme(volume ~ treatment,random = ~1|animal,data,method=\"REML\" )"
   ]
  },
  {
   "cell_type": "code",
   "execution_count": 33,
   "metadata": {
    "ExecuteTime": {
     "end_time": "2019-10-08T21:15:14.004925Z",
     "start_time": "2019-10-08T21:15:13.945Z"
    }
   },
   "outputs": [
    {
     "data": {
      "text/plain": [
       "animal = pdLogChol(1) \n",
       "            Variance  StdDev  \n",
       "(Intercept)  1.848465 1.359583\n",
       "Residual    14.006646 3.742545"
      ]
     },
     "metadata": {},
     "output_type": "display_data"
    }
   ],
   "source": [
    "VarCorr(data.lme)"
   ]
  },
  {
   "cell_type": "code",
   "execution_count": 32,
   "metadata": {
    "ExecuteTime": {
     "end_time": "2019-10-08T21:13:20.829375Z",
     "start_time": "2019-10-08T21:13:20.766Z"
    }
   },
   "outputs": [
    {
     "data": {
      "text/plain": [
       "Linear mixed-effects model fit by REML\n",
       " Data: data \n",
       "       AIC      BIC    logLik\n",
       "  874.1597 889.3445 -432.0799\n",
       "\n",
       "Random effects:\n",
       " Formula: ~1 | animal\n",
       "        (Intercept) Residual\n",
       "StdDev:    1.359583 3.742545\n",
       "\n",
       "Fixed effects: volume ~ treatment \n",
       "                  Value Std.Error  DF   t-value p-value\n",
       "(Intercept)   14.002031 0.9813077 145 14.268747  0.0000\n",
       "treatmenticrf  2.873021 1.3041241   9  2.203027  0.0551\n",
       "treatmentLDS   8.901171 1.2524299   9  7.107121  0.0001\n",
       " Correlation: \n",
       "              (Intr) trtmnt\n",
       "treatmenticrf -0.752       \n",
       "treatmentLDS  -0.784  0.590\n",
       "\n",
       "Standardized Within-Group Residuals:\n",
       "       Min         Q1        Med         Q3        Max \n",
       "-2.7131867 -0.6126349 -0.1786329  0.4976448  4.0835244 \n",
       "\n",
       "Number of Observations: 157\n",
       "Number of Groups: 12 "
      ]
     },
     "metadata": {},
     "output_type": "display_data"
    }
   ],
   "source": [
    "summary(data.lme)"
   ]
  },
  {
   "cell_type": "code",
   "execution_count": 63,
   "metadata": {
    "ExecuteTime": {
     "end_time": "2019-10-09T16:31:45.804901Z",
     "start_time": "2019-10-09T16:31:45.732Z"
    }
   },
   "outputs": [],
   "source": [
    "fit = lme4::lmer(\"volume ~ treatment + (1|animal)\",data=data)"
   ]
  },
  {
   "cell_type": "code",
   "execution_count": 64,
   "metadata": {
    "ExecuteTime": {
     "end_time": "2019-10-09T16:31:46.195923Z",
     "start_time": "2019-10-09T16:31:46.128Z"
    }
   },
   "outputs": [
    {
     "data": {
      "text/plain": [
       "Linear mixed model fit by REML ['lmerMod']\n",
       "Formula: volume ~ treatment + (1 | animal)\n",
       "   Data: data\n",
       "\n",
       "REML criterion at convergence: 864.2\n",
       "\n",
       "Scaled residuals: \n",
       "    Min      1Q  Median      3Q     Max \n",
       "-2.7132 -0.6126 -0.1786  0.4976  4.0835 \n",
       "\n",
       "Random effects:\n",
       " Groups   Name        Variance Std.Dev.\n",
       " animal   (Intercept)  1.848   1.360   \n",
       " Residual             14.007   3.743   \n",
       "Number of obs: 157, groups:  animal, 12\n",
       "\n",
       "Fixed effects:\n",
       "              Estimate Std. Error t value\n",
       "(Intercept)    14.0020     0.9813  14.269\n",
       "treatmenticrf   2.8730     1.3041   2.203\n",
       "treatmentLDS    8.9012     1.2524   7.107\n",
       "\n",
       "Correlation of Fixed Effects:\n",
       "            (Intr) trtmnt\n",
       "treatmntcrf -0.752       \n",
       "treatmntLDS -0.784  0.590"
      ]
     },
     "metadata": {},
     "output_type": "display_data"
    }
   ],
   "source": [
    "summary(fit)"
   ]
  },
  {
   "cell_type": "code",
   "execution_count": null,
   "metadata": {},
   "outputs": [],
   "source": []
  }
 ],
 "metadata": {
  "kernelspec": {
   "display_name": "R",
   "language": "R",
   "name": "ir"
  },
  "language_info": {
   "codemirror_mode": "r",
   "file_extension": ".r",
   "mimetype": "text/x-r-source",
   "name": "R",
   "pygments_lexer": "r",
   "version": "3.6.1"
  },
  "toc": {
   "base_numbering": 1,
   "nav_menu": {},
   "number_sections": true,
   "sideBar": true,
   "skip_h1_title": false,
   "title_cell": "Table of Contents",
   "title_sidebar": "Contents",
   "toc_cell": false,
   "toc_position": {},
   "toc_section_display": true,
   "toc_window_display": false
  }
 },
 "nbformat": 4,
 "nbformat_minor": 2
}

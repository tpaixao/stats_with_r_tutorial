{
 "cells": [
  {
   "cell_type": "markdown",
   "metadata": {},
   "source": [
    "<div class=\"alert alert-info\">\n",
    "\n",
    "### This is a Jupyter notebook\n",
    "\n",
    "You can learn all about the Jupyter interface [here](https://realpython.com/jupyter-notebook-introduction/)\n",
    "\n",
    "Some basics: \n",
    "Jupyter has two modes: command and edit. When you click a cell, you enter ```edit mode``` and you can edit its contents. To exit ```edit mode```, you press ```ESC```.\n",
    "\n",
    "* Cells can be either code cells or text (or markdown) cells\n",
    "* To run cells, press Shift+enter \n",
    "* To turn a cell into a text cell, press `m` (markdown) in command mode\n",
    "* To create a new cell use `b` (new cell below) or `a` (above) in command mode\n",
    "\n",
    "</div>"
   ]
  },
  {
   "cell_type": "code",
   "execution_count": 112,
   "metadata": {},
   "outputs": [],
   "source": [
    "options(repr.plot.width=5, repr.plot.height=5)"
   ]
  },
  {
   "cell_type": "markdown",
   "metadata": {},
   "source": [
    "# Introduction to Hypothesis Testing\n",
    "\n",
    "\n",
    "In exoerimental settings you are usually comparing two groups (controls and the others). The basic idea in statistical hypothesis testing is to assess the probability that there is no difference between the two groups. Essentialy you are applying [Occam's Razor](https://en.wikipedia.org/wiki/Occam%27s_razor) (*Numquam ponenda est pluritas sine necessitate*), which essentially states that the simplest explanation is probably the best.  Like Karl Popper said: *Science advances by rejection*. \n",
    "\n",
    "Once you state you null hypothesis, (and the alternative hypothesis), you can then calculate what is the probability that your data came from the null hypothesis, **given that the null hypothesis is true**. \n",
    "\n",
    "<div class=\"alert alert-info\">\n",
    "\n",
    "This is your *p-value*. It is simply the probability of the data, under the null hypothesis. If this probability is low, you have sufficient statistical evidence to reject the null hypothesis. Otherwise, you fail to reject the null hypothesis.\n",
    "\n",
    "</div>\n",
    "\n",
    "One thing to remember is that your test is only as good as your null hypothesis. **If your null hypothesis cannot be true, you chose it wrong**, so you have to choose a sensible one, that has a chance of being true.\n",
    "\n",
    "You will notice that I was vague about how low the p-value needs to be. This is because this is a subjective choice. A common choice is 5% (significante level of 95% - $1-p_{crit}$), but that is simply convention. At 5% you accept that  1 in 20 times you **will wrongly reject the null hypothesis**. This is the so-called *type I error*. More on that later! \n"
   ]
  },
  {
   "cell_type": "markdown",
   "metadata": {},
   "source": [
    "Lets go through an example. Imagine that a researcher wants to study a hybrid mouse in which one of the copies of a gene (*pem*) is replaced by a non-functional protein (*gfp*). However, when the hybrids were crossed, no homozygous *pem* genotypes appeared. Is *pem* a recessive embryonic lethal gene?\n",
    "\n",
    "So, in this case our null hypothesis $H_0$ is that the number of homozygous *pem* comes from a binomial distribution with probability $p=1/4$. The alternative is that the probability of homozygous *pem* is **less** than $1/4$.\n",
    "\n",
    "$$\n",
    "H_0: p=\\frac{1}{4}\\\\\n",
    "H_1: p<\\frac{1}{4}\n",
    "$$\n",
    "\n",
    "How do we test? We simply calculate how likely is it to get a 0 successes (homozygous *pem*) under a binomial distribution with $p=1/4$ and $n$ equal to the size of the litter. In other words, this binomial is oour null distribution and the test statistic is the probability of a 0 ($P_0$)"
   ]
  },
  {
   "cell_type": "code",
   "execution_count": 113,
   "metadata": {},
   "outputs": [
    {
     "data": {
      "image/png": "[encoded data removed]",
      "text/plain": [
       "plot without title"
      ]
     },
     "metadata": {},
     "output_type": "display_data"
    }
   ],
   "source": [
    "xx = 0:10\n",
    "plot(xx-.05,dbinom(xx,size = 8,prob=.25),type='h',col='red',xlab='# pem homozygous',ylab='probability')\n",
    "points(xx+.05,dbinom(xx,size = 10,prob=.25),type='h',col='blue')\n",
    "\n",
    "legend(6,.25,legend = c(\"n=8\",\"n=10\"),lty=1,col=c('red','blue'))\n",
    "\n",
    "rect(-.3, -.01, .3, .15, col = rgb(1,0,0,.1), border = , lty = par(\"lty\"), lwd = par(\"lwd\"))"
   ]
  },
  {
   "cell_type": "markdown",
   "metadata": {},
   "source": [
    "So, obviously for a litter size of 10 (I am assuming here), it is hard to reject the null hypothesis that the *pem* homozygous just didn't happen, but it is still inherited in a mendelian way. More formally we could perform the binomial test, which is essentially the same thing."
   ]
  },
  {
   "cell_type": "code",
   "execution_count": 75,
   "metadata": {
    "scrolled": true
   },
   "outputs": [
    {
     "data": {
      "text/plain": [
       "\n",
       "\tExact binomial test\n",
       "\n",
       "data:  0 and 10\n",
       "number of successes = 0, number of trials = 10, p-value = 0.05631\n",
       "alternative hypothesis: true probability of success is less than 0.25\n",
       "95 percent confidence interval:\n",
       " 0.0000000 0.2588656\n",
       "sample estimates:\n",
       "probability of success \n",
       "                     0 \n"
      ]
     },
     "metadata": {},
     "output_type": "display_data"
    }
   ],
   "source": [
    "binom.test(0,10,p = .25,alternative = 'less')"
   ]
  },
  {
   "cell_type": "markdown",
   "metadata": {},
   "source": [
    "This was assuming a single litter. What if you had several litters? Can you think about it? What if the several litters had different sizes?"
   ]
  },
  {
   "cell_type": "markdown",
   "metadata": {},
   "source": [
    "# Type I and type II errors - Calculating the power of the test\n",
    "\n",
    "We already know that a **type I** error is when you falsely reject the null hypothesis, thereby accepting the alternative hypothesis (also called a **false positive**). The flipside of this is when you falsely accept the null-hypothesis when it is in reality not true (I am abusing the language here). This is called a **type II** error, that is, when you reject the alternative hypothesis when it is in reality true (a **false negative**).\n",
    "\n",
    "<div class=\"alert alert-info\">\n",
    "\n",
    "**Why is this important?** Because, most times, you want to not just reject the null hypothesis but also to detect the effect you are looking for. \n",
    "\n",
    "</div>\n",
    "\n",
    "If you were just interested in rejecting the null hypothesis, you could lower your significance level (your critical *p-value*) to nearly zero and you would nearly always reject it. However, in that case, the minimal effect (on the alternative hypothesis) you could reliably detect would be huge, and you would never see it.\n"
   ]
  },
  {
   "cell_type": "markdown",
   "metadata": {},
   "source": [
    "Let's look at an example:\n",
    "\n",
    "Imagine you are planning a experiment where you have two groups: control and treatment. You would like to know if the treatment had any effect, but you would like to know what is the minimum difference that you can detect. Obviously, the best way to detect a difference in means of the two groups is to perform a `t-test` (You remember the `t` distribution from the Confidence interval lecture, right?).\n",
    "\n",
    "We can calculate this by simulation (we could do it using analytical methods, but this is more instructive). The way we do this is to sample from the two normal distributions, assuming that one of them has a slightly different mean. Because the difference of two normals is still a normal, the ratio of the mean and standard deviation of this sample will follow a `t` distribution. so we can use that to test our hypothesis, and to check how often the null hypothesis is reject when there is in fact a difference between the two distributions.\n",
    "\n",
    "**So lets do it**\n"
   ]
  },
  {
   "cell_type": "code",
   "execution_count": 119,
   "metadata": {},
   "outputs": [],
   "source": [
    "sample_size =100\n",
    "\n",
    "x = rnorm(sample_size) # a random sample (n=100) from a normal distribution with mean 0 and std deviatio 1\n",
    "y = rnorm(sample_size,1) # another random sample of the smae size but with a difference in the mean\n",
    "tval=t.test(x,y)"
   ]
  },
  {
   "cell_type": "code",
   "execution_count": 120,
   "metadata": {},
   "outputs": [
    {
     "data": {
      "text/html": [
       "<dl>\n",
       "\t<dt>$names</dt>\n",
       "\t\t<dd><ol class=list-inline>\n",
       "\t<li>'statistic'</li>\n",
       "\t<li>'parameter'</li>\n",
       "\t<li>'p.value'</li>\n",
       "\t<li>'conf.int'</li>\n",
       "\t<li>'estimate'</li>\n",
       "\t<li>'null.value'</li>\n",
       "\t<li>'stderr'</li>\n",
       "\t<li>'alternative'</li>\n",
       "\t<li>'method'</li>\n",
       "\t<li>'data.name'</li>\n",
       "</ol>\n",
       "</dd>\n",
       "\t<dt>$class</dt>\n",
       "\t\t<dd>'htest'</dd>\n",
       "</dl>\n"
      ],
      "text/latex": [
       "\\begin{description}\n",
       "\\item[\\$names] \\begin{enumerate*}\n",
       "\\item 'statistic'\n",
       "\\item 'parameter'\n",
       "\\item 'p.value'\n",
       "\\item 'conf.int'\n",
       "\\item 'estimate'\n",
       "\\item 'null.value'\n",
       "\\item 'stderr'\n",
       "\\item 'alternative'\n",
       "\\item 'method'\n",
       "\\item 'data.name'\n",
       "\\end{enumerate*}\n",
       "\n",
       "\\item[\\$class] 'htest'\n",
       "\\end{description}\n"
      ],
      "text/markdown": [
       "$names\n",
       ":   1. 'statistic'\n",
       "2. 'parameter'\n",
       "3. 'p.value'\n",
       "4. 'conf.int'\n",
       "5. 'estimate'\n",
       "6. 'null.value'\n",
       "7. 'stderr'\n",
       "8. 'alternative'\n",
       "9. 'method'\n",
       "10. 'data.name'\n",
       "\n",
       "\n",
       "\n",
       "$class\n",
       ":   'htest'\n",
       "\n",
       "\n"
      ],
      "text/plain": [
       "$names\n",
       " [1] \"statistic\"   \"parameter\"   \"p.value\"     \"conf.int\"    \"estimate\"   \n",
       " [6] \"null.value\"  \"stderr\"      \"alternative\" \"method\"      \"data.name\"  \n",
       "\n",
       "$class\n",
       "[1] \"htest\"\n"
      ]
     },
     "metadata": {},
     "output_type": "display_data"
    }
   ],
   "source": [
    "attributes(tval)"
   ]
  },
  {
   "cell_type": "code",
   "execution_count": 121,
   "metadata": {},
   "outputs": [
    {
     "data": {
      "text/html": [
       "1.79111345980822e-11"
      ],
      "text/latex": [
       "1.79111345980822e-11"
      ],
      "text/markdown": [
       "1.79111345980822e-11"
      ],
      "text/plain": [
       "[1] 1.791113e-11"
      ]
     },
     "metadata": {},
     "output_type": "display_data"
    }
   ],
   "source": [
    "tval$p.value\n"
   ]
  },
  {
   "cell_type": "markdown",
   "metadata": {},
   "source": [
    "## Calculating the power of a test"
   ]
  },
  {
   "cell_type": "code",
   "execution_count": 123,
   "metadata": {},
   "outputs": [],
   "source": [
    "means = seq(-.5,.5,.01) # the range of means you want to test\n",
    "reps=1000 # repetitions\n",
    "sample_size=100 # sample size\n",
    "\n",
    "\n",
    "counts_vector=vector()\n",
    "\n",
    "for(m in means){ # for each difference in mean\n",
    "    counts = 0\n",
    "    for(n in 1:reps) # count how often we reject the null hypothesis\n",
    "    {    \n",
    "        x = rnorm(sample_size,mean = m)\n",
    "        y = rnorm(sample_size)\n",
    "        tval=t.test(x,y)\n",
    "        pval = tval$p.value\n",
    "        if (pval<=.05){  # if p<.05, reject and add to the counter\n",
    "            counts=counts+1\n",
    "        }\n",
    "    }    \n",
    "    counts_vector = c(counts_vector,counts/reps)\n",
    "}"
   ]
  },
  {
   "cell_type": "code",
   "execution_count": 124,
   "metadata": {},
   "outputs": [
    {
     "data": {
      "image/png": "[encoded data removed]",
      "text/plain": [
       "plot without title"
      ]
     },
     "metadata": {},
     "output_type": "display_data"
    }
   ],
   "source": [
    "plot(means,counts_vector,xlab=\"true mean\",ylab=\"fraction H0 rejected\",type=\"l\")\n",
    "# abline(h=.6)"
   ]
  },
  {
   "cell_type": "code",
   "execution_count": 125,
   "metadata": {},
   "outputs": [
    {
     "data": {
      "text/html": [
       "-0.28"
      ],
      "text/latex": [
       "-0.28"
      ],
      "text/markdown": [
       "-0.28"
      ],
      "text/plain": [
       "[1] -0.28"
      ]
     },
     "metadata": {},
     "output_type": "display_data"
    }
   ],
   "source": [
    "means[which(means[(counts_vector>.5)]>0)][1]"
   ]
  },
  {
   "cell_type": "markdown",
   "metadata": {},
   "source": [
    "As you can see, for a difference in means of about 0.3, we are accepting the null hypothesis more than 50% of the times, when in fact it should be rejected (because we know there is a difference in means).\n",
    "\n",
    "<div class=\"alert alert-info\">\n",
    "     \n",
    "This is the **power** of the test: *How often you reject the null hypothesis when it is in fact false*.\n",
    "     \n",
    "</div>\n",
    "\n",
    "The **power** depends on both the sample size and the significance you chose. Let's see how this curve looks at a significance level of $\\alpha = 1\\%$"
   ]
  },
  {
   "cell_type": "code",
   "execution_count": 126,
   "metadata": {},
   "outputs": [],
   "source": [
    "means = seq(-.5,.5,.01) # the range of means you want to test\n",
    "reps=1000 # repetitions\n",
    "sample_size=100 # sample size\n",
    "\n",
    "\n",
    "counts_vector_5=vector()\n",
    "counts_vector_1=vector()\n",
    "\n",
    "for(m in means){ # for each difference in mean\n",
    "    counts5 = 0\n",
    "    counts1 = 0\n",
    "    for(n in 1:reps) # count how often we reject the null hypothesis\n",
    "    {    \n",
    "        x = rnorm(sample_size)\n",
    "        y = rnorm(sample_size,mean=m)\n",
    "        tval=t.test(x,y)\n",
    "        pval = tval$p.value\n",
    "        if (pval<=.05){  # if p<.05, reject and add to the counter\n",
    "            counts5=counts5+1\n",
    "        }\n",
    "        if (pval<=.01){  # if p<.05, reject and add to the counter\n",
    "            counts1=counts1+1\n",
    "        }\n",
    "\n",
    "    }    \n",
    "    counts_vector_5 = c(counts_vector_5,counts5/reps)\n",
    "    counts_vector_1 = c(counts_vector_1,counts1/reps)\n",
    "\n",
    "}"
   ]
  },
  {
   "cell_type": "code",
   "execution_count": 127,
   "metadata": {},
   "outputs": [
    {
     "data": {
      "image/png": "[encoded data removed]",
      "text/plain": [
       "plot without title"
      ]
     },
     "metadata": {},
     "output_type": "display_data"
    }
   ],
   "source": [
    "plot(means,counts_vector_5,xlab=\"true mean\",ylab=\"fraction H0 rejected\",type=\"l\",col='red')\n",
    "lines(means,counts_vector_1,type=\"l\",col='blue')\n",
    "legend(-.2,.9,legend = c(\"p=0.05\",\"p=0.01\"),col = c(\"red\",\"blue\"),lty=1)"
   ]
  },
  {
   "cell_type": "code",
   "execution_count": 128,
   "metadata": {},
   "outputs": [
    {
     "data": {
      "text/html": [
       "-0.37"
      ],
      "text/latex": [
       "-0.37"
      ],
      "text/markdown": [
       "-0.37"
      ],
      "text/plain": [
       "[1] -0.37"
      ]
     },
     "metadata": {},
     "output_type": "display_data"
    }
   ],
   "source": [
    "means[which(means[(counts_vector_1>.5)]>0)][1]"
   ]
  },
  {
   "cell_type": "markdown",
   "metadata": {},
   "source": [
    "As you can see, by lowering the critical p-value, we (by construction) commit less type I errors (reject the null hypothesis, when it is true), but we also accept the null hypothesis more when it is in fact false (when there **is** a difference), meaning the minimum difference we can detect now is higher."
   ]
  },
  {
   "cell_type": "markdown",
   "metadata": {},
   "source": [
    "## Determining sample sizes \n",
    "\n",
    "You can use this strategy to calculate sample sizes for a particular significance level and power.\n",
    "\n",
    "For example, what is the sample size we would need to have a significance level of 5% and a power of at least 90% a difference of at least .1? For this, we basically"
   ]
  },
  {
   "cell_type": "code",
   "execution_count": 135,
   "metadata": {},
   "outputs": [],
   "source": [
    "sample_sizes=seq(1000,3000,100) # sample sizes\n",
    "reps=1000 # repetitions\n",
    "\n",
    "counts_vector=vector()\n",
    "\n",
    "for(sample_size in sample_sizes){ # for sample size\n",
    "    counts = 0\n",
    "    for(n in 1:reps) # count how often we reject the null hypothesis\n",
    "    {    \n",
    "        x = rnorm(sample_size,mean = .1)\n",
    "        y = rnorm(sample_size)\n",
    "        tval=t.test(x,y)\n",
    "        pval = tval$p.value\n",
    "        if (pval<=.05){  # if p<.05, reject and add to the counter\n",
    "            counts=counts+1\n",
    "        }\n",
    "    }    \n",
    "    counts_vector = c(counts_vector,counts/reps)\n",
    "}"
   ]
  },
  {
   "cell_type": "code",
   "execution_count": 137,
   "metadata": {},
   "outputs": [
    {
     "data": {
      "image/png": "[encoded data removed]",
      "text/plain": [
       "plot without title"
      ]
     },
     "metadata": {},
     "output_type": "display_data"
    }
   ],
   "source": [
    "plot(sample_sizes,counts_vector,ylab=\"fraction H0 rejected\")\n",
    "abline(h=.9)"
   ]
  },
  {
   "cell_type": "markdown",
   "metadata": {},
   "source": [
    "So for this task, it seems that a sample size of about 2000 would allow you to detect a difference in means of $\\Delta m =0.1 $ 90% of the times."
   ]
  }
 ],
 "metadata": {
  "kernelspec": {
   "display_name": "R",
   "language": "R",
   "name": "ir"
  },
  "language_info": {
   "codemirror_mode": "r",
   "file_extension": ".r",
   "mimetype": "text/x-r-source",
   "name": "R",
   "pygments_lexer": "r",
   "version": "3.6.1"
  }
 },
 "nbformat": 4,
 "nbformat_minor": 2
}

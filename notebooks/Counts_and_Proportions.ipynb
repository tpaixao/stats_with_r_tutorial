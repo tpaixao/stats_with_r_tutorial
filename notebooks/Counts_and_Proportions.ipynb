{
 "cells": [
  {
   "cell_type": "markdown",
   "metadata": {},
   "source": [
    "<div class=\"alert alert-info\">\n",
    "\n",
    "### This is a Jupyter notebook\n",
    "\n",
    "You can learn all about the Jupyter interface [here](https://realpython.com/jupyter-notebook-introduction/)\n",
    "\n",
    "Some basics: \n",
    "Jupyter has two modes: command and edit. When you click a cell, you enter ```edit mode``` and you can edit its contents. To exit ```edit mode```, you press ```ESC```.\n",
    "\n",
    "* Cells can be either code cells or text (or markdown) cells\n",
    "* To run cells, press Shift+enter \n",
    "* To turn a cell into a text cell, press `m` (markdown) in command mode\n",
    "* To create a new cell use `b` (new cell below) or `a` (above) in command mode\n",
    "\n",
    "</div>"
   ]
  },
  {
   "cell_type": "markdown",
   "metadata": {
    "ExecuteTime": {
     "end_time": "2019-10-10T09:06:54.998274Z",
     "start_time": "2019-10-10T09:06:54.887Z"
    }
   },
   "source": [
    "# Testing counts in cells"
   ]
  },
  {
   "cell_type": "markdown",
   "metadata": {},
   "source": [
    "## generate artificial data"
   ]
  },
  {
   "cell_type": "code",
   "execution_count": 44,
   "metadata": {
    "ExecuteTime": {
     "end_time": "2019-10-10T10:00:29.342013Z",
     "start_time": "2019-10-10T10:00:29.304Z"
    }
   },
   "outputs": [],
   "source": [
    "\n",
    "\n",
    "# lets create 9 cells per condition (KO ; rescued) with 2 data points each \n",
    "# (# lisossomes, # lisossomes w/ M2) \n",
    "\n",
    "n_cells = 9\n",
    "mean_liso = 30\n",
    "p_M2 = .1\n",
    "p_resc = .05\n",
    "\n",
    "n_lisosomes_KO = rpois(n=n_cells,lambda = mean_liso)\n",
    "n_lisosomes_Resc = rpois(n=n_cells,lambda = mean_liso)\n",
    "n_overlaps_KO = vector()\n",
    "n_overlaps_Resc = vector()\n",
    "for(i in 1:length(n_lisosomes)){\n",
    "    n_overlaps_KO = c(n_overlaps_KO, rbinom(n=1,size = n_lisosomes_KO[i],prob = p_M2) )\n",
    "    n_overlaps_Resc = c(n_overlaps_Resc, rbinom(n=1,size = n_lisosomes_Resc[i],prob = p_resc) )\n",
    "}"
   ]
  },
  {
   "cell_type": "code",
   "execution_count": 45,
   "metadata": {
    "ExecuteTime": {
     "end_time": "2019-10-10T10:00:31.866418Z",
     "start_time": "2019-10-10T10:00:31.843Z"
    }
   },
   "outputs": [],
   "source": [
    "fake_real_data = data.frame(lisossomes=c(n_lisosomes_KO,n_lisosomes_Resc),overlaps = c(n_overlaps_KO,n_overlaps_Resc),type = c(rep(\"KO\",n_cells),rep(\"Rescue\",n_cells)) )"
   ]
  },
  {
   "cell_type": "code",
   "execution_count": 46,
   "metadata": {
    "ExecuteTime": {
     "end_time": "2019-10-10T10:00:32.509775Z",
     "start_time": "2019-10-10T10:00:32.470Z"
    }
   },
   "outputs": [
    {
     "data": {
      "text/html": [
       "<table>\n",
       "<thead><tr><th scope=col>lisossomes</th><th scope=col>overlaps</th><th scope=col>type</th></tr></thead>\n",
       "<tbody>\n",
       "\t<tr><td>29    </td><td>4     </td><td>KO    </td></tr>\n",
       "\t<tr><td>29    </td><td>4     </td><td>KO    </td></tr>\n",
       "\t<tr><td>29    </td><td>1     </td><td>KO    </td></tr>\n",
       "\t<tr><td>27    </td><td>1     </td><td>KO    </td></tr>\n",
       "\t<tr><td>26    </td><td>3     </td><td>KO    </td></tr>\n",
       "\t<tr><td>45    </td><td>4     </td><td>KO    </td></tr>\n",
       "\t<tr><td>44    </td><td>6     </td><td>KO    </td></tr>\n",
       "\t<tr><td>31    </td><td>6     </td><td>KO    </td></tr>\n",
       "\t<tr><td>26    </td><td>1     </td><td>KO    </td></tr>\n",
       "\t<tr><td>28    </td><td>1     </td><td>Rescue</td></tr>\n",
       "\t<tr><td>22    </td><td>1     </td><td>Rescue</td></tr>\n",
       "\t<tr><td>29    </td><td>1     </td><td>Rescue</td></tr>\n",
       "\t<tr><td>28    </td><td>4     </td><td>Rescue</td></tr>\n",
       "\t<tr><td>34    </td><td>2     </td><td>Rescue</td></tr>\n",
       "\t<tr><td>27    </td><td>2     </td><td>Rescue</td></tr>\n",
       "\t<tr><td>30    </td><td>1     </td><td>Rescue</td></tr>\n",
       "\t<tr><td>30    </td><td>1     </td><td>Rescue</td></tr>\n",
       "\t<tr><td>28    </td><td>2     </td><td>Rescue</td></tr>\n",
       "</tbody>\n",
       "</table>\n"
      ],
      "text/latex": [
       "\\begin{tabular}{r|lll}\n",
       " lisossomes & overlaps & type\\\\\n",
       "\\hline\n",
       "\t 29     & 4      & KO    \\\\\n",
       "\t 29     & 4      & KO    \\\\\n",
       "\t 29     & 1      & KO    \\\\\n",
       "\t 27     & 1      & KO    \\\\\n",
       "\t 26     & 3      & KO    \\\\\n",
       "\t 45     & 4      & KO    \\\\\n",
       "\t 44     & 6      & KO    \\\\\n",
       "\t 31     & 6      & KO    \\\\\n",
       "\t 26     & 1      & KO    \\\\\n",
       "\t 28     & 1      & Rescue\\\\\n",
       "\t 22     & 1      & Rescue\\\\\n",
       "\t 29     & 1      & Rescue\\\\\n",
       "\t 28     & 4      & Rescue\\\\\n",
       "\t 34     & 2      & Rescue\\\\\n",
       "\t 27     & 2      & Rescue\\\\\n",
       "\t 30     & 1      & Rescue\\\\\n",
       "\t 30     & 1      & Rescue\\\\\n",
       "\t 28     & 2      & Rescue\\\\\n",
       "\\end{tabular}\n"
      ],
      "text/markdown": [
       "\n",
       "| lisossomes | overlaps | type |\n",
       "|---|---|---|\n",
       "| 29     | 4      | KO     |\n",
       "| 29     | 4      | KO     |\n",
       "| 29     | 1      | KO     |\n",
       "| 27     | 1      | KO     |\n",
       "| 26     | 3      | KO     |\n",
       "| 45     | 4      | KO     |\n",
       "| 44     | 6      | KO     |\n",
       "| 31     | 6      | KO     |\n",
       "| 26     | 1      | KO     |\n",
       "| 28     | 1      | Rescue |\n",
       "| 22     | 1      | Rescue |\n",
       "| 29     | 1      | Rescue |\n",
       "| 28     | 4      | Rescue |\n",
       "| 34     | 2      | Rescue |\n",
       "| 27     | 2      | Rescue |\n",
       "| 30     | 1      | Rescue |\n",
       "| 30     | 1      | Rescue |\n",
       "| 28     | 2      | Rescue |\n",
       "\n"
      ],
      "text/plain": [
       "   lisossomes overlaps type  \n",
       "1  29         4        KO    \n",
       "2  29         4        KO    \n",
       "3  29         1        KO    \n",
       "4  27         1        KO    \n",
       "5  26         3        KO    \n",
       "6  45         4        KO    \n",
       "7  44         6        KO    \n",
       "8  31         6        KO    \n",
       "9  26         1        KO    \n",
       "10 28         1        Rescue\n",
       "11 22         1        Rescue\n",
       "12 29         1        Rescue\n",
       "13 28         4        Rescue\n",
       "14 34         2        Rescue\n",
       "15 27         2        Rescue\n",
       "16 30         1        Rescue\n",
       "17 30         1        Rescue\n",
       "18 28         2        Rescue"
      ]
     },
     "metadata": {},
     "output_type": "display_data"
    }
   ],
   "source": [
    "fake_real_data"
   ]
  },
  {
   "cell_type": "markdown",
   "metadata": {},
   "source": [
    "## a bootstrap approach to calculate power for count data"
   ]
  },
  {
   "cell_type": "code",
   "execution_count": 26,
   "metadata": {
    "ExecuteTime": {
     "end_time": "2019-10-10T09:33:39.308713Z",
     "start_time": "2019-10-10T09:33:39.200Z"
    }
   },
   "outputs": [
    {
     "data": {
      "image/png": "[encoded data removed]",
      "text/plain": [
       "plot without title"
      ]
     },
     "metadata": {},
     "output_type": "display_data"
    }
   ],
   "source": [
    "plot(fake_real_data)"
   ]
  },
  {
   "cell_type": "markdown",
   "metadata": {},
   "source": [
    "### Are total numbers statistically different?"
   ]
  },
  {
   "cell_type": "code",
   "execution_count": 47,
   "metadata": {
    "ExecuteTime": {
     "end_time": "2019-10-10T10:00:38.244330Z",
     "start_time": "2019-10-10T10:00:38.223Z"
    }
   },
   "outputs": [],
   "source": [
    "li_KO = which(fake_real_data[,\"type\"]==\"KO\")\n",
    "li_Resc = which(fake_real_data[,\"type\"]==\"Rescue\")"
   ]
  },
  {
   "cell_type": "code",
   "execution_count": 48,
   "metadata": {
    "ExecuteTime": {
     "end_time": "2019-10-10T10:00:46.310339Z",
     "start_time": "2019-10-10T10:00:46.276Z"
    }
   },
   "outputs": [
    {
     "name": "stderr",
     "output_type": "stream",
     "text": [
      "Warning message in wilcox.test.default(fake_real_data[li_KO, \"lisossomes\"], fake_real_data[li_Resc, :\n",
      "\"cannot compute exact p-value with ties\""
     ]
    },
    {
     "data": {
      "text/plain": [
       "\n",
       "\tWilcoxon rank sum test with continuity correction\n",
       "\n",
       "data:  fake_real_data[li_KO, \"lisossomes\"] and fake_real_data[li_Resc, \"lisossomes\"]\n",
       "W = 46, p-value = 0.656\n",
       "alternative hypothesis: true location shift is not equal to 0\n"
      ]
     },
     "metadata": {},
     "output_type": "display_data"
    }
   ],
   "source": [
    "wilcox.test(fake_real_data[li_KO,\"lisossomes\"],fake_real_data[li_Resc,\"lisossomes\"])"
   ]
  },
  {
   "cell_type": "code",
   "execution_count": 49,
   "metadata": {
    "ExecuteTime": {
     "end_time": "2019-10-10T10:00:48.139830Z",
     "start_time": "2019-10-10T10:00:48.110Z"
    }
   },
   "outputs": [
    {
     "name": "stderr",
     "output_type": "stream",
     "text": [
      "Warning message in wilcox.test.default(fake_real_data[li_KO, \"overlaps\"], fake_real_data[li_Resc, :\n",
      "\"cannot compute exact p-value with ties\""
     ]
    },
    {
     "data": {
      "text/plain": [
       "\n",
       "\tWilcoxon rank sum test with continuity correction\n",
       "\n",
       "data:  fake_real_data[li_KO, \"overlaps\"] and fake_real_data[li_Resc, \"overlaps\"]\n",
       "W = 59, p-value = 0.09346\n",
       "alternative hypothesis: true location shift is not equal to 0\n"
      ]
     },
     "metadata": {},
     "output_type": "display_data"
    }
   ],
   "source": [
    "wilcox.test(fake_real_data[li_KO,\"overlaps\"],fake_real_data[li_Resc,\"overlaps\"])"
   ]
  },
  {
   "cell_type": "code",
   "execution_count": null,
   "metadata": {},
   "outputs": [],
   "source": [
    "calc_p = function(overlaps,total)overlaps/total \n",
    "\n",
    "fake_real_data = cbind(fake_real_data, apply(fake_real_data[,c(\"overlaps\",\"lisossomes\")],1,function(x) calc_p(x[1],x[2]) )\n",
    ")\n",
    "names(fake_real_data)[4] = \"p\"\n"
   ]
  },
  {
   "cell_type": "markdown",
   "metadata": {},
   "source": [
    "### generate a (bootstrapped) nul distribution\n",
    "\n",
    "Because the number of lisossomes is not different between the two groups,"
   ]
  },
  {
   "cell_type": "code",
   "execution_count": 55,
   "metadata": {
    "ExecuteTime": {
     "end_time": "2019-10-10T10:09:20.434083Z",
     "start_time": "2019-10-10T10:09:20.404Z"
    }
   },
   "outputs": [
    {
     "data": {
      "text/html": [
       "0.102225436757633"
      ],
      "text/latex": [
       "0.102225436757633"
      ],
      "text/markdown": [
       "0.102225436757633"
      ],
      "text/plain": [
       "[1] 0.1022254"
      ]
     },
     "metadata": {},
     "output_type": "display_data"
    }
   ],
   "source": [
    "p_KO = mean(fake_real_data[li_KO,\"p\"])\n",
    "p_KO\n",
    "\n"
   ]
  },
  {
   "cell_type": "code",
   "execution_count": 51,
   "metadata": {
    "ExecuteTime": {
     "end_time": "2019-10-10T10:00:52.821305Z",
     "start_time": "2019-10-10T10:00:52.782Z"
    }
   },
   "outputs": [
    {
     "data": {
      "text/html": [
       "<table>\n",
       "<thead><tr><th scope=col>lisossomes</th><th scope=col>overlaps</th><th scope=col>type</th><th scope=col>p</th></tr></thead>\n",
       "<tbody>\n",
       "\t<tr><td>29        </td><td>4         </td><td>KO        </td><td>0.13793103</td></tr>\n",
       "\t<tr><td>29        </td><td>4         </td><td>KO        </td><td>0.13793103</td></tr>\n",
       "\t<tr><td>29        </td><td>1         </td><td>KO        </td><td>0.03448276</td></tr>\n",
       "\t<tr><td>27        </td><td>1         </td><td>KO        </td><td>0.03703704</td></tr>\n",
       "\t<tr><td>26        </td><td>3         </td><td>KO        </td><td>0.11538462</td></tr>\n",
       "\t<tr><td>45        </td><td>4         </td><td>KO        </td><td>0.08888889</td></tr>\n",
       "\t<tr><td>44        </td><td>6         </td><td>KO        </td><td>0.13636364</td></tr>\n",
       "\t<tr><td>31        </td><td>6         </td><td>KO        </td><td>0.19354839</td></tr>\n",
       "\t<tr><td>26        </td><td>1         </td><td>KO        </td><td>0.03846154</td></tr>\n",
       "\t<tr><td>28        </td><td>1         </td><td>Rescue    </td><td>0.03571429</td></tr>\n",
       "\t<tr><td>22        </td><td>1         </td><td>Rescue    </td><td>0.04545455</td></tr>\n",
       "\t<tr><td>29        </td><td>1         </td><td>Rescue    </td><td>0.03448276</td></tr>\n",
       "\t<tr><td>28        </td><td>4         </td><td>Rescue    </td><td>0.14285714</td></tr>\n",
       "\t<tr><td>34        </td><td>2         </td><td>Rescue    </td><td>0.05882353</td></tr>\n",
       "\t<tr><td>27        </td><td>2         </td><td>Rescue    </td><td>0.07407407</td></tr>\n",
       "\t<tr><td>30        </td><td>1         </td><td>Rescue    </td><td>0.03333333</td></tr>\n",
       "\t<tr><td>30        </td><td>1         </td><td>Rescue    </td><td>0.03333333</td></tr>\n",
       "\t<tr><td>28        </td><td>2         </td><td>Rescue    </td><td>0.07142857</td></tr>\n",
       "</tbody>\n",
       "</table>\n"
      ],
      "text/latex": [
       "\\begin{tabular}{r|llll}\n",
       " lisossomes & overlaps & type & p\\\\\n",
       "\\hline\n",
       "\t 29         & 4          & KO         & 0.13793103\\\\\n",
       "\t 29         & 4          & KO         & 0.13793103\\\\\n",
       "\t 29         & 1          & KO         & 0.03448276\\\\\n",
       "\t 27         & 1          & KO         & 0.03703704\\\\\n",
       "\t 26         & 3          & KO         & 0.11538462\\\\\n",
       "\t 45         & 4          & KO         & 0.08888889\\\\\n",
       "\t 44         & 6          & KO         & 0.13636364\\\\\n",
       "\t 31         & 6          & KO         & 0.19354839\\\\\n",
       "\t 26         & 1          & KO         & 0.03846154\\\\\n",
       "\t 28         & 1          & Rescue     & 0.03571429\\\\\n",
       "\t 22         & 1          & Rescue     & 0.04545455\\\\\n",
       "\t 29         & 1          & Rescue     & 0.03448276\\\\\n",
       "\t 28         & 4          & Rescue     & 0.14285714\\\\\n",
       "\t 34         & 2          & Rescue     & 0.05882353\\\\\n",
       "\t 27         & 2          & Rescue     & 0.07407407\\\\\n",
       "\t 30         & 1          & Rescue     & 0.03333333\\\\\n",
       "\t 30         & 1          & Rescue     & 0.03333333\\\\\n",
       "\t 28         & 2          & Rescue     & 0.07142857\\\\\n",
       "\\end{tabular}\n"
      ],
      "text/markdown": [
       "\n",
       "| lisossomes | overlaps | type | p |\n",
       "|---|---|---|---|\n",
       "| 29         | 4          | KO         | 0.13793103 |\n",
       "| 29         | 4          | KO         | 0.13793103 |\n",
       "| 29         | 1          | KO         | 0.03448276 |\n",
       "| 27         | 1          | KO         | 0.03703704 |\n",
       "| 26         | 3          | KO         | 0.11538462 |\n",
       "| 45         | 4          | KO         | 0.08888889 |\n",
       "| 44         | 6          | KO         | 0.13636364 |\n",
       "| 31         | 6          | KO         | 0.19354839 |\n",
       "| 26         | 1          | KO         | 0.03846154 |\n",
       "| 28         | 1          | Rescue     | 0.03571429 |\n",
       "| 22         | 1          | Rescue     | 0.04545455 |\n",
       "| 29         | 1          | Rescue     | 0.03448276 |\n",
       "| 28         | 4          | Rescue     | 0.14285714 |\n",
       "| 34         | 2          | Rescue     | 0.05882353 |\n",
       "| 27         | 2          | Rescue     | 0.07407407 |\n",
       "| 30         | 1          | Rescue     | 0.03333333 |\n",
       "| 30         | 1          | Rescue     | 0.03333333 |\n",
       "| 28         | 2          | Rescue     | 0.07142857 |\n",
       "\n"
      ],
      "text/plain": [
       "   lisossomes overlaps type   p         \n",
       "1  29         4        KO     0.13793103\n",
       "2  29         4        KO     0.13793103\n",
       "3  29         1        KO     0.03448276\n",
       "4  27         1        KO     0.03703704\n",
       "5  26         3        KO     0.11538462\n",
       "6  45         4        KO     0.08888889\n",
       "7  44         6        KO     0.13636364\n",
       "8  31         6        KO     0.19354839\n",
       "9  26         1        KO     0.03846154\n",
       "10 28         1        Rescue 0.03571429\n",
       "11 22         1        Rescue 0.04545455\n",
       "12 29         1        Rescue 0.03448276\n",
       "13 28         4        Rescue 0.14285714\n",
       "14 34         2        Rescue 0.05882353\n",
       "15 27         2        Rescue 0.07407407\n",
       "16 30         1        Rescue 0.03333333\n",
       "17 30         1        Rescue 0.03333333\n",
       "18 28         2        Rescue 0.07142857"
      ]
     },
     "metadata": {},
     "output_type": "display_data"
    }
   ],
   "source": [
    "fake_real_data"
   ]
  },
  {
   "cell_type": "code",
   "execution_count": 202,
   "metadata": {
    "ExecuteTime": {
     "end_time": "2019-10-10T13:47:22.056509Z",
     "start_time": "2019-10-10T13:47:22.007Z"
    }
   },
   "outputs": [
    {
     "name": "stderr",
     "output_type": "stream",
     "text": [
      "Warning message in prop.test(x = fake_real_data[li_KO, \"overlaps\"], n = fake_real_data[li_KO, :\n",
      "\"Chi-squared approximation may be incorrect\"Warning message in prop.test(x = fake_real_data[li_Resc, \"overlaps\"], n = fake_real_data[li_Resc, :\n",
      "\"Chi-squared approximation may be incorrect\""
     ]
    },
    {
     "data": {
      "text/plain": [
       "\n",
       "\t9-sample test for equality of proportions without continuity\n",
       "\tcorrection\n",
       "\n",
       "data:  fake_real_data[li_KO, \"overlaps\"] out of fake_real_data[li_KO, \"lisossomes\"]\n",
       "X-squared = 7.964, df = 8, p-value = 0.437\n",
       "alternative hypothesis: two.sided\n",
       "sample estimates:\n",
       "    prop 1     prop 2     prop 3     prop 4     prop 5     prop 6     prop 7 \n",
       "0.13793103 0.13793103 0.03448276 0.03703704 0.11538462 0.08888889 0.13636364 \n",
       "    prop 8     prop 9 \n",
       "0.19354839 0.03846154 \n"
      ]
     },
     "metadata": {},
     "output_type": "display_data"
    },
    {
     "data": {
      "text/plain": [
       "\n",
       "\t9-sample test for equality of proportions without continuity\n",
       "\tcorrection\n",
       "\n",
       "data:  fake_real_data[li_Resc, \"overlaps\"] out of fake_real_data[li_Resc, \"lisossomes\"]\n",
       "X-squared = 5.1394, df = 8, p-value = 0.7426\n",
       "alternative hypothesis: two.sided\n",
       "sample estimates:\n",
       "    prop 1     prop 2     prop 3     prop 4     prop 5     prop 6     prop 7 \n",
       "0.03571429 0.04545455 0.03448276 0.14285714 0.05882353 0.07407407 0.03333333 \n",
       "    prop 8     prop 9 \n",
       "0.03333333 0.07142857 \n"
      ]
     },
     "metadata": {},
     "output_type": "display_data"
    }
   ],
   "source": [
    "control.proptest = prop.test(x = fake_real_data[li_KO,\"overlaps\"],n=fake_real_data[li_KO,\"lisossomes\"])\n",
    "rescue.proptest = prop.test(x = fake_real_data[li_Resc,\"overlaps\"],n=fake_real_data[li_Resc,\"lisossomes\"])\n",
    "\n",
    "(control.proptest)\n",
    "\n",
    "(rescue.proptest)"
   ]
  },
  {
   "cell_type": "code",
   "execution_count": 85,
   "metadata": {
    "ExecuteTime": {
     "end_time": "2019-10-10T11:52:03.804877Z",
     "start_time": "2019-10-10T11:52:03.769Z"
    }
   },
   "outputs": [
    {
     "data": {
      "text/plain": [
       "$conf.int\n",
       "NULL\n"
      ]
     },
     "metadata": {},
     "output_type": "display_data"
    }
   ],
   "source": [
    "rescue.proptest['conf.int']"
   ]
  },
  {
   "cell_type": "code",
   "execution_count": 53,
   "metadata": {
    "ExecuteTime": {
     "end_time": "2019-10-10T10:02:24.853149Z",
     "start_time": "2019-10-10T10:02:17.979Z"
    },
    "scrolled": true
   },
   "outputs": [
    {
     "name": "stderr",
     "output_type": "stream",
     "text": [
      "Loading required package: PropCIs\n",
      "Loading required package: DescTools\n",
      "Warning message in library(package, lib.loc = lib.loc, character.only = TRUE, logical.return = TRUE, :\n",
      "\"there is no package called 'DescTools'\"also installing the dependencies 'mvtnorm', 'expm'\n",
      "\n"
     ]
    },
    {
     "name": "stdout",
     "output_type": "stream",
     "text": [
      "package 'mvtnorm' successfully unpacked and MD5 sums checked\n",
      "package 'expm' successfully unpacked and MD5 sums checked\n",
      "package 'DescTools' successfully unpacked and MD5 sums checked\n",
      "\n",
      "The downloaded binary packages are in\n",
      "\tC:\\Users\\t.paixao\\AppData\\Local\\Temp\\Rtmp4qT3e2\\downloaded_packages\n"
     ]
    }
   ],
   "source": [
    "if(!require(PropCIs)){install.packages(\"PropCIs\")}\n",
    "\n",
    "if(!require(DescTools)){install.packages(\"DescTools\")}"
   ]
  },
  {
   "cell_type": "code",
   "execution_count": 127,
   "metadata": {
    "ExecuteTime": {
     "end_time": "2019-10-10T12:50:25.588795Z",
     "start_time": "2019-10-10T12:50:25.554Z"
    }
   },
   "outputs": [],
   "source": [
    "calc_p = function(overlaps,total) overlaps/total \n",
    "\n",
    "\n",
    "gen_sample = function(mean_liso,n_cells,p_M2,p_Resc){\n",
    "\n",
    "#     dfs = data.frame()\n",
    "#     for( i in 1:samp){\n",
    "        n_lisosomes_KO = rpois(n=n_cells,lambda = mean_liso)\n",
    "        n_lisosomes_Resc = rpois(n=n_cells,lambda = mean_liso)\n",
    "\n",
    "        n_overlaps_KO = vector()\n",
    "        n_overlaps_Resc = vector()\n",
    "\n",
    "        for(i in 1:n_cells){\n",
    "            n_overlaps_KO = c(n_overlaps_KO, rbinom(n=1,size = n_lisosomes_KO[i],prob = p_M2) )\n",
    "            n_overlaps_Resc = c(n_overlaps_Resc, rbinom(n=1,size = n_lisosomes_Resc[i],prob = p_Resc) )\n",
    "        }\n",
    "        df_KO = data.frame(lisosomes = n_lisosomes_KO, overlaps = n_overlaps_KO,type=rep(\"KO\",n_cells))\n",
    "        df_Resc = data.frame(lisosomes = n_lisosomes_Resc, overlaps = n_overlaps_Resc,type=rep(\"Resc\",n_cells))\n",
    "        df = rbind(df_KO,df_Resc)\n",
    "#     }\n",
    "        df = cbind(df,apply(df[,c('overlaps','lisosomes')],1,function(x) calc_p(x[1],x[2])))\n",
    "        names(df)[4]=\"p\"   \n",
    "        df\n",
    "}\n"
   ]
  },
  {
   "cell_type": "code",
   "execution_count": 215,
   "metadata": {
    "ExecuteTime": {
     "end_time": "2019-10-10T14:11:58.042701Z",
     "start_time": "2019-10-10T14:10:17.127Z"
    }
   },
   "outputs": [],
   "source": [
    "options(warn=-1)\n",
    "bs_samps=1000\n",
    "n_samp = 10\n",
    "p_M2 = .2\n",
    "\n",
    "df = data.frame()\n",
    "\n",
    "\n",
    "for(n_samp in c(5,10,20) ){\n",
    "    for(p_resc in seq(0,p_M2,p_M2/20) ){\n",
    "        count=0\n",
    "        tot=0\n",
    "        for(n in 1:bs_samps){\n",
    "            samp = gen_sample(30,n_samp,p_M2,p_resc)\n",
    "\n",
    "            idx_KO = which(samp[,\"type\"]==\"KO\")\n",
    "            idx_Resc = which(samp[,\"type\"]==\"Resc\")\n",
    "\n",
    "            wtest = wilcox.test(samp[idx_KO,'p'],samp[idx_Resc,'p'])\n",
    "\n",
    "            pval = wtest[\"p.value\"]$p.value\n",
    "            \n",
    "            if(!is.nan(pval)){\n",
    "                if(pval<=.05) {\n",
    "                    count=count+1\n",
    "                    tot=tot+1\n",
    "                }else{\n",
    "                    tot=tot+1\n",
    "                }\n",
    "            }\n",
    "        }\n",
    "        df = rbind(df,c(n_samp,p_resc,count/tot))\n",
    "    }\n",
    "}\n",
    "names(df) = c(\"n_samp\",\"p_resc\",\"H0reject\")\n",
    "options(warn=0)"
   ]
  },
  {
   "cell_type": "code",
   "execution_count": 209,
   "metadata": {
    "ExecuteTime": {
     "end_time": "2019-10-10T14:06:50.655465Z",
     "start_time": "2019-10-10T14:05:23.708Z"
    }
   },
   "outputs": [],
   "source": [
    "require(ggplot2)"
   ]
  },
  {
   "cell_type": "code",
   "execution_count": 183,
   "metadata": {
    "ExecuteTime": {
     "end_time": "2019-10-10T13:25:47.281651Z",
     "start_time": "2019-10-10T13:25:47.246Z"
    },
    "scrolled": true
   },
   "outputs": [
    {
     "data": {
      "text/html": [
       "<table>\n",
       "<thead><tr><th scope=col>n_samp</th><th scope=col>p_resc</th><th scope=col>H0reject</th></tr></thead>\n",
       "<tbody>\n",
       "\t<tr><td>5    </td><td>0.000</td><td>0.979</td></tr>\n",
       "\t<tr><td>5    </td><td>0.005</td><td>0.926</td></tr>\n",
       "\t<tr><td>5    </td><td>0.010</td><td>0.835</td></tr>\n",
       "\t<tr><td>5    </td><td>0.015</td><td>0.737</td></tr>\n",
       "\t<tr><td>5    </td><td>0.020</td><td>0.635</td></tr>\n",
       "\t<tr><td>5    </td><td>0.025</td><td>0.566</td></tr>\n",
       "</tbody>\n",
       "</table>\n"
      ],
      "text/latex": [
       "\\begin{tabular}{r|lll}\n",
       " n\\_samp & p\\_resc & H0reject\\\\\n",
       "\\hline\n",
       "\t 5     & 0.000 & 0.979\\\\\n",
       "\t 5     & 0.005 & 0.926\\\\\n",
       "\t 5     & 0.010 & 0.835\\\\\n",
       "\t 5     & 0.015 & 0.737\\\\\n",
       "\t 5     & 0.020 & 0.635\\\\\n",
       "\t 5     & 0.025 & 0.566\\\\\n",
       "\\end{tabular}\n"
      ],
      "text/markdown": [
       "\n",
       "| n_samp | p_resc | H0reject |\n",
       "|---|---|---|\n",
       "| 5     | 0.000 | 0.979 |\n",
       "| 5     | 0.005 | 0.926 |\n",
       "| 5     | 0.010 | 0.835 |\n",
       "| 5     | 0.015 | 0.737 |\n",
       "| 5     | 0.020 | 0.635 |\n",
       "| 5     | 0.025 | 0.566 |\n",
       "\n"
      ],
      "text/plain": [
       "  n_samp p_resc H0reject\n",
       "1 5      0.000  0.979   \n",
       "2 5      0.005  0.926   \n",
       "3 5      0.010  0.835   \n",
       "4 5      0.015  0.737   \n",
       "5 5      0.020  0.635   \n",
       "6 5      0.025  0.566   "
      ]
     },
     "metadata": {},
     "output_type": "display_data"
    }
   ],
   "source": [
    "head(df)"
   ]
  },
  {
   "cell_type": "code",
   "execution_count": 216,
   "metadata": {
    "ExecuteTime": {
     "end_time": "2019-10-10T14:11:58.068701Z",
     "start_time": "2019-10-10T14:10:22.159Z"
    }
   },
   "outputs": [],
   "source": [
    "df$n_samp = as.factor(df$n_samp)\n",
    "\n",
    "func = function(x){\n",
    "    if(!is.nan(x[2])) {0.1 - x[2]}\n",
    "    else 0 \n",
    "}\n",
    "\n",
    "df$dif = sapply(df[,\"p_resc\"], function(x) (p_M2-x)/p_M2)"
   ]
  },
  {
   "cell_type": "code",
   "execution_count": 217,
   "metadata": {
    "ExecuteTime": {
     "end_time": "2019-10-10T14:11:58.423949Z",
     "start_time": "2019-10-10T14:10:22.389Z"
    }
   },
   "outputs": [
    {
     "data": {
      "image/png": "[encoded data removed]",
      "text/plain": [
       "plot without title"
      ]
     },
     "metadata": {},
     "output_type": "display_data"
    }
   ],
   "source": [
    "ggplot(df,aes(x=dif,y=H0reject,color=n_samp)) + \n",
    "    geom_point() + \n",
    "    geom_hline(yintercept=.9)\n"
   ]
  },
  {
   "cell_type": "code",
   "execution_count": 90,
   "metadata": {
    "ExecuteTime": {
     "end_time": "2019-10-10T12:08:32.142831Z",
     "start_time": "2019-10-10T12:08:32.106Z"
    }
   },
   "outputs": [
    {
     "name": "stderr",
     "output_type": "stream",
     "text": [
      "Loading required package: pwr\n"
     ]
    }
   ],
   "source": [
    "require(pwr)"
   ]
  },
  {
   "cell_type": "code",
   "execution_count": 110,
   "metadata": {
    "ExecuteTime": {
     "end_time": "2019-10-10T12:43:17.374537Z",
     "start_time": "2019-10-10T12:43:16.983Z"
    }
   },
   "outputs": [],
   "source": [
    "?apply"
   ]
  },
  {
   "cell_type": "code",
   "execution_count": null,
   "metadata": {},
   "outputs": [],
   "source": []
  }
 ],
 "metadata": {
  "anaconda-cloud": {},
  "kernelspec": {
   "display_name": "R",
   "language": "R",
   "name": "ir"
  },
  "language_info": {
   "codemirror_mode": "r",
   "file_extension": ".r",
   "mimetype": "text/x-r-source",
   "name": "R",
   "pygments_lexer": "r",
   "version": "3.6.1"
  },
  "toc": {
   "base_numbering": 1,
   "nav_menu": {},
   "number_sections": false,
   "sideBar": true,
   "skip_h1_title": false,
   "title_cell": "Table of Contents",
   "title_sidebar": "Contents",
   "toc_cell": false,
   "toc_position": {},
   "toc_section_display": true,
   "toc_window_display": false
  }
 },
 "nbformat": 4,
 "nbformat_minor": 2
}

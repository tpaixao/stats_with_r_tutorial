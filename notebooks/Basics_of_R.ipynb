{
 "cells": [
  {
   "cell_type": "markdown",
   "metadata": {},
   "source": [
    "# Basics of R programming"
   ]
  },
  {
   "attachments": {},
   "cell_type": "markdown",
   "metadata": {},
   "source": [
    "<div class=\"alert alert-info\">\n",
    "\n",
    "### This is a Jupyter notebook\n",
    "\n",
    "You can learn all about the Jupyter interface [here](https://realpython.com/jupyter-notebook-introduction/)\n",
    "\n",
    "Some basics: \n",
    "Jupyter has two modes: command and edit. When you click a cell, you enter ```edit mode``` and you can edit its contents. To exit ```edit mode```, you press ```ESC```.\n",
    "\n",
    "* Cells can be either code cells or text (or markdown) cells\n",
    "* To run cells, press Shift+enter \n",
    "* To turn a cell into a text cell, press `m` (markdown) in command mode\n",
    "* To create a new cell use `b` (new cell below) or `a` (above) in command mode\n",
    "\n",
    "</div>"
   ]
  },
  {
   "cell_type": "markdown",
   "metadata": {},
   "source": [
    "## assignment and arrays\n",
    "\n",
    "### assignment\n",
    "assigning in **R** can be done in many ways:\n",
    "\n",
    "* using `<-` or `=`\n",
    "* using the `assign(variable, value)` function\n",
    "when you use the assign function, the variable needs to be enclosed in `\"`, as if it were a string.\n",
    "\n",
    "### arrays\n",
    "You can create sequences of numbers in several ways:\n",
    "\n",
    "* using the `:` notation, e.g., `1:6`\n",
    "* using the `seq()` function\n",
    "* using the `c()` (concatenate) function"
   ]
  },
  {
   "cell_type": "code",
   "execution_count": 89,
   "metadata": {},
   "outputs": [],
   "source": [
    "x <- 2:7\n",
    "x = seq(from=2,to=7,by=1)\n",
    "assign(\"x\",2:7)\n",
    "x = c(2,3,4,5,6,7)"
   ]
  },
  {
   "cell_type": "code",
   "execution_count": 90,
   "metadata": {},
   "outputs": [
    {
     "data": {
      "text/html": [
       "<ol class=list-inline>\n",
       "\t<li>2</li>\n",
       "\t<li>3</li>\n",
       "\t<li>4</li>\n",
       "\t<li>5</li>\n",
       "\t<li>6</li>\n",
       "\t<li>7</li>\n",
       "</ol>\n"
      ],
      "text/latex": [
       "\\begin{enumerate*}\n",
       "\\item 2\n",
       "\\item 3\n",
       "\\item 4\n",
       "\\item 5\n",
       "\\item 6\n",
       "\\item 7\n",
       "\\end{enumerate*}\n"
      ],
      "text/markdown": [
       "1. 2\n",
       "2. 3\n",
       "3. 4\n",
       "4. 5\n",
       "5. 6\n",
       "6. 7\n",
       "\n",
       "\n"
      ],
      "text/plain": [
       "[1] 2 3 4 5 6 7"
      ]
     },
     "metadata": {},
     "output_type": "display_data"
    }
   ],
   "source": [
    "x"
   ]
  },
  {
   "cell_type": "markdown",
   "metadata": {},
   "source": [
    "## Selecting data from an array\n",
    "\n",
    "You can use logic rules on the values of the array to select them.\n",
    "For example, `x>5` will return an array of TRUE and FALSES, depending on whether the value of x at each position fulfils the condition. Using this you can get the values of `x` that fulfil the condition."
   ]
  },
  {
   "cell_type": "code",
   "execution_count": 18,
   "metadata": {},
   "outputs": [
    {
     "data": {
      "text/html": [
       "<ol class=list-inline>\n",
       "\t<li>2</li>\n",
       "\t<li>3</li>\n",
       "\t<li>4</li>\n",
       "\t<li>5</li>\n",
       "\t<li>6</li>\n",
       "\t<li>7</li>\n",
       "</ol>\n"
      ],
      "text/latex": [
       "\\begin{enumerate*}\n",
       "\\item 2\n",
       "\\item 3\n",
       "\\item 4\n",
       "\\item 5\n",
       "\\item 6\n",
       "\\item 7\n",
       "\\end{enumerate*}\n"
      ],
      "text/markdown": [
       "1. 2\n",
       "2. 3\n",
       "3. 4\n",
       "4. 5\n",
       "5. 6\n",
       "6. 7\n",
       "\n",
       "\n"
      ],
      "text/plain": [
       "[1] 2 3 4 5 6 7"
      ]
     },
     "metadata": {},
     "output_type": "display_data"
    },
    {
     "data": {
      "text/html": [
       "<ol class=list-inline>\n",
       "\t<li>FALSE</li>\n",
       "\t<li>FALSE</li>\n",
       "\t<li>FALSE</li>\n",
       "\t<li>FALSE</li>\n",
       "\t<li>TRUE</li>\n",
       "\t<li>TRUE</li>\n",
       "</ol>\n"
      ],
      "text/latex": [
       "\\begin{enumerate*}\n",
       "\\item FALSE\n",
       "\\item FALSE\n",
       "\\item FALSE\n",
       "\\item FALSE\n",
       "\\item TRUE\n",
       "\\item TRUE\n",
       "\\end{enumerate*}\n"
      ],
      "text/markdown": [
       "1. FALSE\n",
       "2. FALSE\n",
       "3. FALSE\n",
       "4. FALSE\n",
       "5. TRUE\n",
       "6. TRUE\n",
       "\n",
       "\n"
      ],
      "text/plain": [
       "[1] FALSE FALSE FALSE FALSE  TRUE  TRUE"
      ]
     },
     "metadata": {},
     "output_type": "display_data"
    },
    {
     "data": {
      "text/html": [
       "<ol class=list-inline>\n",
       "\t<li>6</li>\n",
       "\t<li>7</li>\n",
       "</ol>\n"
      ],
      "text/latex": [
       "\\begin{enumerate*}\n",
       "\\item 6\n",
       "\\item 7\n",
       "\\end{enumerate*}\n"
      ],
      "text/markdown": [
       "1. 6\n",
       "2. 7\n",
       "\n",
       "\n"
      ],
      "text/plain": [
       "[1] 6 7"
      ]
     },
     "metadata": {},
     "output_type": "display_data"
    }
   ],
   "source": [
    "x\n",
    "x>5 # vector of TRUE or FALSE\n",
    "x[x>5] # the values that fulfil the condition"
   ]
  },
  {
   "cell_type": "markdown",
   "metadata": {},
   "source": [
    "Alternatively, you can use the `which()` function, which will return the **positions** that fulfil the condition"
   ]
  },
  {
   "cell_type": "code",
   "execution_count": 25,
   "metadata": {},
   "outputs": [
    {
     "data": {
      "text/html": [
       "<ol class=list-inline>\n",
       "\t<li>5</li>\n",
       "\t<li>6</li>\n",
       "</ol>\n"
      ],
      "text/latex": [
       "\\begin{enumerate*}\n",
       "\\item 5\n",
       "\\item 6\n",
       "\\end{enumerate*}\n"
      ],
      "text/markdown": [
       "1. 5\n",
       "2. 6\n",
       "\n",
       "\n"
      ],
      "text/plain": [
       "[1] 5 6"
      ]
     },
     "metadata": {},
     "output_type": "display_data"
    },
    {
     "data": {
      "text/html": [
       "<ol class=list-inline>\n",
       "\t<li>6</li>\n",
       "\t<li>7</li>\n",
       "</ol>\n"
      ],
      "text/latex": [
       "\\begin{enumerate*}\n",
       "\\item 6\n",
       "\\item 7\n",
       "\\end{enumerate*}\n"
      ],
      "text/markdown": [
       "1. 6\n",
       "2. 7\n",
       "\n",
       "\n"
      ],
      "text/plain": [
       "[1] 6 7"
      ]
     },
     "metadata": {},
     "output_type": "display_data"
    }
   ],
   "source": [
    "pos = which(x>5)\n",
    "pos\n",
    "\n",
    "x[pos]"
   ]
  },
  {
   "cell_type": "markdown",
   "metadata": {},
   "source": [
    "You can address data in arrays by their index:"
   ]
  },
  {
   "cell_type": "code",
   "execution_count": 30,
   "metadata": {},
   "outputs": [
    {
     "data": {
      "text/html": [
       "2"
      ],
      "text/latex": [
       "2"
      ],
      "text/markdown": [
       "2"
      ],
      "text/plain": [
       "[1] 2"
      ]
     },
     "metadata": {},
     "output_type": "display_data"
    },
    {
     "data": {
      "text/html": [
       "<ol class=list-inline>\n",
       "\t<li>3</li>\n",
       "\t<li>4</li>\n",
       "</ol>\n"
      ],
      "text/latex": [
       "\\begin{enumerate*}\n",
       "\\item 3\n",
       "\\item 4\n",
       "\\end{enumerate*}\n"
      ],
      "text/markdown": [
       "1. 3\n",
       "2. 4\n",
       "\n",
       "\n"
      ],
      "text/plain": [
       "[1] 3 4"
      ]
     },
     "metadata": {},
     "output_type": "display_data"
    }
   ],
   "source": [
    "x[1]\n",
    "x[2:3]"
   ]
  },
  {
   "cell_type": "markdown",
   "metadata": {},
   "source": [
    "**However**, negatives indices actually remove that position from the array."
   ]
  },
  {
   "cell_type": "code",
   "execution_count": 103,
   "metadata": {},
   "outputs": [
    {
     "data": {
      "text/html": [
       "<ol class=list-inline>\n",
       "\t<li>2</li>\n",
       "\t<li>3</li>\n",
       "\t<li>4</li>\n",
       "\t<li>6</li>\n",
       "\t<li>7</li>\n",
       "</ol>\n"
      ],
      "text/latex": [
       "\\begin{enumerate*}\n",
       "\\item 2\n",
       "\\item 3\n",
       "\\item 4\n",
       "\\item 6\n",
       "\\item 7\n",
       "\\end{enumerate*}\n"
      ],
      "text/markdown": [
       "1. 2\n",
       "2. 3\n",
       "3. 4\n",
       "4. 6\n",
       "5. 7\n",
       "\n",
       "\n"
      ],
      "text/plain": [
       "[1] 2 3 4 6 7"
      ]
     },
     "metadata": {},
     "output_type": "display_data"
    }
   ],
   "source": [
    "x[-4]"
   ]
  },
  {
   "cell_type": "markdown",
   "metadata": {},
   "source": [
    "you can do all sorts of calculations on arrays:"
   ]
  },
  {
   "cell_type": "code",
   "execution_count": 33,
   "metadata": {},
   "outputs": [
    {
     "data": {
      "text/html": [
       "4.5"
      ],
      "text/latex": [
       "4.5"
      ],
      "text/markdown": [
       "4.5"
      ],
      "text/plain": [
       "[1] 4.5"
      ]
     },
     "metadata": {},
     "output_type": "display_data"
    },
    {
     "data": {
      "text/html": [
       "1.87082869338697"
      ],
      "text/latex": [
       "1.87082869338697"
      ],
      "text/markdown": [
       "1.87082869338697"
      ],
      "text/plain": [
       "[1] 1.870829"
      ]
     },
     "metadata": {},
     "output_type": "display_data"
    },
    {
     "data": {
      "text/html": [
       "<ol class=list-inline>\n",
       "\t<li>4</li>\n",
       "\t<li>6</li>\n",
       "\t<li>8</li>\n",
       "\t<li>10</li>\n",
       "\t<li>12</li>\n",
       "\t<li>14</li>\n",
       "</ol>\n"
      ],
      "text/latex": [
       "\\begin{enumerate*}\n",
       "\\item 4\n",
       "\\item 6\n",
       "\\item 8\n",
       "\\item 10\n",
       "\\item 12\n",
       "\\item 14\n",
       "\\end{enumerate*}\n"
      ],
      "text/markdown": [
       "1. 4\n",
       "2. 6\n",
       "3. 8\n",
       "4. 10\n",
       "5. 12\n",
       "6. 14\n",
       "\n",
       "\n"
      ],
      "text/plain": [
       "[1]  4  6  8 10 12 14"
      ]
     },
     "metadata": {},
     "output_type": "display_data"
    }
   ],
   "source": [
    "mean(x) # the mean\n",
    "sd(x) # standard deviation"
   ]
  },
  {
   "cell_type": "markdown",
   "metadata": {},
   "source": [
    "You can also do operations like multiply by numbers, additions, etc:"
   ]
  },
  {
   "cell_type": "code",
   "execution_count": 35,
   "metadata": {},
   "outputs": [
    {
     "data": {
      "text/html": [
       "<ol class=list-inline>\n",
       "\t<li>4</li>\n",
       "\t<li>6</li>\n",
       "\t<li>8</li>\n",
       "\t<li>10</li>\n",
       "\t<li>12</li>\n",
       "\t<li>14</li>\n",
       "</ol>\n"
      ],
      "text/latex": [
       "\\begin{enumerate*}\n",
       "\\item 4\n",
       "\\item 6\n",
       "\\item 8\n",
       "\\item 10\n",
       "\\item 12\n",
       "\\item 14\n",
       "\\end{enumerate*}\n"
      ],
      "text/markdown": [
       "1. 4\n",
       "2. 6\n",
       "3. 8\n",
       "4. 10\n",
       "5. 12\n",
       "6. 14\n",
       "\n",
       "\n"
      ],
      "text/plain": [
       "[1]  4  6  8 10 12 14"
      ]
     },
     "metadata": {},
     "output_type": "display_data"
    },
    {
     "data": {
      "text/html": [
       "<ol class=list-inline>\n",
       "\t<li>6</li>\n",
       "\t<li>9</li>\n",
       "\t<li>12</li>\n",
       "\t<li>15</li>\n",
       "\t<li>18</li>\n",
       "\t<li>21</li>\n",
       "</ol>\n"
      ],
      "text/latex": [
       "\\begin{enumerate*}\n",
       "\\item 6\n",
       "\\item 9\n",
       "\\item 12\n",
       "\\item 15\n",
       "\\item 18\n",
       "\\item 21\n",
       "\\end{enumerate*}\n"
      ],
      "text/markdown": [
       "1. 6\n",
       "2. 9\n",
       "3. 12\n",
       "4. 15\n",
       "5. 18\n",
       "6. 21\n",
       "\n",
       "\n"
      ],
      "text/plain": [
       "[1]  6  9 12 15 18 21"
      ]
     },
     "metadata": {},
     "output_type": "display_data"
    }
   ],
   "source": [
    "2*x\n",
    "x+x+x"
   ]
  },
  {
   "cell_type": "markdown",
   "metadata": {},
   "source": [
    "If you want to append values to your array you use `c()`"
   ]
  },
  {
   "cell_type": "code",
   "execution_count": 37,
   "metadata": {},
   "outputs": [
    {
     "data": {
      "text/html": [
       "<ol class=list-inline>\n",
       "\t<li>2</li>\n",
       "\t<li>3</li>\n",
       "\t<li>4</li>\n",
       "\t<li>5</li>\n",
       "\t<li>6</li>\n",
       "\t<li>7</li>\n",
       "\t<li>1</li>\n",
       "</ol>\n"
      ],
      "text/latex": [
       "\\begin{enumerate*}\n",
       "\\item 2\n",
       "\\item 3\n",
       "\\item 4\n",
       "\\item 5\n",
       "\\item 6\n",
       "\\item 7\n",
       "\\item 1\n",
       "\\end{enumerate*}\n"
      ],
      "text/markdown": [
       "1. 2\n",
       "2. 3\n",
       "3. 4\n",
       "4. 5\n",
       "5. 6\n",
       "6. 7\n",
       "7. 1\n",
       "\n",
       "\n"
      ],
      "text/plain": [
       "[1] 2 3 4 5 6 7 1"
      ]
     },
     "metadata": {},
     "output_type": "display_data"
    }
   ],
   "source": [
    "c(x,1)"
   ]
  },
  {
   "cell_type": "markdown",
   "metadata": {},
   "source": [
    "## Matrices\n",
    "\n",
    "If you want to make multidimensional arrays, we can use matrices.\n",
    "\n",
    "You create an empty matrix by using `matrix()`. This function takes parameters:\n",
    "\n",
    "* `data`\n",
    "* `nrow`,`ncol`, number of rows and columns\n",
    "* `dimnames` if you would like to name your columns\n",
    "\n",
    "<div class=\"alert alert-warning\">\n",
    "\n",
    "All elements of a matrix must be of the same type! You cannot mix numbers with strings. Even if all elements are numbers, they need to be of the same type.\n",
    "\n",
    "</div>"
   ]
  },
  {
   "cell_type": "code",
   "execution_count": 85,
   "metadata": {},
   "outputs": [
    {
     "data": {
      "text/html": [
       "<table>\n",
       "<caption>A matrix: 4 × 5 of type int</caption>\n",
       "<tbody>\n",
       "\t<tr><td>1</td><td>5</td><td> 9</td><td>13</td><td>17</td></tr>\n",
       "\t<tr><td>2</td><td>6</td><td>10</td><td>14</td><td>18</td></tr>\n",
       "\t<tr><td>3</td><td>7</td><td>11</td><td>15</td><td>19</td></tr>\n",
       "\t<tr><td>4</td><td>8</td><td>12</td><td>16</td><td>20</td></tr>\n",
       "</tbody>\n",
       "</table>\n"
      ],
      "text/latex": [
       "A matrix: 4 × 5 of type int\n",
       "\\begin{tabular}{lllll}\n",
       "\t 1 & 5 &  9 & 13 & 17\\\\\n",
       "\t 2 & 6 & 10 & 14 & 18\\\\\n",
       "\t 3 & 7 & 11 & 15 & 19\\\\\n",
       "\t 4 & 8 & 12 & 16 & 20\\\\\n",
       "\\end{tabular}\n"
      ],
      "text/markdown": [
       "\n",
       "A matrix: 4 × 5 of type int\n",
       "\n",
       "| 1 | 5 |  9 | 13 | 17 |\n",
       "| 2 | 6 | 10 | 14 | 18 |\n",
       "| 3 | 7 | 11 | 15 | 19 |\n",
       "| 4 | 8 | 12 | 16 | 20 |\n",
       "\n"
      ],
      "text/plain": [
       "     [,1] [,2] [,3] [,4] [,5]\n",
       "[1,] 1    5     9   13   17  \n",
       "[2,] 2    6    10   14   18  \n",
       "[3,] 3    7    11   15   19  \n",
       "[4,] 4    8    12   16   20  "
      ]
     },
     "metadata": {},
     "output_type": "display_data"
    }
   ],
   "source": [
    "M  = matrix(1:20,4,5)\n",
    "M"
   ]
  },
  {
   "cell_type": "markdown",
   "metadata": {},
   "source": [
    "### Addressing rows, columns and values\n",
    "\n",
    "In the same way you address individual values of arrays with `[i]`, you can address values of matrices with `[x,y]`.\n",
    "\n",
    "You can get columns or rows by omiting one of the indices. For example, `M[i,]` will return the `i`th row. `M[,j]` will return the `j`th column."
   ]
  },
  {
   "cell_type": "code",
   "execution_count": 86,
   "metadata": {},
   "outputs": [
    {
     "data": {
      "text/html": [
       "<ol class=list-inline>\n",
       "\t<li>1</li>\n",
       "\t<li>5</li>\n",
       "\t<li>9</li>\n",
       "\t<li>13</li>\n",
       "\t<li>17</li>\n",
       "</ol>\n"
      ],
      "text/latex": [
       "\\begin{enumerate*}\n",
       "\\item 1\n",
       "\\item 5\n",
       "\\item 9\n",
       "\\item 13\n",
       "\\item 17\n",
       "\\end{enumerate*}\n"
      ],
      "text/markdown": [
       "1. 1\n",
       "2. 5\n",
       "3. 9\n",
       "4. 13\n",
       "5. 17\n",
       "\n",
       "\n"
      ],
      "text/plain": [
       "[1]  1  5  9 13 17"
      ]
     },
     "metadata": {},
     "output_type": "display_data"
    },
    {
     "data": {
      "text/html": [
       "<ol class=list-inline>\n",
       "\t<li>1</li>\n",
       "\t<li>2</li>\n",
       "\t<li>3</li>\n",
       "\t<li>4</li>\n",
       "</ol>\n"
      ],
      "text/latex": [
       "\\begin{enumerate*}\n",
       "\\item 1\n",
       "\\item 2\n",
       "\\item 3\n",
       "\\item 4\n",
       "\\end{enumerate*}\n"
      ],
      "text/markdown": [
       "1. 1\n",
       "2. 2\n",
       "3. 3\n",
       "4. 4\n",
       "\n",
       "\n"
      ],
      "text/plain": [
       "[1] 1 2 3 4"
      ]
     },
     "metadata": {},
     "output_type": "display_data"
    }
   ],
   "source": [
    "M[1,]\n",
    "M[,1]"
   ]
  },
  {
   "cell_type": "markdown",
   "metadata": {},
   "source": [
    "You can name the columns (and rows) and use those names to refer to them"
   ]
  },
  {
   "cell_type": "code",
   "execution_count": 87,
   "metadata": {},
   "outputs": [],
   "source": [
    "colnames(M) = c(\"a\",\"b\",\"c\",\"d\",\"e\")"
   ]
  },
  {
   "cell_type": "code",
   "execution_count": 88,
   "metadata": {},
   "outputs": [
    {
     "data": {
      "text/html": [
       "<ol class=list-inline>\n",
       "\t<li>5</li>\n",
       "\t<li>6</li>\n",
       "\t<li>7</li>\n",
       "\t<li>8</li>\n",
       "</ol>\n"
      ],
      "text/latex": [
       "\\begin{enumerate*}\n",
       "\\item 5\n",
       "\\item 6\n",
       "\\item 7\n",
       "\\item 8\n",
       "\\end{enumerate*}\n"
      ],
      "text/markdown": [
       "1. 5\n",
       "2. 6\n",
       "3. 7\n",
       "4. 8\n",
       "\n",
       "\n"
      ],
      "text/plain": [
       "[1] 5 6 7 8"
      ]
     },
     "metadata": {},
     "output_type": "display_data"
    }
   ],
   "source": [
    "M[,'b']\n"
   ]
  },
  {
   "cell_type": "code",
   "execution_count": 84,
   "metadata": {
    "scrolled": true
   },
   "outputs": [
    {
     "data": {
      "text/plain": [
       "       a              b              c               d               e        \n",
       " Min.   :1.00   Min.   :5.00   Min.   : 9.00   Min.   :13.00   Min.   :17.00  \n",
       " 1st Qu.:1.75   1st Qu.:5.75   1st Qu.: 9.75   1st Qu.:13.75   1st Qu.:17.75  \n",
       " Median :2.50   Median :6.50   Median :10.50   Median :14.50   Median :18.50  \n",
       " Mean   :2.50   Mean   :6.50   Mean   :10.50   Mean   :14.50   Mean   :18.50  \n",
       " 3rd Qu.:3.25   3rd Qu.:7.25   3rd Qu.:11.25   3rd Qu.:15.25   3rd Qu.:19.25  \n",
       " Max.   :4.00   Max.   :8.00   Max.   :12.00   Max.   :16.00   Max.   :20.00  "
      ]
     },
     "metadata": {},
     "output_type": "display_data"
    }
   ],
   "source": [
    "summary(M)"
   ]
  },
  {
   "cell_type": "markdown",
   "metadata": {},
   "source": [
    "You can replace a column by simply assigning new values to it:"
   ]
  },
  {
   "cell_type": "code",
   "execution_count": 97,
   "metadata": {},
   "outputs": [
    {
     "data": {
      "text/html": [
       "<table>\n",
       "<caption>A matrix: 4 × 5 of type dbl</caption>\n",
       "<thead>\n",
       "\t<tr><th scope=col>a</th><th scope=col>b</th><th scope=col>c</th><th scope=col>d</th><th scope=col>e</th></tr>\n",
       "</thead>\n",
       "<tbody>\n",
       "\t<tr><td>1</td><td>4</td><td> 9</td><td>13</td><td>17</td></tr>\n",
       "\t<tr><td>2</td><td>3</td><td>10</td><td>14</td><td>18</td></tr>\n",
       "\t<tr><td>3</td><td>6</td><td>11</td><td>15</td><td>19</td></tr>\n",
       "\t<tr><td>4</td><td>5</td><td>12</td><td>16</td><td>20</td></tr>\n",
       "</tbody>\n",
       "</table>\n"
      ],
      "text/latex": [
       "A matrix: 4 × 5 of type dbl\n",
       "\\begin{tabular}{lllll}\n",
       " a & b & c & d & e\\\\\n",
       "\\hline\n",
       "\t 1 & 4 &  9 & 13 & 17\\\\\n",
       "\t 2 & 3 & 10 & 14 & 18\\\\\n",
       "\t 3 & 6 & 11 & 15 & 19\\\\\n",
       "\t 4 & 5 & 12 & 16 & 20\\\\\n",
       "\\end{tabular}\n"
      ],
      "text/markdown": [
       "\n",
       "A matrix: 4 × 5 of type dbl\n",
       "\n",
       "| a | b | c | d | e |\n",
       "|---|---|---|---|---|\n",
       "| 1 | 4 |  9 | 13 | 17 |\n",
       "| 2 | 3 | 10 | 14 | 18 |\n",
       "| 3 | 6 | 11 | 15 | 19 |\n",
       "| 4 | 5 | 12 | 16 | 20 |\n",
       "\n"
      ],
      "text/plain": [
       "     a b c  d  e \n",
       "[1,] 1 4  9 13 17\n",
       "[2,] 2 3 10 14 18\n",
       "[3,] 3 6 11 15 19\n",
       "[4,] 4 5 12 16 20"
      ]
     },
     "metadata": {},
     "output_type": "display_data"
    }
   ],
   "source": [
    "M[,\"b\"] = c(4,3,6,5)\n",
    "M"
   ]
  },
  {
   "cell_type": "markdown",
   "metadata": {},
   "source": [
    "To add new rows you can use `rbind()`. To add columns you use `cbind()`."
   ]
  },
  {
   "cell_type": "code",
   "execution_count": 98,
   "metadata": {},
   "outputs": [
    {
     "data": {
      "text/html": [
       "<table>\n",
       "<caption>A matrix: 5 × 5 of type dbl</caption>\n",
       "<thead>\n",
       "\t<tr><th scope=col>a</th><th scope=col>b</th><th scope=col>c</th><th scope=col>d</th><th scope=col>e</th></tr>\n",
       "</thead>\n",
       "<tbody>\n",
       "\t<tr><td>1</td><td>4</td><td> 9</td><td>13</td><td>17</td></tr>\n",
       "\t<tr><td>2</td><td>3</td><td>10</td><td>14</td><td>18</td></tr>\n",
       "\t<tr><td>3</td><td>6</td><td>11</td><td>15</td><td>19</td></tr>\n",
       "\t<tr><td>4</td><td>5</td><td>12</td><td>16</td><td>20</td></tr>\n",
       "\t<tr><td>0</td><td>0</td><td> 0</td><td> 0</td><td> 0</td></tr>\n",
       "</tbody>\n",
       "</table>\n"
      ],
      "text/latex": [
       "A matrix: 5 × 5 of type dbl\n",
       "\\begin{tabular}{lllll}\n",
       " a & b & c & d & e\\\\\n",
       "\\hline\n",
       "\t 1 & 4 &  9 & 13 & 17\\\\\n",
       "\t 2 & 3 & 10 & 14 & 18\\\\\n",
       "\t 3 & 6 & 11 & 15 & 19\\\\\n",
       "\t 4 & 5 & 12 & 16 & 20\\\\\n",
       "\t 0 & 0 &  0 &  0 &  0\\\\\n",
       "\\end{tabular}\n"
      ],
      "text/markdown": [
       "\n",
       "A matrix: 5 × 5 of type dbl\n",
       "\n",
       "| a | b | c | d | e |\n",
       "|---|---|---|---|---|\n",
       "| 1 | 4 |  9 | 13 | 17 |\n",
       "| 2 | 3 | 10 | 14 | 18 |\n",
       "| 3 | 6 | 11 | 15 | 19 |\n",
       "| 4 | 5 | 12 | 16 | 20 |\n",
       "| 0 | 0 |  0 |  0 |  0 |\n",
       "\n"
      ],
      "text/plain": [
       "     a b c  d  e \n",
       "[1,] 1 4  9 13 17\n",
       "[2,] 2 3 10 14 18\n",
       "[3,] 3 6 11 15 19\n",
       "[4,] 4 5 12 16 20\n",
       "[5,] 0 0  0  0  0"
      ]
     },
     "metadata": {},
     "output_type": "display_data"
    }
   ],
   "source": [
    "rbind(M,c(0,0,0,0,0))"
   ]
  },
  {
   "cell_type": "code",
   "execution_count": 100,
   "metadata": {},
   "outputs": [
    {
     "data": {
      "text/html": [
       "<table>\n",
       "<caption>A matrix: 4 × 6 of type dbl</caption>\n",
       "<thead>\n",
       "\t<tr><th scope=col>a</th><th scope=col>b</th><th scope=col>c</th><th scope=col>d</th><th scope=col>e</th><th scope=col></th></tr>\n",
       "</thead>\n",
       "<tbody>\n",
       "\t<tr><td>1</td><td>4</td><td> 9</td><td>13</td><td>17</td><td>1</td></tr>\n",
       "\t<tr><td>2</td><td>3</td><td>10</td><td>14</td><td>18</td><td>2</td></tr>\n",
       "\t<tr><td>3</td><td>6</td><td>11</td><td>15</td><td>19</td><td>3</td></tr>\n",
       "\t<tr><td>4</td><td>5</td><td>12</td><td>16</td><td>20</td><td>4</td></tr>\n",
       "</tbody>\n",
       "</table>\n"
      ],
      "text/latex": [
       "A matrix: 4 × 6 of type dbl\n",
       "\\begin{tabular}{llllll}\n",
       " a & b & c & d & e & \\\\\n",
       "\\hline\n",
       "\t 1 & 4 &  9 & 13 & 17 & 1\\\\\n",
       "\t 2 & 3 & 10 & 14 & 18 & 2\\\\\n",
       "\t 3 & 6 & 11 & 15 & 19 & 3\\\\\n",
       "\t 4 & 5 & 12 & 16 & 20 & 4\\\\\n",
       "\\end{tabular}\n"
      ],
      "text/markdown": [
       "\n",
       "A matrix: 4 × 6 of type dbl\n",
       "\n",
       "| a | b | c | d | e | <!----> |\n",
       "|---|---|---|---|---|---|\n",
       "| 1 | 4 |  9 | 13 | 17 | 1 |\n",
       "| 2 | 3 | 10 | 14 | 18 | 2 |\n",
       "| 3 | 6 | 11 | 15 | 19 | 3 |\n",
       "| 4 | 5 | 12 | 16 | 20 | 4 |\n",
       "\n"
      ],
      "text/plain": [
       "     a b c  d  e   \n",
       "[1,] 1 4  9 13 17 1\n",
       "[2,] 2 3 10 14 18 2\n",
       "[3,] 3 6 11 15 19 3\n",
       "[4,] 4 5 12 16 20 4"
      ]
     },
     "metadata": {},
     "output_type": "display_data"
    }
   ],
   "source": [
    "cbind(M,c(1,2,3,4))"
   ]
  },
  {
   "cell_type": "code",
   "execution_count": 101,
   "metadata": {},
   "outputs": [],
   "source": [
    "help(cbind)"
   ]
  },
  {
   "cell_type": "markdown",
   "metadata": {},
   "source": [
    "## Flow control in R\n",
    "\n",
    "Looping is one of the basic aspects of any programming language. In **R**, the `for` loop is the basic way to iterate over arrays.\n",
    "The basic syntax is:\n",
    "\n",
    "```\n",
    "for(val in sequence){\n",
    "   # code to loop over\n",
    "}\n",
    "```\n",
    "\n",
    "`while` also exists in **R**.\n",
    "\n",
    "Very often you'll want to make your code depend on particular conditions. `if` is the basic function for that:\n",
    "\n",
    "```\n",
    "if(condition){\n",
    " # code to run if condition is true\n",
    "}else{\n",
    " # code to run if condition is false\n",
    "}\n",
    "```\n",
    "When you have many conditions you want to test it is usually better to use `switch()`."
   ]
  },
  {
   "cell_type": "markdown",
   "metadata": {},
   "source": [
    "### an example.\n",
    "\n",
    "Let's go over a simple example that uses these functions.\n",
    "\n",
    "We will create a vector of random numbers and separate it into two vectors: for positive and negative values."
   ]
  },
  {
   "cell_type": "code",
   "execution_count": 106,
   "metadata": {},
   "outputs": [
    {
     "data": {
      "text/html": [
       "<ol class=list-inline>\n",
       "\t<li>-0.998547397593862</li>\n",
       "\t<li>0.213668731025931</li>\n",
       "\t<li>-0.787722411428747</li>\n",
       "\t<li>-0.975527900613648</li>\n",
       "\t<li>-0.16234757421992</li>\n",
       "\t<li>0.54485739951461</li>\n",
       "\t<li>0.752491499671515</li>\n",
       "\t<li>0.0645100033559944</li>\n",
       "\t<li>0.585396678205163</li>\n",
       "\t<li>0.0113898991721289</li>\n",
       "\t<li>1.21239397415336</li>\n",
       "\t<li>1.88941027430815</li>\n",
       "\t<li>-0.862997526639755</li>\n",
       "\t<li>1.0342319553566</li>\n",
       "\t<li>0.923092521095188</li>\n",
       "</ol>\n"
      ],
      "text/latex": [
       "\\begin{enumerate*}\n",
       "\\item -0.998547397593862\n",
       "\\item 0.213668731025931\n",
       "\\item -0.787722411428747\n",
       "\\item -0.975527900613648\n",
       "\\item -0.16234757421992\n",
       "\\item 0.54485739951461\n",
       "\\item 0.752491499671515\n",
       "\\item 0.0645100033559944\n",
       "\\item 0.585396678205163\n",
       "\\item 0.0113898991721289\n",
       "\\item 1.21239397415336\n",
       "\\item 1.88941027430815\n",
       "\\item -0.862997526639755\n",
       "\\item 1.0342319553566\n",
       "\\item 0.923092521095188\n",
       "\\end{enumerate*}\n"
      ],
      "text/markdown": [
       "1. -0.998547397593862\n",
       "2. 0.213668731025931\n",
       "3. -0.787722411428747\n",
       "4. -0.975527900613648\n",
       "5. -0.16234757421992\n",
       "6. 0.54485739951461\n",
       "7. 0.752491499671515\n",
       "8. 0.0645100033559944\n",
       "9. 0.585396678205163\n",
       "10. 0.0113898991721289\n",
       "11. 1.21239397415336\n",
       "12. 1.88941027430815\n",
       "13. -0.862997526639755\n",
       "14. 1.0342319553566\n",
       "15. 0.923092521095188\n",
       "\n",
       "\n"
      ],
      "text/plain": [
       " [1] -0.9985474  0.2136687 -0.7877224 -0.9755279 -0.1623476  0.5448574\n",
       " [7]  0.7524915  0.0645100  0.5853967  0.0113899  1.2123940  1.8894103\n",
       "[13] -0.8629975  1.0342320  0.9230925"
      ]
     },
     "metadata": {},
     "output_type": "display_data"
    }
   ],
   "source": [
    "# this creates a vector of 15 random numers taken from a Normal distribution.\n",
    "\n",
    "x <- rnorm(15)\n",
    "x"
   ]
  },
  {
   "cell_type": "code",
   "execution_count": 108,
   "metadata": {},
   "outputs": [
    {
     "data": {
      "text/html": [
       "<ol class=list-inline>\n",
       "\t<li>0.213668731025931</li>\n",
       "\t<li>0.54485739951461</li>\n",
       "\t<li>0.752491499671515</li>\n",
       "\t<li>0.0645100033559944</li>\n",
       "\t<li>0.585396678205163</li>\n",
       "\t<li>0.0113898991721289</li>\n",
       "\t<li>1.21239397415336</li>\n",
       "\t<li>1.88941027430815</li>\n",
       "\t<li>1.0342319553566</li>\n",
       "\t<li>0.923092521095188</li>\n",
       "</ol>\n"
      ],
      "text/latex": [
       "\\begin{enumerate*}\n",
       "\\item 0.213668731025931\n",
       "\\item 0.54485739951461\n",
       "\\item 0.752491499671515\n",
       "\\item 0.0645100033559944\n",
       "\\item 0.585396678205163\n",
       "\\item 0.0113898991721289\n",
       "\\item 1.21239397415336\n",
       "\\item 1.88941027430815\n",
       "\\item 1.0342319553566\n",
       "\\item 0.923092521095188\n",
       "\\end{enumerate*}\n"
      ],
      "text/markdown": [
       "1. 0.213668731025931\n",
       "2. 0.54485739951461\n",
       "3. 0.752491499671515\n",
       "4. 0.0645100033559944\n",
       "5. 0.585396678205163\n",
       "6. 0.0113898991721289\n",
       "7. 1.21239397415336\n",
       "8. 1.88941027430815\n",
       "9. 1.0342319553566\n",
       "10. 0.923092521095188\n",
       "\n",
       "\n"
      ],
      "text/plain": [
       " [1] 0.2136687 0.5448574 0.7524915 0.0645100 0.5853967 0.0113899 1.2123940\n",
       " [8] 1.8894103 1.0342320 0.9230925"
      ]
     },
     "metadata": {},
     "output_type": "display_data"
    },
    {
     "data": {
      "text/html": [
       "<ol class=list-inline>\n",
       "\t<li>-0.998547397593862</li>\n",
       "\t<li>-0.787722411428747</li>\n",
       "\t<li>-0.975527900613648</li>\n",
       "\t<li>-0.16234757421992</li>\n",
       "\t<li>-0.862997526639755</li>\n",
       "</ol>\n"
      ],
      "text/latex": [
       "\\begin{enumerate*}\n",
       "\\item -0.998547397593862\n",
       "\\item -0.787722411428747\n",
       "\\item -0.975527900613648\n",
       "\\item -0.16234757421992\n",
       "\\item -0.862997526639755\n",
       "\\end{enumerate*}\n"
      ],
      "text/markdown": [
       "1. -0.998547397593862\n",
       "2. -0.787722411428747\n",
       "3. -0.975527900613648\n",
       "4. -0.16234757421992\n",
       "5. -0.862997526639755\n",
       "\n",
       "\n"
      ],
      "text/plain": [
       "[1] -0.9985474 -0.7877224 -0.9755279 -0.1623476 -0.8629975"
      ]
     },
     "metadata": {},
     "output_type": "display_data"
    }
   ],
   "source": [
    "# split values into positive and negative\n",
    "\n",
    "## create two empty vectors to store the values\n",
    "posv<-vector()\n",
    "negv<-vector()\n",
    "\n",
    "# loop over the `x` array and decide into which vector the value goes into\n",
    "for(i in 1:length(x)){\n",
    "    if (x[i]>0) posv<-c(posv,x[i])\n",
    "    if (x[i]<=0) negv<-c(negv,x[i])\n",
    "}\n",
    "posv\n",
    "negv"
   ]
  },
  {
   "cell_type": "markdown",
   "metadata": {},
   "source": [
    "Alternatively, you could use `if ... else ...`"
   ]
  },
  {
   "cell_type": "code",
   "execution_count": null,
   "metadata": {},
   "outputs": [],
   "source": [
    "# change the code to use if else\n",
    "posv<-vector()\n",
    "negv<-vector()\n",
    "\n",
    "for(i in 1:length(x)){\n",
    "    if (x[i]>0) {\n",
    "        posv<-c(posv,x[i])\n",
    "    }else{\n",
    "        negv<-c(negv,x[i])\n",
    "    }\n",
    "}\n",
    "posv\n",
    "negv"
   ]
  },
  {
   "cell_type": "markdown",
   "metadata": {},
   "source": [
    "Of course, we could have done it even simpler, using selectors:"
   ]
  },
  {
   "cell_type": "code",
   "execution_count": 109,
   "metadata": {},
   "outputs": [],
   "source": [
    "posv = x[which(x>0)]\n",
    "negv = x[which(x<=0)]"
   ]
  },
  {
   "cell_type": "markdown",
   "metadata": {},
   "source": [
    "## Functions\n",
    "\n",
    "Functions are a way to encapsulate functionality. A function is declared as:\n",
    "\n",
    "```\n",
    "function(x){\n",
    " # code that operates on x\n",
    "}\n",
    "```"
   ]
  },
  {
   "cell_type": "code",
   "execution_count": 112,
   "metadata": {},
   "outputs": [],
   "source": [
    "my_func = function(x){\n",
    "    x+1\n",
    "}"
   ]
  },
  {
   "cell_type": "code",
   "execution_count": 113,
   "metadata": {},
   "outputs": [
    {
     "data": {
      "text/html": [
       "4"
      ],
      "text/latex": [
       "4"
      ],
      "text/markdown": [
       "4"
      ],
      "text/plain": [
       "[1] 4"
      ]
     },
     "metadata": {},
     "output_type": "display_data"
    }
   ],
   "source": [
    "my_func(3)"
   ]
  }
 ],
 "metadata": {
  "kernelspec": {
   "display_name": "R",
   "language": "R",
   "name": "ir"
  },
  "language_info": {
   "codemirror_mode": "r",
   "file_extension": ".r",
   "mimetype": "text/x-r-source",
   "name": "R",
   "pygments_lexer": "r",
   "version": "3.6.1"
  }
 },
 "nbformat": 4,
 "nbformat_minor": 2
}

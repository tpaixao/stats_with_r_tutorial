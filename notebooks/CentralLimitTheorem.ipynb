{
 "cells": [
  {
   "cell_type": "markdown",
   "metadata": {},
   "source": [
    "<div class=\"alert alert-info\">\n",
    "\n",
    "### This is a Jupyter notebook\n",
    "\n",
    "You can learn all about the Jupyter interface [here](https://realpython.com/jupyter-notebook-introduction/)\n",
    "\n",
    "Some basics: \n",
    "Jupyter has two modes: command and edit. When you click a cell, you enter ```edit mode``` and you can edit its contents. To exit ```edit mode```, you press ```ESC```.\n",
    "\n",
    "* Cells can be either code cells or text (or markdown) cells\n",
    "* To run cells, press Shift+enter \n",
    "* To turn a cell into a text cell, press `m` (markdown) in command mode\n",
    "* To create a new cell use `b` (new cell below) or `a` (above) in command mode\n",
    "\n",
    "</div>"
   ]
  },
  {
   "cell_type": "markdown",
   "metadata": {},
   "source": [
    "# Central Limit Theorem\n",
    "\n",
    "In this notebook we delve into one of the main results in statistics: *the central limit theorem*.\n",
    "The theorem is usually stated as:\n",
    "\n",
    "*Let $\\left\\{X_0,...,X_n\\right\\}$ be a sample of size $n$ from a distribution with mean $\\mu$ and standard deviation $\\sigma$. Then, their **sum** will converge to a Normal distribution with mean $n\\cdot\\mu$ and standard deviation $\\sqrt{n}\\cdot\\sigma$.*\n",
    "\n",
    "$$\n",
    "\\sum_i X_i \\sim N(n\\cdot\\mu,\\sqrt{n}\\cdot\\sigma)\n",
    "$$\n",
    "\n",
    "Why is this important? It is particularly important because this allows us to **know** the distribution of the mean of sample. The mean of a sample is defined as:\n",
    "\n",
    "$$\n",
    "m = \\frac{1}{n}\\sum_i X_i\n",
    "$$\n",
    "\n",
    "The central limit tells us that this mean $m$ is distributed as a Normal with mean $\\mu$ (the true mean of the distribution) and standard deviation $\\frac{1}{sqrt{n}}\\sigma$ (the standard error of the mean -- more on this later), regardless of where the data comes from!"
   ]
  },
  {
   "cell_type": "code",
   "execution_count": 1,
   "metadata": {
    "ExecuteTime": {
     "end_time": "2019-09-11T14:00:24.077494Z",
     "start_time": "2019-09-11T14:00:24.040Z"
    }
   },
   "outputs": [],
   "source": [
    "options(repr.plot.width=8, repr.plot.height=4)"
   ]
  },
  {
   "cell_type": "markdown",
   "metadata": {},
   "source": [
    "## How fast does it converge?\n",
    "\n",
    "The first question that comes to mind is *how many data points are enough for the sum to be a normal?* The answer is *it depends*. In particular it depends on the distribution..\n",
    "\n",
    "Let's explore this. \n",
    "First, we need to get some random numbers from some distributions. To sample from a normal, you can use `rnorm`. Other distributions include `rbinom` (Binomial), `rbeta` (Beta distribution), `rpois` (Poisson), `rexp` (Exponential), `rchisq` chi-square, etc... \n",
    "\n",
    "Second, we need to know how to check if something is normal."
   ]
  },
  {
   "cell_type": "code",
   "execution_count": 6,
   "metadata": {
    "ExecuteTime": {
     "end_time": "2019-09-11T11:00:51.408860Z",
     "start_time": "2019-09-11T11:00:51.362Z"
    }
   },
   "outputs": [],
   "source": [
    "#rbinom,rbeta,rchisq,rpois,rexp\n",
    "\n",
    "x1 = rnorm(10) # this takes 10 random numbers\n",
    "x2 = rnorm(100) # 100, etc\n",
    "x3 = rnorm(1000)\n",
    "x4 = rnorm(10000)"
   ]
  },
  {
   "cell_type": "code",
   "execution_count": 5,
   "metadata": {
    "ExecuteTime": {
     "end_time": "2019-09-11T11:00:51.827606Z",
     "start_time": "2019-09-11T11:00:51.655Z"
    }
   },
   "outputs": [
    {
     "data": {
      "image/png": "[encoded data removed]",
      "text/plain": [
       "Plot with title \"Histogram of x4\""
      ]
     },
     "metadata": {},
     "output_type": "display_data"
    }
   ],
   "source": [
    "par(mfrow=c(1,2)) # this tells R that the next two plots are in a 1 by 2 grid\n",
    "hist(x1)\n",
    "hist(x4)"
   ]
  },
  {
   "cell_type": "markdown",
   "metadata": {},
   "source": [
    "Plotting the histograms of the different samples helps to visually check if the sample is normal, but is not ideal. A better option is to use the cumulative distribution. The `ecdf` function calculates the CDF for data samples (the `e` stands for *empirical*)."
   ]
  },
  {
   "cell_type": "markdown",
   "metadata": {},
   "source": [
    "Every distribution has 4 functions associated with it: `d`,`p`,`q` and `r`. You already know `rnorm`, which samples random numbers. `dnorm` returns the density function, `pnorm` returns the cumulative distribution and `qnorm` returns the quantile function. Replace the `norm` for other distributions.\n",
    "\n",
    "``help(pnorm)``"
   ]
  },
  {
   "cell_type": "code",
   "execution_count": 15,
   "metadata": {},
   "outputs": [],
   "source": [
    "help(qnorm)"
   ]
  },
  {
   "cell_type": "code",
   "execution_count": 13,
   "metadata": {
    "ExecuteTime": {
     "end_time": "2019-09-11T11:14:37.957904Z",
     "start_time": "2019-09-11T11:14:36.498Z"
    }
   },
   "outputs": [
    {
     "data": {
      "image/png": "[encoded data removed]",
      "text/plain": [
       "Plot with title \"ecdf(x1)\""
      ]
     },
     "metadata": {},
     "output_type": "display_data"
    }
   ],
   "source": [
    "\n",
    "par(mfrow = c(1,1))\n",
    "\n",
    "plot(ecdf(x1))\n",
    "lines(ecdf(x2),col='red')\n",
    "lines(ecdf(x3),col='green')\n",
    "lines(ecdf(x4),col='blue')\n",
    "\n",
    "xx= seq(-2,2,.1)\n",
    "lines(xx,pnorm(xx))\n",
    "\n",
    "legend(-2.5,.8,legend=c(\"x1\",\"x2\",\"x3\",\"x4\"),col=c(\"black\",\"red\",\"green\", \"blue\"),lty=1:4)"
   ]
  },
  {
   "cell_type": "markdown",
   "metadata": {},
   "source": [
    "Comparing cumulatives is a better way to visually check if something is normal. But better still is the quantile-quantile plot, which essentially plots the CDF of a sample and the distribution against each other. Something that looks normal will have a number of points below a particular value equal to the probability of a normal at that point.\n",
    "\n",
    "**R** has functions for that:\n",
    "\n",
    "* `qqnorm` will plot your sample against a normal,\n",
    "* `qqplot` will plot your sample against some other sample (check visually that they look similar)"
   ]
  },
  {
   "cell_type": "code",
   "execution_count": 23,
   "metadata": {
    "scrolled": false
   },
   "outputs": [
    {
     "data": {
      "image/png": "[encoded data removed]",
      "text/plain": [
       "Plot with title \"Normal Q-Q Plot\""
      ]
     },
     "metadata": {},
     "output_type": "display_data"
    }
   ],
   "source": [
    "qqnorm(x3)\n",
    "qqline(x3)"
   ]
  },
  {
   "cell_type": "markdown",
   "metadata": {},
   "source": [
    "That looks Normal, as it should since we are sampling from normals. There are more formal ways to test for normality, but we will get to them later...\n",
    "\n",
    "<div class=\"alert alert-warning\">\n",
    "Try it with some other distribution!\n",
    "</div>"
   ]
  },
  {
   "cell_type": "markdown",
   "metadata": {},
   "source": [
    "## Testing the central limit theorem\n",
    "\n",
    "So now we can try to see the Central Limit Theorem in action. We are going to draw samples of different sizes from a distribution and see how well their sums approach a normal distribution."
   ]
  },
  {
   "cell_type": "markdown",
   "metadata": {},
   "source": [
    "### Exponential distribution\n",
    "\n",
    "We first check the exponential distribution. We draw $100$ samples from an exponential distribution for different sample sizes. We calculate the mean to see how well it approximates the *real* mean (which is $1$ in this example). We can also calculate the standard deviation of each set of samples (for each sample size), to check how uncertain we are about our estimate of the mean. This is the **standard error of the mean**, which goes down with the sample size."
   ]
  },
  {
   "cell_type": "code",
   "execution_count": 94,
   "metadata": {
    "ExecuteTime": {
     "end_time": "2019-09-11T14:17:13.992441Z",
     "start_time": "2019-09-11T14:17:13.390Z"
    }
   },
   "outputs": [],
   "source": [
    "repetitions=100 # number of points per sample size\n",
    "ns = c(2,5,10,20,50,100,200,500,1000) # sample sizes to evaluate\n",
    "\n",
    "df = matrix(,0,4)\n",
    "\n",
    "for (i in 1:length(ns)){\n",
    "\n",
    "    for (j in 1:repetitions){\n",
    "        x = rexp(ns[i])\n",
    "\n",
    "        df = rbind(df,c(ns[i],sum(x),mean(x),sd(x)))\n",
    "    }  \n",
    "}\n",
    "\n",
    "colnames(df) = c(\"n\",\"sum\",\"mean\",\"sd\")\n"
   ]
  },
  {
   "cell_type": "code",
   "execution_count": 95,
   "metadata": {
    "ExecuteTime": {
     "end_time": "2019-09-11T14:17:15.797090Z",
     "start_time": "2019-09-11T14:17:14.457Z"
    }
   },
   "outputs": [
    {
     "data": {
      "image/png": "[encoded data removed]",
      "text/plain": [
       "plot without title"
      ]
     },
     "metadata": {},
     "output_type": "display_data"
    }
   ],
   "source": [
    "par(mfrow=c(1,2))\n",
    "plot(df[,'n'],df[,'mean'],xlab=\"sample size\",ylab=\"mean\",pch=19,col=rgb(0,0,0,.01))\n",
    "plot(df[,'n'],df[,'sd'],xlab=\"sample size\",ylab=\"sd\",pch=19,col=rgb(0,0,0,.01))"
   ]
  },
  {
   "cell_type": "markdown",
   "metadata": {},
   "source": [
    "Let's now check how well each of the sample sizes fits a normal."
   ]
  },
  {
   "cell_type": "code",
   "execution_count": 97,
   "metadata": {
    "scrolled": false
   },
   "outputs": [
    {
     "data": {
      "image/png": "[encoded data removed]",
      "text/plain": [
       "Plot with title \"sample size 100\""
      ]
     },
     "metadata": {},
     "output_type": "display_data"
    }
   ],
   "source": [
    "par(mfrow = c(2,3))\n",
    "for (n in c(2,5,10,20,50,100)){\n",
    "    qqnorm(df[df[,\"n\"]==n,\"mean\"],main=paste(\"sample size\",n))\n",
    "    qqline(df[df[,\"n\"]==n,\"mean\"])\n",
    "}\n"
   ]
  },
  {
   "cell_type": "markdown",
   "metadata": {},
   "source": [
    "As you can see, for low sample sizes, the distribution of means do not fit the normal distribution very well. But eventually the means of the samples do converge to a normal distribution."
   ]
  },
  {
   "cell_type": "code",
   "execution_count": 100,
   "metadata": {
    "ExecuteTime": {
     "end_time": "2019-09-11T14:10:54.878284Z",
     "start_time": "2019-09-11T14:10:54.817Z"
    }
   },
   "outputs": [],
   "source": [
    "ci_mean = matrix(,0,3)\n",
    "for (n in unique(df[,\"n\"])){\n",
    "    ci_mean = rbind(ci_mean,c(n,quantile(df[df[,\"n\"]==n,\"mean\"],c(0.025,0.975))))\n",
    "}\n",
    "colnames(ci_mean) = c(\"n\",\"ci_low\",\"ci_hi\")\n",
    "\n",
    "ci_var = matrix(,0,3)\n",
    "for (n in unique(df[,\"n\"])){\n",
    "    ci_var = rbind(ci_var,c(n,quantile(df[df[,\"n\"]==n,\"sd\"],c(0.025,0.975))))\n",
    "}\n",
    "colnames(ci_var) = c(\"n\",\"ci_low\",\"ci_hi\")"
   ]
  },
  {
   "cell_type": "code",
   "execution_count": 101,
   "metadata": {
    "ExecuteTime": {
     "end_time": "2019-09-11T14:12:41.124924Z",
     "start_time": "2019-09-11T14:12:40.481Z"
    }
   },
   "outputs": [
    {
     "data": {
      "image/png": "[encoded data removed]",
      "text/plain": [
       "plot without title"
      ]
     },
     "metadata": {},
     "output_type": "display_data"
    }
   ],
   "source": [
    "plot(df[,\"n\"],df[,\"mean\"],xlab=\"sample size\",ylab=\"mean\",pch=19,col=rgb(0,0,0,.01))\n",
    "lines(ci_mean[,'n'],ci_mean[,'ci_low'],col=\"red\")\n",
    "lines(ci_mean[,'n'],ci_mean[,'ci_hi'],col=\"red\")"
   ]
  },
  {
   "cell_type": "markdown",
   "metadata": {},
   "source": [
    "# The t-distribution and confidence interval for the mean"
   ]
  },
  {
   "cell_type": "markdown",
   "metadata": {},
   "source": [
    "As before, we are going to draw a set of samples of different sizes from a (normal) distribution. The *Central Limit Theorem* tells us that the distribution of the mean (for each smaple size) has a particular distribution: a normal with mean $\\mu$ (the same as the distribution we are sampling from) and standard deviation $\\frac{1}{n}\\sigma$. Let's test that and ask how often is the *true* mean inside the 95% quantile of a normal distribution. \n",
    "\n",
    "Specifically, for each sample size, we calculate the mean and standard deviation and ask if the true mean is inside the interval:\n",
    "\n",
    "$$\n",
    "\\left[ \\hat{m}+Z_{2.5}\\frac{\\hat{s}}{\\sqrt{n}} ; \\hat{m}+Z_{97.5}\\frac{\\hat{s}}{\\sqrt{n}}  \\right]\n",
    "$$\n",
    "\n",
    "This 95% interval is often called the *95% confidence interval* (in this case of a normal) and will appear repeatedly when we talk about hypothesis testing. We expect that 95% of the times, the true mean should be inside this interval..\n"
   ]
  },
  {
   "cell_type": "code",
   "execution_count": 109,
   "metadata": {
    "ExecuteTime": {
     "end_time": "2019-09-12T10:08:20.103953Z",
     "start_time": "2019-09-12T10:08:15.780Z"
    }
   },
   "outputs": [],
   "source": [
    "repetitions = 1000\n",
    "# sample_size=10\n",
    "mu = 1\n",
    "\n",
    "q_lo = qnorm(0.025)\n",
    "q_hi = qnorm(0.975)\n",
    "\n",
    "ns = vector()\n",
    "counts = vector()\n",
    "\n",
    "for(sample_size in seq(2,100,2)){\n",
    "    count = 0\n",
    "    ns =c(ns,sample_size)\n",
    "    for (i in 1:repetitions){\n",
    "#         x = rexp(sample_size,rate=1/mu)\n",
    "        x = rnorm(sample_size,mu,1)\n",
    "        m = mean(x)\n",
    "        s = sd(x)\n",
    "\n",
    "        lowerbound = m+q_lo*s/sqrt(sample_size)\n",
    "        upperbound = m+q_hi*s/sqrt(sample_size)\n",
    "\n",
    "        if( (mu>=lowerbound)&&(mu<=upperbound) ){\n",
    "            count = count+1\n",
    "        }\n",
    "    }\n",
    "    count/repetitions\n",
    "    counts = c(counts,count/repetitions)\n",
    "}\n"
   ]
  },
  {
   "cell_type": "code",
   "execution_count": 113,
   "metadata": {
    "ExecuteTime": {
     "end_time": "2019-09-12T10:08:20.179964Z",
     "start_time": "2019-09-12T10:08:16.913Z"
    }
   },
   "outputs": [
    {
     "data": {
      "image/png": "[encoded data removed]",
      "text/plain": [
       "plot without title"
      ]
     },
     "metadata": {},
     "output_type": "display_data"
    }
   ],
   "source": [
    "plot(ns,counts,ylab = \"# times mean is in CI\",xlab=\"sample size\")\n",
    "# lines(c(0,1000),c(0.95,0.95))\n",
    "abline(h=.95,lty=2)"
   ]
  },
  {
   "cell_type": "markdown",
   "metadata": {},
   "source": [
    "**What is going on here?** We are sampling from a normal distribution, so the mean should be clearly normal distributed, but the estimate of the mean seems not be inside the CI as often as we expected.\n",
    "\n",
    "The problem is that we are estimating the variance from the sample. When we are constructing our confidence intervals, we use the estimate, instead of the true variance of the population. When the sample size is small, this leads to an underestimation of the width of the confidence interval.\n"
   ]
  },
  {
   "cell_type": "markdown",
   "metadata": {},
   "source": [
    "Lets repeat the same experiment, now using the t-distribution, instead of the normal distribution, to construct out confidence intervals."
   ]
  },
  {
   "cell_type": "code",
   "execution_count": 119,
   "metadata": {
    "ExecuteTime": {
     "end_time": "2019-09-12T10:08:28.037804Z",
     "start_time": "2019-09-12T10:08:25.478Z"
    }
   },
   "outputs": [],
   "source": [
    "repetitions = 1000\n",
    "mu = 1\n",
    "\n",
    "q_lo = qnorm(0.025)\n",
    "q_hi = qnorm(0.975)\n",
    "\n",
    "ns = vector()\n",
    "counts = vector()\n",
    "countst = vector()\n",
    "\n",
    "for(sample_size in seq(2,100,1)){\n",
    "    count = 0\n",
    "    countt = 0\n",
    "    ns =c(ns,sample_size)\n",
    "    for (i in 1:repetitions){\n",
    "        x = rnorm(sample_size,mu,1)\n",
    "        m = mean(x)\n",
    "        s = sd(x)\n",
    "\n",
    "        lowerbound = m+q_lo*s/sqrt(sample_size)\n",
    "        upperbound = m+q_hi*s/sqrt(sample_size)\n",
    "\n",
    "        if( (mu>=lowerbound)&&(mu<=upperbound) ){\n",
    "            count = count+1\n",
    "        }\n",
    "        \n",
    "        # for the t-distirbution\n",
    "        qt_lo = qt(0.025,df=sample_size-1)\n",
    "        qt_hi = qt(0.975,df=sample_size-1)\n",
    "        \n",
    "        lowerboundt = m+qt_lo*s/sqrt(sample_size)\n",
    "        upperboundt = m+qt_hi*s/sqrt(sample_size)\n",
    "\n",
    "        if( (mu>=lowerboundt)&&(mu<=upperboundt) ){\n",
    "            countt = countt+1\n",
    "        }\n",
    "    }\n",
    "    #count/repetitions\n",
    "    counts = c(counts,count/repetitions)\n",
    "    countst = c(countst,countt/repetitions)\n",
    "}"
   ]
  },
  {
   "cell_type": "code",
   "execution_count": 120,
   "metadata": {
    "ExecuteTime": {
     "end_time": "2019-09-12T10:08:28.102831Z",
     "start_time": "2019-09-12T10:08:26.291Z"
    }
   },
   "outputs": [
    {
     "data": {
      "image/png": "[encoded data removed]",
      "text/plain": [
       "plot without title"
      ]
     },
     "metadata": {},
     "output_type": "display_data"
    }
   ],
   "source": [
    "plot(ns,countst,ylab = \"# times mean is in CI\",xlab=\"sample size\")\n",
    "# lines(ns,counts)\n",
    "# lines(c(0,1000),c(0.95,0.95))\n",
    "abline(h=.95,lty=2)"
   ]
  },
  {
   "cell_type": "markdown",
   "metadata": {},
   "source": [
    "Now, our confidence intervals include the mean 95% of the times, regardless of the sample size."
   ]
  },
  {
   "cell_type": "markdown",
   "metadata": {
    "ExecuteTime": {
     "end_time": "2019-09-12T10:09:57.480048Z",
     "start_time": "2019-09-12T10:09:57.450Z"
    }
   },
   "source": [
    "## how does the t-dist approaches a normal?"
   ]
  },
  {
   "cell_type": "code",
   "execution_count": 121,
   "metadata": {
    "ExecuteTime": {
     "end_time": "2019-09-12T10:14:03.816289Z",
     "start_time": "2019-09-12T10:14:03.793Z"
    }
   },
   "outputs": [],
   "source": [
    "options(repr.plot.width=4, repr.plot.height=4)"
   ]
  },
  {
   "cell_type": "code",
   "execution_count": 122,
   "metadata": {
    "ExecuteTime": {
     "end_time": "2019-09-12T10:19:58.530728Z",
     "start_time": "2019-09-12T10:19:58.436Z"
    },
    "scrolled": false
   },
   "outputs": [
    {
     "data": {
      "image/png": "[encoded data removed]",
      "text/plain": [
       "plot without title"
      ]
     },
     "metadata": {},
     "output_type": "display_data"
    }
   ],
   "source": [
    "xx = seq(-3,3,.1)\n",
    "plot(xx,dnorm(xx),type = 'l',col='black')\n",
    "for (n in seq(2,10,1)){\n",
    "    lines(xx,dt(xx,df=n-1),type = 'l',col='red')\n",
    "}"
   ]
  },
  {
   "cell_type": "code",
   "execution_count": null,
   "metadata": {},
   "outputs": [],
   "source": []
  }
 ],
 "metadata": {
  "kernelspec": {
   "display_name": "R",
   "language": "R",
   "name": "ir"
  },
  "language_info": {
   "codemirror_mode": "r",
   "file_extension": ".r",
   "mimetype": "text/x-r-source",
   "name": "R",
   "pygments_lexer": "r",
   "version": "3.6.1"
  },
  "toc": {
   "base_numbering": 1,
   "nav_menu": {},
   "number_sections": false,
   "sideBar": true,
   "skip_h1_title": false,
   "title_cell": "Table of Contents",
   "title_sidebar": "Contents",
   "toc_cell": false,
   "toc_position": {
    "height": "calc(100% - 180px)",
    "left": "10px",
    "top": "150px",
    "width": "230.8px"
   },
   "toc_section_display": true,
   "toc_window_display": true
  }
 },
 "nbformat": 4,
 "nbformat_minor": 2
}

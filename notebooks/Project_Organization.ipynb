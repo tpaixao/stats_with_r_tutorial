{
 "cells": [
  {
   "cell_type": "markdown",
   "metadata": {},
   "source": [
    "# Project Organization\n",
    "\n",
    "In this notebook, we will just put in practice some of the concepts we went through so far, to create an automated analysis of a growing set of data files.\n",
    "\n",
    "For this we are going to use a dataset that simulates a series of [ELISA](https://en.wikipedia.org/wiki/ELISA) experiments.\n",
    "\n",
    "Your datafiles are organized in a series of folders with date as the name (YYYYMM), and a series of datafiles inside each of them, all named `elisa_YYYYMMDD.xlsx`.\n",
    "\n",
    "<div class=\"alert alert-info\">\n",
    "\n",
    "We want to write a script that reads all datafiles, in all folders, such that we can run the *same* script on your data regardless of the number of folders or datafiles.\n",
    "\n",
    "**By the way**, this is a good structure to use for your projects. \n",
    "\n",
    "</div>\n",
    "\n",
    "\n"
   ]
  },
  {
   "cell_type": "markdown",
   "metadata": {},
   "source": [
    "<div class=\"alert alert-info\">\n",
    "\n",
    "### This is a Jupyter notebook\n",
    "\n",
    "You can learn all about the Jupyter interface [here](https://realpython.com/jupyter-notebook-introduction/)\n",
    "\n",
    "Some basics: \n",
    "Jupyter has two modes: command and edit. When you click a cell, you enter ```edit mode``` and you can edit its contents. To exit ```edit mode```, you press ```ESC```.\n",
    "\n",
    "* Cells can be either code cells or text (or markdown) cells\n",
    "* To run cells, press Shift+enter \n",
    "* To turn a cell into a text cell, press `m` (markdown) in command mode\n",
    "* To create a new cell use `b` (new cell below) or `a` (above) in command mode\n",
    "\n",
    "</div>"
   ]
  },
  {
   "cell_type": "markdown",
   "metadata": {},
   "source": [
    "Let's look at our folders:"
   ]
  },
  {
   "cell_type": "code",
   "execution_count": 3,
   "metadata": {},
   "outputs": [
    {
     "data": {
      "text/html": [
       "<ol class=list-inline>\n",
       "\t<li>'201903'</li>\n",
       "\t<li>'201904'</li>\n",
       "\t<li>'201905'</li>\n",
       "\t<li>'201906'</li>\n",
       "</ol>\n"
      ],
      "text/latex": [
       "\\begin{enumerate*}\n",
       "\\item '201903'\n",
       "\\item '201904'\n",
       "\\item '201905'\n",
       "\\item '201906'\n",
       "\\end{enumerate*}\n"
      ],
      "text/markdown": [
       "1. '201903'\n",
       "2. '201904'\n",
       "3. '201905'\n",
       "4. '201906'\n",
       "\n",
       "\n"
      ],
      "text/plain": [
       "[1] \"201903\" \"201904\" \"201905\" \"201906\""
      ]
     },
     "metadata": {},
     "output_type": "display_data"
    }
   ],
   "source": [
    "setwd('../datasets/ELISAdata/')\n",
    "dir()"
   ]
  },
  {
   "cell_type": "markdown",
   "metadata": {},
   "source": [
    "So, there are 4 folders.\n",
    "Let's list the contents of one of them."
   ]
  },
  {
   "cell_type": "code",
   "execution_count": 4,
   "metadata": {},
   "outputs": [
    {
     "data": {
      "text/html": [
       "<ol class=list-inline>\n",
       "\t<li>'elisa_20190402.xlsx'</li>\n",
       "\t<li>'elisa_20190411.xlsx'</li>\n",
       "\t<li>'elisa_20190427.xlsx'</li>\n",
       "</ol>\n"
      ],
      "text/latex": [
       "\\begin{enumerate*}\n",
       "\\item 'elisa\\_20190402.xlsx'\n",
       "\\item 'elisa\\_20190411.xlsx'\n",
       "\\item 'elisa\\_20190427.xlsx'\n",
       "\\end{enumerate*}\n"
      ],
      "text/markdown": [
       "1. 'elisa_20190402.xlsx'\n",
       "2. 'elisa_20190411.xlsx'\n",
       "3. 'elisa_20190427.xlsx'\n",
       "\n",
       "\n"
      ],
      "text/plain": [
       "[1] \"elisa_20190402.xlsx\" \"elisa_20190411.xlsx\" \"elisa_20190427.xlsx\""
      ]
     },
     "metadata": {},
     "output_type": "display_data"
    }
   ],
   "source": [
    "dir(\"201904\")"
   ]
  },
  {
   "cell_type": "markdown",
   "metadata": {},
   "source": [
    "We need to import the `openxlsx` package, since our datafiles are excel files."
   ]
  },
  {
   "cell_type": "code",
   "execution_count": 1,
   "metadata": {
    "scrolled": true
   },
   "outputs": [
    {
     "name": "stderr",
     "output_type": "stream",
     "text": [
      "Loading required package: openxlsx\n"
     ]
    }
   ],
   "source": [
    "require(openxlsx)"
   ]
  },
  {
   "cell_type": "markdown",
   "metadata": {},
   "source": [
    "let's load one of the datafiles to see its contents"
   ]
  },
  {
   "cell_type": "code",
   "execution_count": 7,
   "metadata": {},
   "outputs": [
    {
     "data": {
      "text/html": [
       "<table>\n",
       "<caption>A data.frame: 6 × 2</caption>\n",
       "<thead>\n",
       "\t<tr><th scope=col>Dilution</th><th scope=col>Signal</th></tr>\n",
       "\t<tr><th scope=col>&lt;dbl&gt;</th><th scope=col>&lt;dbl&gt;</th></tr>\n",
       "</thead>\n",
       "<tbody>\n",
       "\t<tr><td>1.0000000000</td><td>10.052429</td></tr>\n",
       "\t<tr><td>0.1666666667</td><td>10.080984</td></tr>\n",
       "\t<tr><td>0.0277777778</td><td> 9.992279</td></tr>\n",
       "\t<tr><td>0.0046296296</td><td> 9.658551</td></tr>\n",
       "\t<tr><td>0.0007716049</td><td> 7.884615</td></tr>\n",
       "\t<tr><td>0.0001286008</td><td> 3.739220</td></tr>\n",
       "</tbody>\n",
       "</table>\n"
      ],
      "text/latex": [
       "A data.frame: 6 × 2\n",
       "\\begin{tabular}{r|ll}\n",
       " Dilution & Signal\\\\\n",
       " <dbl> & <dbl>\\\\\n",
       "\\hline\n",
       "\t 1.0000000000 & 10.052429\\\\\n",
       "\t 0.1666666667 & 10.080984\\\\\n",
       "\t 0.0277777778 &  9.992279\\\\\n",
       "\t 0.0046296296 &  9.658551\\\\\n",
       "\t 0.0007716049 &  7.884615\\\\\n",
       "\t 0.0001286008 &  3.739220\\\\\n",
       "\\end{tabular}\n"
      ],
      "text/markdown": [
       "\n",
       "A data.frame: 6 × 2\n",
       "\n",
       "| Dilution &lt;dbl&gt; | Signal &lt;dbl&gt; |\n",
       "|---|---|\n",
       "| 1.0000000000 | 10.052429 |\n",
       "| 0.1666666667 | 10.080984 |\n",
       "| 0.0277777778 |  9.992279 |\n",
       "| 0.0046296296 |  9.658551 |\n",
       "| 0.0007716049 |  7.884615 |\n",
       "| 0.0001286008 |  3.739220 |\n",
       "\n"
      ],
      "text/plain": [
       "  Dilution     Signal   \n",
       "1 1.0000000000 10.052429\n",
       "2 0.1666666667 10.080984\n",
       "3 0.0277777778  9.992279\n",
       "4 0.0046296296  9.658551\n",
       "5 0.0007716049  7.884615\n",
       "6 0.0001286008  3.739220"
      ]
     },
     "metadata": {},
     "output_type": "display_data"
    }
   ],
   "source": [
    "data = read.xlsx('201903/elisa_20190316.xlsx',1)\n",
    "head(data)"
   ]
  },
  {
   "cell_type": "code",
   "execution_count": 8,
   "metadata": {},
   "outputs": [
    {
     "data": {
      "image/png": "[encoded data removed]",
      "text/plain": [
       "plot without title"
      ]
     },
     "metadata": {},
     "output_type": "display_data"
    }
   ],
   "source": [
    "plot(log(data[,\"Dilution\"]),data[,\"Signal\"])"
   ]
  },
  {
   "cell_type": "markdown",
   "metadata": {},
   "source": [
    "Notice that we plotted the $\\log$ of the Dilution on the `xx` axis"
   ]
  },
  {
   "cell_type": "markdown",
   "metadata": {},
   "source": [
    "So, the idea is to iterate through all the folder, loading all the datafiles into one data frame. \n",
    "\n",
    "* Get a list of every data folder\n",
    "* For every folder, list the data files inside\n",
    "* Load every datafile and append it to a master list\n",
    "\n",
    "This will return a dataframe with the dilution and signal values of every datafile. We will probably also need to differentiate between the several datafiles, so we will add to a column with the filename."
   ]
  },
  {
   "cell_type": "code",
   "execution_count": 9,
   "metadata": {},
   "outputs": [
    {
     "name": "stdout",
     "output_type": "stream",
     "text": [
      "[1] \"201903\"\n",
      "[1] \"201904\"\n",
      "[1] \"201905\"\n",
      "[1] \"201906\"\n"
     ]
    }
   ],
   "source": [
    "# this will be a vector to store all the dataframes (data files)\n",
    "dfs = vector()\n",
    "\n",
    "# this are all the folders with data inside\n",
    "folders = dir()\n",
    "\n",
    "for (folder in folders){\n",
    "    print(folder)\n",
    "    files = dir(folder)\n",
    "    for (file in files){\n",
    "        df = read.xlsx(paste(folder,file,sep='/'),1)\n",
    "        df[,\"date\"]=substr(file,7,14)\n",
    "        dfs = rbind(dfs,df)\n",
    "    }\n",
    "}"
   ]
  },
  {
   "cell_type": "code",
   "execution_count": 10,
   "metadata": {},
   "outputs": [
    {
     "data": {
      "text/html": [
       "<table>\n",
       "<caption>A data.frame: 80 × 3</caption>\n",
       "<thead>\n",
       "\t<tr><th scope=col>Dilution</th><th scope=col>Signal</th><th scope=col>date</th></tr>\n",
       "\t<tr><th scope=col>&lt;dbl&gt;</th><th scope=col>&lt;dbl&gt;</th><th scope=col>&lt;chr&gt;</th></tr>\n",
       "</thead>\n",
       "<tbody>\n",
       "\t<tr><td>1.000000e+00</td><td>10.0538238</td><td>20190308</td></tr>\n",
       "\t<tr><td>1.666667e-01</td><td> 9.9865811</td><td>20190308</td></tr>\n",
       "\t<tr><td>2.777778e-02</td><td> 9.6186379</td><td>20190308</td></tr>\n",
       "\t<tr><td>4.629630e-03</td><td> 7.7088806</td><td>20190308</td></tr>\n",
       "\t<tr><td>7.716049e-04</td><td> 3.5735819</td><td>20190308</td></tr>\n",
       "\t<tr><td>1.286008e-04</td><td> 1.0060596</td><td>20190308</td></tr>\n",
       "\t<tr><td>2.143347e-05</td><td> 0.2425829</td><td>20190308</td></tr>\n",
       "\t<tr><td>3.572245e-06</td><td> 0.1162421</td><td>20190308</td></tr>\n",
       "\t<tr><td>1.000000e+00</td><td>10.0524289</td><td>20190316</td></tr>\n",
       "\t<tr><td>1.666667e-01</td><td>10.0809836</td><td>20190316</td></tr>\n",
       "\t<tr><td>2.777778e-02</td><td> 9.9922785</td><td>20190316</td></tr>\n",
       "\t<tr><td>4.629630e-03</td><td> 9.6585514</td><td>20190316</td></tr>\n",
       "\t<tr><td>7.716049e-04</td><td> 7.8846147</td><td>20190316</td></tr>\n",
       "\t<tr><td>1.286008e-04</td><td> 3.7392201</td><td>20190316</td></tr>\n",
       "\t<tr><td>2.143347e-05</td><td> 1.0661832</td><td>20190316</td></tr>\n",
       "\t<tr><td>3.572245e-06</td><td> 0.2039019</td><td>20190316</td></tr>\n",
       "\t<tr><td>1.000000e+00</td><td>10.0795308</td><td>20190324</td></tr>\n",
       "\t<tr><td>1.666667e-01</td><td>10.1083372</td><td>20190324</td></tr>\n",
       "\t<tr><td>2.777778e-02</td><td>10.0418079</td><td>20190324</td></tr>\n",
       "\t<tr><td>4.629630e-03</td><td> 9.6609830</td><td>20190324</td></tr>\n",
       "\t<tr><td>7.716049e-04</td><td> 8.2324900</td><td>20190324</td></tr>\n",
       "\t<tr><td>1.286008e-04</td><td> 4.2845553</td><td>20190324</td></tr>\n",
       "\t<tr><td>2.143347e-05</td><td> 1.1821917</td><td>20190324</td></tr>\n",
       "\t<tr><td>3.572245e-06</td><td> 0.3242105</td><td>20190324</td></tr>\n",
       "\t<tr><td>1.000000e+00</td><td>10.0723671</td><td>20190402</td></tr>\n",
       "\t<tr><td>1.666667e-01</td><td>10.1340633</td><td>20190402</td></tr>\n",
       "\t<tr><td>2.777778e-02</td><td>10.0072400</td><td>20190402</td></tr>\n",
       "\t<tr><td>4.629630e-03</td><td> 9.8925152</td><td>20190402</td></tr>\n",
       "\t<tr><td>7.716049e-04</td><td> 9.0459321</td><td>20190402</td></tr>\n",
       "\t<tr><td>1.286008e-04</td><td> 5.8690253</td><td>20190402</td></tr>\n",
       "\t<tr><td>⋮</td><td>⋮</td><td>⋮</td></tr>\n",
       "\t<tr><td>2.777778e-02</td><td>10.0603481</td><td>20190504</td></tr>\n",
       "\t<tr><td>4.629630e-03</td><td> 9.9872319</td><td>20190504</td></tr>\n",
       "\t<tr><td>7.716049e-04</td><td> 9.3697555</td><td>20190504</td></tr>\n",
       "\t<tr><td>1.286008e-04</td><td> 7.0152405</td><td>20190504</td></tr>\n",
       "\t<tr><td>2.143347e-05</td><td> 2.7950778</td><td>20190504</td></tr>\n",
       "\t<tr><td>3.572245e-06</td><td> 0.7696699</td><td>20190504</td></tr>\n",
       "\t<tr><td>1.000000e+00</td><td>10.0757465</td><td>20190517</td></tr>\n",
       "\t<tr><td>1.666667e-01</td><td>10.1245126</td><td>20190517</td></tr>\n",
       "\t<tr><td>2.777778e-02</td><td>10.1034821</td><td>20190517</td></tr>\n",
       "\t<tr><td>4.629630e-03</td><td> 9.9294000</td><td>20190517</td></tr>\n",
       "\t<tr><td>7.716049e-04</td><td> 8.6631592</td><td>20190517</td></tr>\n",
       "\t<tr><td>1.286008e-04</td><td> 5.1720961</td><td>20190517</td></tr>\n",
       "\t<tr><td>2.143347e-05</td><td> 1.5406800</td><td>20190517</td></tr>\n",
       "\t<tr><td>3.572245e-06</td><td> 0.5102700</td><td>20190517</td></tr>\n",
       "\t<tr><td>1.000000e+00</td><td>10.0319469</td><td>20190618</td></tr>\n",
       "\t<tr><td>1.666667e-01</td><td>10.1590617</td><td>20190618</td></tr>\n",
       "\t<tr><td>2.777778e-02</td><td>10.0724210</td><td>20190618</td></tr>\n",
       "\t<tr><td>4.629630e-03</td><td>10.0247168</td><td>20190618</td></tr>\n",
       "\t<tr><td>7.716049e-04</td><td> 9.4992384</td><td>20190618</td></tr>\n",
       "\t<tr><td>1.286008e-04</td><td> 7.3620642</td><td>20190618</td></tr>\n",
       "\t<tr><td>2.143347e-05</td><td> 3.1142112</td><td>20190618</td></tr>\n",
       "\t<tr><td>3.572245e-06</td><td> 0.7910118</td><td>20190618</td></tr>\n",
       "\t<tr><td>1.000000e+00</td><td>10.0662264</td><td>20190621</td></tr>\n",
       "\t<tr><td>1.666667e-01</td><td>10.1941757</td><td>20190621</td></tr>\n",
       "\t<tr><td>2.777778e-02</td><td>10.0630237</td><td>20190621</td></tr>\n",
       "\t<tr><td>4.629630e-03</td><td>10.0701870</td><td>20190621</td></tr>\n",
       "\t<tr><td>7.716049e-04</td><td> 9.8930369</td><td>20190621</td></tr>\n",
       "\t<tr><td>1.286008e-04</td><td> 8.7998950</td><td>20190621</td></tr>\n",
       "\t<tr><td>2.143347e-05</td><td> 5.5001536</td><td>20190621</td></tr>\n",
       "\t<tr><td>3.572245e-06</td><td> 1.6524167</td><td>20190621</td></tr>\n",
       "</tbody>\n",
       "</table>\n"
      ],
      "text/latex": [
       "A data.frame: 80 × 3\n",
       "\\begin{tabular}{r|lll}\n",
       " Dilution & Signal & date\\\\\n",
       " <dbl> & <dbl> & <chr>\\\\\n",
       "\\hline\n",
       "\t 1.000000e+00 & 10.0538238 & 20190308\\\\\n",
       "\t 1.666667e-01 &  9.9865811 & 20190308\\\\\n",
       "\t 2.777778e-02 &  9.6186379 & 20190308\\\\\n",
       "\t 4.629630e-03 &  7.7088806 & 20190308\\\\\n",
       "\t 7.716049e-04 &  3.5735819 & 20190308\\\\\n",
       "\t 1.286008e-04 &  1.0060596 & 20190308\\\\\n",
       "\t 2.143347e-05 &  0.2425829 & 20190308\\\\\n",
       "\t 3.572245e-06 &  0.1162421 & 20190308\\\\\n",
       "\t 1.000000e+00 & 10.0524289 & 20190316\\\\\n",
       "\t 1.666667e-01 & 10.0809836 & 20190316\\\\\n",
       "\t 2.777778e-02 &  9.9922785 & 20190316\\\\\n",
       "\t 4.629630e-03 &  9.6585514 & 20190316\\\\\n",
       "\t 7.716049e-04 &  7.8846147 & 20190316\\\\\n",
       "\t 1.286008e-04 &  3.7392201 & 20190316\\\\\n",
       "\t 2.143347e-05 &  1.0661832 & 20190316\\\\\n",
       "\t 3.572245e-06 &  0.2039019 & 20190316\\\\\n",
       "\t 1.000000e+00 & 10.0795308 & 20190324\\\\\n",
       "\t 1.666667e-01 & 10.1083372 & 20190324\\\\\n",
       "\t 2.777778e-02 & 10.0418079 & 20190324\\\\\n",
       "\t 4.629630e-03 &  9.6609830 & 20190324\\\\\n",
       "\t 7.716049e-04 &  8.2324900 & 20190324\\\\\n",
       "\t 1.286008e-04 &  4.2845553 & 20190324\\\\\n",
       "\t 2.143347e-05 &  1.1821917 & 20190324\\\\\n",
       "\t 3.572245e-06 &  0.3242105 & 20190324\\\\\n",
       "\t 1.000000e+00 & 10.0723671 & 20190402\\\\\n",
       "\t 1.666667e-01 & 10.1340633 & 20190402\\\\\n",
       "\t 2.777778e-02 & 10.0072400 & 20190402\\\\\n",
       "\t 4.629630e-03 &  9.8925152 & 20190402\\\\\n",
       "\t 7.716049e-04 &  9.0459321 & 20190402\\\\\n",
       "\t 1.286008e-04 &  5.8690253 & 20190402\\\\\n",
       "\t ⋮ & ⋮ & ⋮\\\\\n",
       "\t 2.777778e-02 & 10.0603481 & 20190504\\\\\n",
       "\t 4.629630e-03 &  9.9872319 & 20190504\\\\\n",
       "\t 7.716049e-04 &  9.3697555 & 20190504\\\\\n",
       "\t 1.286008e-04 &  7.0152405 & 20190504\\\\\n",
       "\t 2.143347e-05 &  2.7950778 & 20190504\\\\\n",
       "\t 3.572245e-06 &  0.7696699 & 20190504\\\\\n",
       "\t 1.000000e+00 & 10.0757465 & 20190517\\\\\n",
       "\t 1.666667e-01 & 10.1245126 & 20190517\\\\\n",
       "\t 2.777778e-02 & 10.1034821 & 20190517\\\\\n",
       "\t 4.629630e-03 &  9.9294000 & 20190517\\\\\n",
       "\t 7.716049e-04 &  8.6631592 & 20190517\\\\\n",
       "\t 1.286008e-04 &  5.1720961 & 20190517\\\\\n",
       "\t 2.143347e-05 &  1.5406800 & 20190517\\\\\n",
       "\t 3.572245e-06 &  0.5102700 & 20190517\\\\\n",
       "\t 1.000000e+00 & 10.0319469 & 20190618\\\\\n",
       "\t 1.666667e-01 & 10.1590617 & 20190618\\\\\n",
       "\t 2.777778e-02 & 10.0724210 & 20190618\\\\\n",
       "\t 4.629630e-03 & 10.0247168 & 20190618\\\\\n",
       "\t 7.716049e-04 &  9.4992384 & 20190618\\\\\n",
       "\t 1.286008e-04 &  7.3620642 & 20190618\\\\\n",
       "\t 2.143347e-05 &  3.1142112 & 20190618\\\\\n",
       "\t 3.572245e-06 &  0.7910118 & 20190618\\\\\n",
       "\t 1.000000e+00 & 10.0662264 & 20190621\\\\\n",
       "\t 1.666667e-01 & 10.1941757 & 20190621\\\\\n",
       "\t 2.777778e-02 & 10.0630237 & 20190621\\\\\n",
       "\t 4.629630e-03 & 10.0701870 & 20190621\\\\\n",
       "\t 7.716049e-04 &  9.8930369 & 20190621\\\\\n",
       "\t 1.286008e-04 &  8.7998950 & 20190621\\\\\n",
       "\t 2.143347e-05 &  5.5001536 & 20190621\\\\\n",
       "\t 3.572245e-06 &  1.6524167 & 20190621\\\\\n",
       "\\end{tabular}\n"
      ],
      "text/markdown": [
       "\n",
       "A data.frame: 80 × 3\n",
       "\n",
       "| Dilution &lt;dbl&gt; | Signal &lt;dbl&gt; | date &lt;chr&gt; |\n",
       "|---|---|---|\n",
       "| 1.000000e+00 | 10.0538238 | 20190308 |\n",
       "| 1.666667e-01 |  9.9865811 | 20190308 |\n",
       "| 2.777778e-02 |  9.6186379 | 20190308 |\n",
       "| 4.629630e-03 |  7.7088806 | 20190308 |\n",
       "| 7.716049e-04 |  3.5735819 | 20190308 |\n",
       "| 1.286008e-04 |  1.0060596 | 20190308 |\n",
       "| 2.143347e-05 |  0.2425829 | 20190308 |\n",
       "| 3.572245e-06 |  0.1162421 | 20190308 |\n",
       "| 1.000000e+00 | 10.0524289 | 20190316 |\n",
       "| 1.666667e-01 | 10.0809836 | 20190316 |\n",
       "| 2.777778e-02 |  9.9922785 | 20190316 |\n",
       "| 4.629630e-03 |  9.6585514 | 20190316 |\n",
       "| 7.716049e-04 |  7.8846147 | 20190316 |\n",
       "| 1.286008e-04 |  3.7392201 | 20190316 |\n",
       "| 2.143347e-05 |  1.0661832 | 20190316 |\n",
       "| 3.572245e-06 |  0.2039019 | 20190316 |\n",
       "| 1.000000e+00 | 10.0795308 | 20190324 |\n",
       "| 1.666667e-01 | 10.1083372 | 20190324 |\n",
       "| 2.777778e-02 | 10.0418079 | 20190324 |\n",
       "| 4.629630e-03 |  9.6609830 | 20190324 |\n",
       "| 7.716049e-04 |  8.2324900 | 20190324 |\n",
       "| 1.286008e-04 |  4.2845553 | 20190324 |\n",
       "| 2.143347e-05 |  1.1821917 | 20190324 |\n",
       "| 3.572245e-06 |  0.3242105 | 20190324 |\n",
       "| 1.000000e+00 | 10.0723671 | 20190402 |\n",
       "| 1.666667e-01 | 10.1340633 | 20190402 |\n",
       "| 2.777778e-02 | 10.0072400 | 20190402 |\n",
       "| 4.629630e-03 |  9.8925152 | 20190402 |\n",
       "| 7.716049e-04 |  9.0459321 | 20190402 |\n",
       "| 1.286008e-04 |  5.8690253 | 20190402 |\n",
       "| ⋮ | ⋮ | ⋮ |\n",
       "| 2.777778e-02 | 10.0603481 | 20190504 |\n",
       "| 4.629630e-03 |  9.9872319 | 20190504 |\n",
       "| 7.716049e-04 |  9.3697555 | 20190504 |\n",
       "| 1.286008e-04 |  7.0152405 | 20190504 |\n",
       "| 2.143347e-05 |  2.7950778 | 20190504 |\n",
       "| 3.572245e-06 |  0.7696699 | 20190504 |\n",
       "| 1.000000e+00 | 10.0757465 | 20190517 |\n",
       "| 1.666667e-01 | 10.1245126 | 20190517 |\n",
       "| 2.777778e-02 | 10.1034821 | 20190517 |\n",
       "| 4.629630e-03 |  9.9294000 | 20190517 |\n",
       "| 7.716049e-04 |  8.6631592 | 20190517 |\n",
       "| 1.286008e-04 |  5.1720961 | 20190517 |\n",
       "| 2.143347e-05 |  1.5406800 | 20190517 |\n",
       "| 3.572245e-06 |  0.5102700 | 20190517 |\n",
       "| 1.000000e+00 | 10.0319469 | 20190618 |\n",
       "| 1.666667e-01 | 10.1590617 | 20190618 |\n",
       "| 2.777778e-02 | 10.0724210 | 20190618 |\n",
       "| 4.629630e-03 | 10.0247168 | 20190618 |\n",
       "| 7.716049e-04 |  9.4992384 | 20190618 |\n",
       "| 1.286008e-04 |  7.3620642 | 20190618 |\n",
       "| 2.143347e-05 |  3.1142112 | 20190618 |\n",
       "| 3.572245e-06 |  0.7910118 | 20190618 |\n",
       "| 1.000000e+00 | 10.0662264 | 20190621 |\n",
       "| 1.666667e-01 | 10.1941757 | 20190621 |\n",
       "| 2.777778e-02 | 10.0630237 | 20190621 |\n",
       "| 4.629630e-03 | 10.0701870 | 20190621 |\n",
       "| 7.716049e-04 |  9.8930369 | 20190621 |\n",
       "| 1.286008e-04 |  8.7998950 | 20190621 |\n",
       "| 2.143347e-05 |  5.5001536 | 20190621 |\n",
       "| 3.572245e-06 |  1.6524167 | 20190621 |\n",
       "\n"
      ],
      "text/plain": [
       "   Dilution     Signal     date    \n",
       "1  1.000000e+00 10.0538238 20190308\n",
       "2  1.666667e-01  9.9865811 20190308\n",
       "3  2.777778e-02  9.6186379 20190308\n",
       "4  4.629630e-03  7.7088806 20190308\n",
       "5  7.716049e-04  3.5735819 20190308\n",
       "6  1.286008e-04  1.0060596 20190308\n",
       "7  2.143347e-05  0.2425829 20190308\n",
       "8  3.572245e-06  0.1162421 20190308\n",
       "9  1.000000e+00 10.0524289 20190316\n",
       "10 1.666667e-01 10.0809836 20190316\n",
       "11 2.777778e-02  9.9922785 20190316\n",
       "12 4.629630e-03  9.6585514 20190316\n",
       "13 7.716049e-04  7.8846147 20190316\n",
       "14 1.286008e-04  3.7392201 20190316\n",
       "15 2.143347e-05  1.0661832 20190316\n",
       "16 3.572245e-06  0.2039019 20190316\n",
       "17 1.000000e+00 10.0795308 20190324\n",
       "18 1.666667e-01 10.1083372 20190324\n",
       "19 2.777778e-02 10.0418079 20190324\n",
       "20 4.629630e-03  9.6609830 20190324\n",
       "21 7.716049e-04  8.2324900 20190324\n",
       "22 1.286008e-04  4.2845553 20190324\n",
       "23 2.143347e-05  1.1821917 20190324\n",
       "24 3.572245e-06  0.3242105 20190324\n",
       "25 1.000000e+00 10.0723671 20190402\n",
       "26 1.666667e-01 10.1340633 20190402\n",
       "27 2.777778e-02 10.0072400 20190402\n",
       "28 4.629630e-03  9.8925152 20190402\n",
       "29 7.716049e-04  9.0459321 20190402\n",
       "30 1.286008e-04  5.8690253 20190402\n",
       "<U+22EE>  <U+22EE>     <U+22EE>   <U+22EE>\n",
       "51 2.777778e-02 10.0603481 20190504\n",
       "52 4.629630e-03  9.9872319 20190504\n",
       "53 7.716049e-04  9.3697555 20190504\n",
       "54 1.286008e-04  7.0152405 20190504\n",
       "55 2.143347e-05  2.7950778 20190504\n",
       "56 3.572245e-06  0.7696699 20190504\n",
       "57 1.000000e+00 10.0757465 20190517\n",
       "58 1.666667e-01 10.1245126 20190517\n",
       "59 2.777778e-02 10.1034821 20190517\n",
       "60 4.629630e-03  9.9294000 20190517\n",
       "61 7.716049e-04  8.6631592 20190517\n",
       "62 1.286008e-04  5.1720961 20190517\n",
       "63 2.143347e-05  1.5406800 20190517\n",
       "64 3.572245e-06  0.5102700 20190517\n",
       "65 1.000000e+00 10.0319469 20190618\n",
       "66 1.666667e-01 10.1590617 20190618\n",
       "67 2.777778e-02 10.0724210 20190618\n",
       "68 4.629630e-03 10.0247168 20190618\n",
       "69 7.716049e-04  9.4992384 20190618\n",
       "70 1.286008e-04  7.3620642 20190618\n",
       "71 2.143347e-05  3.1142112 20190618\n",
       "72 3.572245e-06  0.7910118 20190618\n",
       "73 1.000000e+00 10.0662264 20190621\n",
       "74 1.666667e-01 10.1941757 20190621\n",
       "75 2.777778e-02 10.0630237 20190621\n",
       "76 4.629630e-03 10.0701870 20190621\n",
       "77 7.716049e-04  9.8930369 20190621\n",
       "78 1.286008e-04  8.7998950 20190621\n",
       "79 2.143347e-05  5.5001536 20190621\n",
       "80 3.572245e-06  1.6524167 20190621"
      ]
     },
     "metadata": {},
     "output_type": "display_data"
    }
   ],
   "source": [
    "dfs"
   ]
  },
  {
   "cell_type": "code",
   "execution_count": 11,
   "metadata": {},
   "outputs": [
    {
     "data": {
      "image/png": "[encoded data removed]",
      "text/plain": [
       "plot without title"
      ]
     },
     "metadata": {},
     "output_type": "display_data"
    }
   ],
   "source": [
    "plot(log(dfs[,\"Dilution\"]),dfs[,\"Signal\"])"
   ]
  },
  {
   "cell_type": "markdown",
   "metadata": {},
   "source": [
    "## bonus: Fitting a function to the data\n",
    "\n",
    "The data seems to be sigmoidal in shape. So, let's try to fit a Michalis-Menten curve to it:\n",
    "\n",
    "$$\n",
    "S = k_2\\frac{C}{k_1 + C}\n",
    "$$\n",
    "\n",
    "where $D$ is the dilution.\n",
    "\n",
    "In order to perform the fitting, we will use the function `nls()`. We will fit 2 parameters $k_1$ and $k_2$.\n",
    "\n",
    "`nls()` takes 3 arguments:\n",
    "\n",
    "* the model\n",
    "* starting values for the parameters\n",
    "* and the data\n",
    "\n",
    "The model is specified using the column names like this:\n",
    "\n",
    "```\n",
    "Signal ~ k2*Dilution/(k1+Dilution)\n",
    "```\n",
    "\n",
    "The data is passed as the dataframe we just constructed."
   ]
  },
  {
   "cell_type": "code",
   "execution_count": 13,
   "metadata": {},
   "outputs": [],
   "source": [
    "mod <- nls(Signal ~ k2*Dilution/(k1+Dilution),start=list(k1=.5,k2=10),data = dfs)"
   ]
  },
  {
   "cell_type": "markdown",
   "metadata": {},
   "source": [
    "The variable `mod` now contains the result of the fitting. "
   ]
  },
  {
   "cell_type": "code",
   "execution_count": 15,
   "metadata": {},
   "outputs": [
    {
     "data": {
      "text/plain": [
       "Nonlinear regression model\n",
       "  model: Signal ~ k2 * Dilution/(k1 + Dilution)\n",
       "   data: dfs\n",
       "       k1        k2 \n",
       "8.841e-05 9.937e+00 \n",
       " residual sum-of-squares: 108\n",
       "\n",
       "Number of iterations to convergence: 13 \n",
       "Achieved convergence tolerance: 3.006e-06"
      ]
     },
     "metadata": {},
     "output_type": "display_data"
    }
   ],
   "source": [
    "mod"
   ]
  },
  {
   "cell_type": "markdown",
   "metadata": {},
   "source": [
    "And now we can plot the fitting. Notice that \n",
    "\n",
    "1. we needed to construct a set of `xx` values that are equidistance in in log scale, and then exponentiate those because we will plot them in log-scale\n",
    "2. We had to add these `xx` values to a dataframe, in a column called `Dilution`.\n",
    "3. In order to get the results of the fitting, we `predict()` those values.\n"
   ]
  },
  {
   "cell_type": "code",
   "execution_count": 20,
   "metadata": {},
   "outputs": [
    {
     "data": {
      "image/png": "[encoded data removed]",
      "text/plain": [
       "plot without title"
      ]
     },
     "metadata": {},
     "output_type": "display_data"
    }
   ],
   "source": [
    "xx = exp(seq(log(1e-12), log(1), length.out = 100))\n",
    "myx = data.frame(Dilution = c(xx))\n",
    "\n",
    "preds = predict(mod,myx)\n",
    "\n",
    "plot(log(dfs[,\"Dilution\"]),dfs[,\"Signal\"])\n",
    "lines(log(xx),preds)"
   ]
  },
  {
   "cell_type": "markdown",
   "metadata": {},
   "source": [
    "<div class=\"alert alert-info\">\n",
    "\n",
    "Later, we will have a tutorial about how to fit functions and the theory behind it.\n",
    "\n",
    "</div>"
   ]
  },
  {
   "cell_type": "code",
   "execution_count": null,
   "metadata": {},
   "outputs": [],
   "source": []
  }
 ],
 "metadata": {
  "kernelspec": {
   "display_name": "R",
   "language": "R",
   "name": "ir"
  },
  "language_info": {
   "codemirror_mode": "r",
   "file_extension": ".r",
   "mimetype": "text/x-r-source",
   "name": "R",
   "pygments_lexer": "r",
   "version": "3.6.1"
  }
 },
 "nbformat": 4,
 "nbformat_minor": 2
}

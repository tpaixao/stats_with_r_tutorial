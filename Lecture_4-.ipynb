{
 "cells": [
  {
   "cell_type": "markdown",
   "metadata": {},
   "source": [
    "# Formal descriptions of data"
   ]
  },
  {
   "cell_type": "markdown",
   "metadata": {},
   "source": [
    "## Measures of location and spread\n",
    "\n",
    "Location:\n",
    "* Mean   \n",
    "* Median\n",
    "* mode  \n",
    "\n",
    "Spread:\n",
    "* Variance\n",
    "* standard deviation\n",
    "* standard error\n",
    "* interquantile range\n",
    "\n",
    "the difference between using standard deviation and standard error.\n",
    "\n",
    "**Mean**: $\\bar{x}= \\frac{1}{n}\\sum{x_i}$ or $\\bar{y} = \\sum{y_i}f(y_i)$\n",
    "\n",
    "**Variance**: $s^2 = \\frac{1}{n-1}\\sum(x_i-\\bar{x})^2$ or ..\n",
    "\n",
    "**Standard Error**: $SE_x = \\frac{s}{\\sqrt{n}}$"
   ]
  },
  {
   "cell_type": "markdown",
   "metadata": {},
   "source": [
    "Why is there a $n-1$ factor in the estimator for the variance?\n",
    "\n",
    "$\\textrm{Var(X)} = E[ (X-E[X])^2 ]$\n",
    "\n",
    "if $X_i,X_j$ are independent $E[X_i X_j] = E[X_i]E[X_j]$\n",
    "\n",
    "$\\frac{1}{n}\\sum_i(x_i-\\frac{1}{n}\\sum_j x_j)^2 = \\frac{1}{n} \\cdot\\cdot\\cdot$\n",
    "\n",
    "the cross-term is:\n",
    "$$\n",
    "-\\frac{2}{n^2}\\sum_i x_i \\sum_j x_j\n",
    "$$"
   ]
  },
  {
   "cell_type": "markdown",
   "metadata": {},
   "source": [
    "# estimators"
   ]
  },
  {
   "cell_type": "markdown",
   "metadata": {},
   "source": [
    "The median is less precise than the mean.\n",
    "\n",
    "Accuracy and precision\n",
    "\n",
    "Agresti-Coull method for confidence intervals of proportions:\n",
    "$$p^\\prime = \\frac{X+2}{n+4}$$\n",
    "\n",
    "$$ \n",
    "p^\\prime\\pm Z_{1-\\alpha/2} \\sqrt{\\frac{p^\\prime (1-p^\\prime)}{n}}\n",
    "$$"
   ]
  },
  {
   "cell_type": "markdown",
   "metadata": {
    "ExecuteTime": {
     "end_time": "2019-09-13T10:34:49.973502Z",
     "start_time": "2019-09-13T10:34:49.762Z"
    }
   },
   "source": [
    "## error propagation\n",
    "\n",
    "$R = R(x,y,...)$ with errors $\\delta_x$, $\\delta_y$, ...\n",
    "\n",
    "the uncertainty is:\n",
    "\n",
    "$$\n",
    "\\delta_R = \\sqrt{\\left(\\frac{\\partial R}{\\partial x}\\delta_x\\right)^2 + ...}\n",
    "$$"
   ]
  },
  {
   "cell_type": "code",
   "execution_count": 5,
   "metadata": {
    "ExecuteTime": {
     "end_time": "2019-09-13T10:50:25.566604Z",
     "start_time": "2019-09-13T10:50:25.488Z"
    }
   },
   "outputs": [
    {
     "data": {
      "text/html": [
       "2.71828182845905"
      ],
      "text/latex": [
       "2.71828182845905"
      ],
      "text/markdown": [
       "2.71828182845905"
      ],
      "text/plain": [
       "[1] 2.718282"
      ]
     },
     "metadata": {},
     "output_type": "display_data"
    }
   ],
   "source": [
    "exp(1)"
   ]
  },
  {
   "cell_type": "code",
   "execution_count": null,
   "metadata": {},
   "outputs": [],
   "source": []
  }
 ],
 "metadata": {
  "anaconda-cloud": {},
  "kernelspec": {
   "display_name": "R",
   "language": "R",
   "name": "ir"
  },
  "language_info": {
   "codemirror_mode": "r",
   "file_extension": ".r",
   "mimetype": "text/x-r-source",
   "name": "R",
   "pygments_lexer": "r",
   "version": "3.6.1"
  },
  "toc": {
   "base_numbering": 1,
   "nav_menu": {},
   "number_sections": false,
   "sideBar": true,
   "skip_h1_title": false,
   "title_cell": "Table of Contents",
   "title_sidebar": "Contents",
   "toc_cell": false,
   "toc_position": {
    "height": "calc(100% - 180px)",
    "left": "10px",
    "top": "150px",
    "width": "245.6px"
   },
   "toc_section_display": true,
   "toc_window_display": true
  }
 },
 "nbformat": 4,
 "nbformat_minor": 2
}
